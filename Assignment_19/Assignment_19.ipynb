{
 "cells": [
  {
   "cell_type": "markdown",
   "id": "2fa00aaf-d79d-4cc0-850f-a12adeffa9db",
   "metadata": {},
   "source": [
    "# Assignment 19 : Text Classification using Naive Bayes and Sentiment Analysis on Blog Posts"
   ]
  },
  {
   "cell_type": "markdown",
   "id": "2e93b12f-34a9-46cf-b279-f3ce8c6773c0",
   "metadata": {},
   "source": [
    "## Objective :\n",
    "\n",
    " Building the text Classification model using the Naive Bayes algorithm to categorize the blog posts accurately, and performing sentiment analysis to understand the general sentiment (positive,negative,neutral) expressed in the posts."
   ]
  },
  {
   "cell_type": "markdown",
   "id": "c88b7974-1cea-4229-a01b-64657d71cade",
   "metadata": {},
   "source": [
    "## Dataset Description:\n",
    "\n",
    "**Text**: Then content of the blog post, column name:Data\n",
    "\n",
    "**Category**: The category to which the blog post belongs, Cloumn name : Labels"
   ]
  },
  {
   "cell_type": "markdown",
   "id": "8dd99fa6-9a95-42fa-bcfd-141aabcde169",
   "metadata": {},
   "source": [
    "## Task 1 : Data Exploration and Preprocessing"
   ]
  },
  {
   "cell_type": "code",
   "execution_count": 1,
   "id": "74a6a7fd-6449-45d4-b7b0-f2f808cbe532",
   "metadata": {},
   "outputs": [],
   "source": [
    "# Import necessary libraries.\n",
    "import pandas as pd\n",
    "import numpy as np\n",
    "import seaborn as sns\n",
    "import warnings\n",
    "warnings.filterwarnings(\"ignore\")"
   ]
  },
  {
   "cell_type": "code",
   "execution_count": 2,
   "id": "64df1d87-7e63-460a-8436-8e59532a6c32",
   "metadata": {},
   "outputs": [],
   "source": [
    "# load the dataset.\n",
    "data = pd.read_csv(\"blogs.csv\")"
   ]
  },
  {
   "cell_type": "code",
   "execution_count": 3,
   "id": "42f308e4-113c-451e-a999-622538620a23",
   "metadata": {},
   "outputs": [
    {
     "name": "stdout",
     "output_type": "stream",
     "text": [
      "<class 'pandas.core.frame.DataFrame'>\n",
      "RangeIndex: 2000 entries, 0 to 1999\n",
      "Data columns (total 2 columns):\n",
      " #   Column  Non-Null Count  Dtype \n",
      "---  ------  --------------  ----- \n",
      " 0   Data    2000 non-null   object\n",
      " 1   Labels  2000 non-null   object\n",
      "dtypes: object(2)\n",
      "memory usage: 31.4+ KB\n"
     ]
    }
   ],
   "source": [
    "data.info()"
   ]
  },
  {
   "cell_type": "code",
   "execution_count": 4,
   "id": "41652664-48a9-4b63-8f68-09f4f9d9cd08",
   "metadata": {},
   "outputs": [
    {
     "data": {
      "text/html": [
       "<div>\n",
       "<style scoped>\n",
       "    .dataframe tbody tr th:only-of-type {\n",
       "        vertical-align: middle;\n",
       "    }\n",
       "\n",
       "    .dataframe tbody tr th {\n",
       "        vertical-align: top;\n",
       "    }\n",
       "\n",
       "    .dataframe thead th {\n",
       "        text-align: right;\n",
       "    }\n",
       "</style>\n",
       "<table border=\"1\" class=\"dataframe\">\n",
       "  <thead>\n",
       "    <tr style=\"text-align: right;\">\n",
       "      <th></th>\n",
       "      <th>Data</th>\n",
       "      <th>Labels</th>\n",
       "    </tr>\n",
       "  </thead>\n",
       "  <tbody>\n",
       "    <tr>\n",
       "      <th>0</th>\n",
       "      <td>Path: cantaloupe.srv.cs.cmu.edu!magnesium.club...</td>\n",
       "      <td>alt.atheism</td>\n",
       "    </tr>\n",
       "    <tr>\n",
       "      <th>1</th>\n",
       "      <td>Newsgroups: alt.atheism\\nPath: cantaloupe.srv....</td>\n",
       "      <td>alt.atheism</td>\n",
       "    </tr>\n",
       "    <tr>\n",
       "      <th>2</th>\n",
       "      <td>Path: cantaloupe.srv.cs.cmu.edu!das-news.harva...</td>\n",
       "      <td>alt.atheism</td>\n",
       "    </tr>\n",
       "    <tr>\n",
       "      <th>3</th>\n",
       "      <td>Path: cantaloupe.srv.cs.cmu.edu!magnesium.club...</td>\n",
       "      <td>alt.atheism</td>\n",
       "    </tr>\n",
       "    <tr>\n",
       "      <th>4</th>\n",
       "      <td>Xref: cantaloupe.srv.cs.cmu.edu alt.atheism:53...</td>\n",
       "      <td>alt.atheism</td>\n",
       "    </tr>\n",
       "  </tbody>\n",
       "</table>\n",
       "</div>"
      ],
      "text/plain": [
       "                                                Data       Labels\n",
       "0  Path: cantaloupe.srv.cs.cmu.edu!magnesium.club...  alt.atheism\n",
       "1  Newsgroups: alt.atheism\\nPath: cantaloupe.srv....  alt.atheism\n",
       "2  Path: cantaloupe.srv.cs.cmu.edu!das-news.harva...  alt.atheism\n",
       "3  Path: cantaloupe.srv.cs.cmu.edu!magnesium.club...  alt.atheism\n",
       "4  Xref: cantaloupe.srv.cs.cmu.edu alt.atheism:53...  alt.atheism"
      ]
     },
     "execution_count": 4,
     "metadata": {},
     "output_type": "execute_result"
    }
   ],
   "source": [
    "data.head()"
   ]
  },
  {
   "cell_type": "code",
   "execution_count": 5,
   "id": "923c9705-70bf-4d99-905a-d676f30252ce",
   "metadata": {},
   "outputs": [
    {
     "data": {
      "text/plain": [
       "array(['alt.atheism', 'comp.graphics', 'comp.os.ms-windows.misc',\n",
       "       'comp.sys.ibm.pc.hardware', 'comp.sys.mac.hardware',\n",
       "       'comp.windows.x', 'misc.forsale', 'rec.autos', 'rec.motorcycles',\n",
       "       'rec.sport.baseball', 'rec.sport.hockey', 'sci.crypt',\n",
       "       'sci.electronics', 'sci.med', 'sci.space',\n",
       "       'soc.religion.christian', 'talk.politics.guns',\n",
       "       'talk.politics.mideast', 'talk.politics.misc',\n",
       "       'talk.religion.misc'], dtype=object)"
      ]
     },
     "execution_count": 5,
     "metadata": {},
     "output_type": "execute_result"
    }
   ],
   "source": [
    "data.Labels.unique()"
   ]
  },
  {
   "cell_type": "code",
   "execution_count": 6,
   "id": "a679834a-4fad-4b07-ba61-6dba98d5fd1f",
   "metadata": {},
   "outputs": [
    {
     "data": {
      "text/plain": [
       "0"
      ]
     },
     "execution_count": 6,
     "metadata": {},
     "output_type": "execute_result"
    }
   ],
   "source": [
    "data.duplicated().sum()"
   ]
  },
  {
   "cell_type": "code",
   "execution_count": 7,
   "id": "9945917c-1d40-4809-b49a-4e42a4c25947",
   "metadata": {},
   "outputs": [
    {
     "data": {
      "text/plain": [
       "Data      0\n",
       "Labels    0\n",
       "dtype: int64"
      ]
     },
     "execution_count": 7,
     "metadata": {},
     "output_type": "execute_result"
    }
   ],
   "source": [
    "data.isna().sum()"
   ]
  },
  {
   "cell_type": "code",
   "execution_count": 9,
   "id": "22ee2624-28cf-4975-8bda-5abdcebf6e45",
   "metadata": {},
   "outputs": [
    {
     "name": "stderr",
     "output_type": "stream",
     "text": [
      "[nltk_data] Downloading package stopwords to\n",
      "[nltk_data]     C:\\Users\\venky\\AppData\\Roaming\\nltk_data...\n",
      "[nltk_data]   Package stopwords is already up-to-date!\n"
     ]
    },
    {
     "data": {
      "text/plain": [
       "True"
      ]
     },
     "execution_count": 9,
     "metadata": {},
     "output_type": "execute_result"
    }
   ],
   "source": [
    "# Removing stop words.\n",
    "\n",
    "import nltk\n",
    "nltk.download(\"stopwords\")"
   ]
  },
  {
   "cell_type": "code",
   "execution_count": 20,
   "id": "a9dcbff0-83bc-4f9b-8560-cfce325912c6",
   "metadata": {},
   "outputs": [],
   "source": [
    "# Preprocessing function\n",
    "def clean_text(text):\n",
    "   \n",
    "    text = text.lower()\n",
    "\n",
    "    text = re.sub(r'[^\\w\\s]', '', text)\n",
    "    text = re.sub(r'\\d+', '', text)\n",
    "    \n",
    "    stop_words = set(stopwords.words('english'))\n",
    "    text = ' '.join(word for word in text.split() if word not in stop_words)\n",
    "    return text"
   ]
  },
  {
   "cell_type": "code",
   "execution_count": 21,
   "id": "56e503bf-b87d-4580-a9ed-fbd25dd297fe",
   "metadata": {},
   "outputs": [],
   "source": [
    "data['Data'] = data[\"Data\"].apply(clean_text)"
   ]
  },
  {
   "cell_type": "code",
   "execution_count": 22,
   "id": "8b646459-8718-4eb6-83a4-97529591e103",
   "metadata": {},
   "outputs": [
    {
     "data": {
      "text/plain": [
       "0       path cantaloupesrvcscmuedumagnesiumclubcccmued...\n",
       "1       newsgroups altatheism path cantaloupesrvcscmue...\n",
       "2       path cantaloupesrvcscmuedudasnewsharvardedunoc...\n",
       "3       path cantaloupesrvcscmuedumagnesiumclubcccmued...\n",
       "4       xref cantaloupesrvcscmuedu altatheism talkreli...\n",
       "                              ...                        \n",
       "1995    xref cantaloupesrvcscmuedu talkabortion altath...\n",
       "1996    xref cantaloupesrvcscmuedu talkreligionmisc ta...\n",
       "1997    xref cantaloupesrvcscmuedu talkorigins talkrel...\n",
       "1998    xref cantaloupesrvcscmuedu talkreligionmisc al...\n",
       "1999    xref cantaloupesrvcscmuedu sciskeptic talkpoli...\n",
       "Name: Data, Length: 2000, dtype: object"
      ]
     },
     "execution_count": 22,
     "metadata": {},
     "output_type": "execute_result"
    }
   ],
   "source": [
    "data[\"Data\"]"
   ]
  },
  {
   "cell_type": "code",
   "execution_count": 23,
   "id": "7418c113-d773-4153-943a-bcc42d40d205",
   "metadata": {},
   "outputs": [],
   "source": [
    "# Vectorizing the data with TFIDF Vectorizer.\n",
    "from sklearn.feature_extraction.text import TfidfVectorizer"
   ]
  },
  {
   "cell_type": "code",
   "execution_count": 24,
   "id": "7e988ed1-0c0a-4a73-a43d-0bf8a7f684c5",
   "metadata": {},
   "outputs": [],
   "source": [
    "TfIdf = TfidfVectorizer()\n",
    "X = TfIdf.fit_transform(data[\"Data\"])"
   ]
  },
  {
   "cell_type": "code",
   "execution_count": 25,
   "id": "ec831b8a-0e08-4288-aad9-bda142e24670",
   "metadata": {},
   "outputs": [],
   "source": [
    "Y=data[\"Labels\"]"
   ]
  },
  {
   "cell_type": "code",
   "execution_count": 28,
   "id": "302262b9-e537-48a9-a71b-6d5c6b68bc8c",
   "metadata": {},
   "outputs": [
    {
     "name": "stdout",
     "output_type": "stream",
     "text": [
      "  (0, 30846)\t0.006374717673295059\n",
      "  (0, 7267)\t0.047828168304720566\n",
      "  (0, 17172)\t0.06862417373692555\n",
      "  (0, 17169)\t0.08717460331886823\n",
      "  (0, 29678)\t0.1372483474738511\n",
      "  (0, 28591)\t0.006374717673295059\n",
      "  (0, 1403)\t0.023284564343304878\n",
      "  (0, 39952)\t0.006374717673295059\n",
      "  (0, 21744)\t0.03406206589516532\n",
      "  (0, 17837)\t0.03677057630082175\n",
      "  (0, 12163)\t0.006374717673295059\n",
      "  (0, 2150)\t0.00694069564264917\n",
      "  (0, 18142)\t0.007324549863069558\n",
      "  (0, 30105)\t0.006621553676417196\n",
      "  (0, 38045)\t0.038990933140500325\n",
      "  (0, 960)\t0.03756845600025581\n",
      "  (0, 24250)\t0.00639386098399751\n",
      "  (0, 13588)\t0.016059083096566156\n",
      "  (0, 45329)\t0.017863933043927235\n",
      "  (0, 26159)\t0.006374717673295059\n",
      "  (0, 36423)\t0.050412893895282175\n",
      "  (0, 34732)\t0.009343519235184063\n",
      "  (0, 35911)\t0.10082578779056435\n",
      "  (0, 36315)\t0.10082578779056435\n",
      "  (0, 34904)\t0.10082578779056435\n",
      "  :\t:\n",
      "  (1999, 35667)\t0.16792227610159438\n",
      "  (1999, 28739)\t0.05820590101844723\n",
      "  (1999, 24419)\t0.05820590101844723\n",
      "  (1999, 35767)\t0.05820590101844723\n",
      "  (1999, 12816)\t0.05820590101844723\n",
      "  (1999, 17911)\t0.11194818406772959\n",
      "  (1999, 17912)\t0.055974092033864796\n",
      "  (1999, 36107)\t0.16792227610159438\n",
      "  (1999, 29302)\t0.05820590101844723\n",
      "  (1999, 30681)\t0.05820590101844723\n",
      "  (1999, 27290)\t0.05820590101844723\n",
      "  (1999, 7800)\t0.06135145911144298\n",
      "  (1999, 37020)\t0.12270291822288595\n",
      "  (1999, 31988)\t0.06135145911144298\n",
      "  (1999, 30592)\t0.06135145911144298\n",
      "  (1999, 22090)\t0.06135145911144298\n",
      "  (1999, 17913)\t0.06135145911144298\n",
      "  (1999, 16041)\t0.06135145911144298\n",
      "  (1999, 10949)\t0.06135145911144298\n",
      "  (1999, 10335)\t0.06135145911144298\n",
      "  (1999, 16008)\t0.06135145911144298\n",
      "  (1999, 18345)\t0.06135145911144298\n",
      "  (1999, 15144)\t0.06135145911144298\n",
      "  (1999, 37894)\t0.06135145911144298\n",
      "  (1999, 42980)\t0.06135145911144298\n"
     ]
    }
   ],
   "source": [
    "print(X)"
   ]
  },
  {
   "cell_type": "code",
   "execution_count": 29,
   "id": "a81c98b0-ed18-413b-b98c-f1d03d8559cf",
   "metadata": {},
   "outputs": [
    {
     "data": {
      "text/plain": [
       "0              alt.atheism\n",
       "1              alt.atheism\n",
       "2              alt.atheism\n",
       "3              alt.atheism\n",
       "4              alt.atheism\n",
       "               ...        \n",
       "1995    talk.religion.misc\n",
       "1996    talk.religion.misc\n",
       "1997    talk.religion.misc\n",
       "1998    talk.religion.misc\n",
       "1999    talk.religion.misc\n",
       "Name: Labels, Length: 2000, dtype: object"
      ]
     },
     "execution_count": 29,
     "metadata": {},
     "output_type": "execute_result"
    }
   ],
   "source": [
    "Y"
   ]
  },
  {
   "cell_type": "markdown",
   "id": "bcde64de-f779-4009-ae4b-c307ad57bcba",
   "metadata": {},
   "source": [
    "## Task 2 : Naive Bayes Model for Text Classification"
   ]
  },
  {
   "cell_type": "code",
   "execution_count": 30,
   "id": "e6519d64-3812-481f-8b1c-346df14e655b",
   "metadata": {},
   "outputs": [],
   "source": [
    "# Split the data into train and test.\n",
    "from sklearn.model_selection import train_test_split\n",
    "\n",
    "train_x,test_x,train_y,test_y = train_test_split(X,Y,test_size=0.2,random_state=7)"
   ]
  },
  {
   "cell_type": "code",
   "execution_count": 33,
   "id": "f1afbac7-ddcd-49ef-8024-0e27167625e6",
   "metadata": {},
   "outputs": [
    {
     "name": "stdout",
     "output_type": "stream",
     "text": [
      "train_x (1600, 46297)\n",
      "train_y (1600,)\n",
      "test_x (400, 46297)\n",
      "test_y (400,)\n"
     ]
    }
   ],
   "source": [
    "print(\"train_x\",train_x.shape)\n",
    "print(\"train_y\",train_y.shape)\n",
    "print(\"test_x\",test_x.shape)\n",
    "print(\"test_y\",test_y.shape)"
   ]
  },
  {
   "cell_type": "code",
   "execution_count": 35,
   "id": "7c269eac-9c1b-43d0-91d6-f364226a00e8",
   "metadata": {},
   "outputs": [],
   "source": [
    "# Building the model using  NaiveBaye's algorithm\n",
    "\n",
    "from sklearn.naive_bayes import MultinomialNB"
   ]
  },
  {
   "cell_type": "code",
   "execution_count": 36,
   "id": "ce8f7c5b-6c75-474e-8a59-29d63ae3e958",
   "metadata": {},
   "outputs": [],
   "source": [
    "model = MultinomialNB()"
   ]
  },
  {
   "cell_type": "code",
   "execution_count": 37,
   "id": "39152ede-6bf6-4725-9a35-15d1841bcb62",
   "metadata": {},
   "outputs": [
    {
     "data": {
      "text/html": [
       "<style>#sk-container-id-1 {\n",
       "  /* Definition of color scheme common for light and dark mode */\n",
       "  --sklearn-color-text: black;\n",
       "  --sklearn-color-line: gray;\n",
       "  /* Definition of color scheme for unfitted estimators */\n",
       "  --sklearn-color-unfitted-level-0: #fff5e6;\n",
       "  --sklearn-color-unfitted-level-1: #f6e4d2;\n",
       "  --sklearn-color-unfitted-level-2: #ffe0b3;\n",
       "  --sklearn-color-unfitted-level-3: chocolate;\n",
       "  /* Definition of color scheme for fitted estimators */\n",
       "  --sklearn-color-fitted-level-0: #f0f8ff;\n",
       "  --sklearn-color-fitted-level-1: #d4ebff;\n",
       "  --sklearn-color-fitted-level-2: #b3dbfd;\n",
       "  --sklearn-color-fitted-level-3: cornflowerblue;\n",
       "\n",
       "  /* Specific color for light theme */\n",
       "  --sklearn-color-text-on-default-background: var(--sg-text-color, var(--theme-code-foreground, var(--jp-content-font-color1, black)));\n",
       "  --sklearn-color-background: var(--sg-background-color, var(--theme-background, var(--jp-layout-color0, white)));\n",
       "  --sklearn-color-border-box: var(--sg-text-color, var(--theme-code-foreground, var(--jp-content-font-color1, black)));\n",
       "  --sklearn-color-icon: #696969;\n",
       "\n",
       "  @media (prefers-color-scheme: dark) {\n",
       "    /* Redefinition of color scheme for dark theme */\n",
       "    --sklearn-color-text-on-default-background: var(--sg-text-color, var(--theme-code-foreground, var(--jp-content-font-color1, white)));\n",
       "    --sklearn-color-background: var(--sg-background-color, var(--theme-background, var(--jp-layout-color0, #111)));\n",
       "    --sklearn-color-border-box: var(--sg-text-color, var(--theme-code-foreground, var(--jp-content-font-color1, white)));\n",
       "    --sklearn-color-icon: #878787;\n",
       "  }\n",
       "}\n",
       "\n",
       "#sk-container-id-1 {\n",
       "  color: var(--sklearn-color-text);\n",
       "}\n",
       "\n",
       "#sk-container-id-1 pre {\n",
       "  padding: 0;\n",
       "}\n",
       "\n",
       "#sk-container-id-1 input.sk-hidden--visually {\n",
       "  border: 0;\n",
       "  clip: rect(1px 1px 1px 1px);\n",
       "  clip: rect(1px, 1px, 1px, 1px);\n",
       "  height: 1px;\n",
       "  margin: -1px;\n",
       "  overflow: hidden;\n",
       "  padding: 0;\n",
       "  position: absolute;\n",
       "  width: 1px;\n",
       "}\n",
       "\n",
       "#sk-container-id-1 div.sk-dashed-wrapped {\n",
       "  border: 1px dashed var(--sklearn-color-line);\n",
       "  margin: 0 0.4em 0.5em 0.4em;\n",
       "  box-sizing: border-box;\n",
       "  padding-bottom: 0.4em;\n",
       "  background-color: var(--sklearn-color-background);\n",
       "}\n",
       "\n",
       "#sk-container-id-1 div.sk-container {\n",
       "  /* jupyter's `normalize.less` sets `[hidden] { display: none; }`\n",
       "     but bootstrap.min.css set `[hidden] { display: none !important; }`\n",
       "     so we also need the `!important` here to be able to override the\n",
       "     default hidden behavior on the sphinx rendered scikit-learn.org.\n",
       "     See: https://github.com/scikit-learn/scikit-learn/issues/21755 */\n",
       "  display: inline-block !important;\n",
       "  position: relative;\n",
       "}\n",
       "\n",
       "#sk-container-id-1 div.sk-text-repr-fallback {\n",
       "  display: none;\n",
       "}\n",
       "\n",
       "div.sk-parallel-item,\n",
       "div.sk-serial,\n",
       "div.sk-item {\n",
       "  /* draw centered vertical line to link estimators */\n",
       "  background-image: linear-gradient(var(--sklearn-color-text-on-default-background), var(--sklearn-color-text-on-default-background));\n",
       "  background-size: 2px 100%;\n",
       "  background-repeat: no-repeat;\n",
       "  background-position: center center;\n",
       "}\n",
       "\n",
       "/* Parallel-specific style estimator block */\n",
       "\n",
       "#sk-container-id-1 div.sk-parallel-item::after {\n",
       "  content: \"\";\n",
       "  width: 100%;\n",
       "  border-bottom: 2px solid var(--sklearn-color-text-on-default-background);\n",
       "  flex-grow: 1;\n",
       "}\n",
       "\n",
       "#sk-container-id-1 div.sk-parallel {\n",
       "  display: flex;\n",
       "  align-items: stretch;\n",
       "  justify-content: center;\n",
       "  background-color: var(--sklearn-color-background);\n",
       "  position: relative;\n",
       "}\n",
       "\n",
       "#sk-container-id-1 div.sk-parallel-item {\n",
       "  display: flex;\n",
       "  flex-direction: column;\n",
       "}\n",
       "\n",
       "#sk-container-id-1 div.sk-parallel-item:first-child::after {\n",
       "  align-self: flex-end;\n",
       "  width: 50%;\n",
       "}\n",
       "\n",
       "#sk-container-id-1 div.sk-parallel-item:last-child::after {\n",
       "  align-self: flex-start;\n",
       "  width: 50%;\n",
       "}\n",
       "\n",
       "#sk-container-id-1 div.sk-parallel-item:only-child::after {\n",
       "  width: 0;\n",
       "}\n",
       "\n",
       "/* Serial-specific style estimator block */\n",
       "\n",
       "#sk-container-id-1 div.sk-serial {\n",
       "  display: flex;\n",
       "  flex-direction: column;\n",
       "  align-items: center;\n",
       "  background-color: var(--sklearn-color-background);\n",
       "  padding-right: 1em;\n",
       "  padding-left: 1em;\n",
       "}\n",
       "\n",
       "\n",
       "/* Toggleable style: style used for estimator/Pipeline/ColumnTransformer box that is\n",
       "clickable and can be expanded/collapsed.\n",
       "- Pipeline and ColumnTransformer use this feature and define the default style\n",
       "- Estimators will overwrite some part of the style using the `sk-estimator` class\n",
       "*/\n",
       "\n",
       "/* Pipeline and ColumnTransformer style (default) */\n",
       "\n",
       "#sk-container-id-1 div.sk-toggleable {\n",
       "  /* Default theme specific background. It is overwritten whether we have a\n",
       "  specific estimator or a Pipeline/ColumnTransformer */\n",
       "  background-color: var(--sklearn-color-background);\n",
       "}\n",
       "\n",
       "/* Toggleable label */\n",
       "#sk-container-id-1 label.sk-toggleable__label {\n",
       "  cursor: pointer;\n",
       "  display: block;\n",
       "  width: 100%;\n",
       "  margin-bottom: 0;\n",
       "  padding: 0.5em;\n",
       "  box-sizing: border-box;\n",
       "  text-align: center;\n",
       "}\n",
       "\n",
       "#sk-container-id-1 label.sk-toggleable__label-arrow:before {\n",
       "  /* Arrow on the left of the label */\n",
       "  content: \"▸\";\n",
       "  float: left;\n",
       "  margin-right: 0.25em;\n",
       "  color: var(--sklearn-color-icon);\n",
       "}\n",
       "\n",
       "#sk-container-id-1 label.sk-toggleable__label-arrow:hover:before {\n",
       "  color: var(--sklearn-color-text);\n",
       "}\n",
       "\n",
       "/* Toggleable content - dropdown */\n",
       "\n",
       "#sk-container-id-1 div.sk-toggleable__content {\n",
       "  max-height: 0;\n",
       "  max-width: 0;\n",
       "  overflow: hidden;\n",
       "  text-align: left;\n",
       "  /* unfitted */\n",
       "  background-color: var(--sklearn-color-unfitted-level-0);\n",
       "}\n",
       "\n",
       "#sk-container-id-1 div.sk-toggleable__content.fitted {\n",
       "  /* fitted */\n",
       "  background-color: var(--sklearn-color-fitted-level-0);\n",
       "}\n",
       "\n",
       "#sk-container-id-1 div.sk-toggleable__content pre {\n",
       "  margin: 0.2em;\n",
       "  border-radius: 0.25em;\n",
       "  color: var(--sklearn-color-text);\n",
       "  /* unfitted */\n",
       "  background-color: var(--sklearn-color-unfitted-level-0);\n",
       "}\n",
       "\n",
       "#sk-container-id-1 div.sk-toggleable__content.fitted pre {\n",
       "  /* unfitted */\n",
       "  background-color: var(--sklearn-color-fitted-level-0);\n",
       "}\n",
       "\n",
       "#sk-container-id-1 input.sk-toggleable__control:checked~div.sk-toggleable__content {\n",
       "  /* Expand drop-down */\n",
       "  max-height: 200px;\n",
       "  max-width: 100%;\n",
       "  overflow: auto;\n",
       "}\n",
       "\n",
       "#sk-container-id-1 input.sk-toggleable__control:checked~label.sk-toggleable__label-arrow:before {\n",
       "  content: \"▾\";\n",
       "}\n",
       "\n",
       "/* Pipeline/ColumnTransformer-specific style */\n",
       "\n",
       "#sk-container-id-1 div.sk-label input.sk-toggleable__control:checked~label.sk-toggleable__label {\n",
       "  color: var(--sklearn-color-text);\n",
       "  background-color: var(--sklearn-color-unfitted-level-2);\n",
       "}\n",
       "\n",
       "#sk-container-id-1 div.sk-label.fitted input.sk-toggleable__control:checked~label.sk-toggleable__label {\n",
       "  background-color: var(--sklearn-color-fitted-level-2);\n",
       "}\n",
       "\n",
       "/* Estimator-specific style */\n",
       "\n",
       "/* Colorize estimator box */\n",
       "#sk-container-id-1 div.sk-estimator input.sk-toggleable__control:checked~label.sk-toggleable__label {\n",
       "  /* unfitted */\n",
       "  background-color: var(--sklearn-color-unfitted-level-2);\n",
       "}\n",
       "\n",
       "#sk-container-id-1 div.sk-estimator.fitted input.sk-toggleable__control:checked~label.sk-toggleable__label {\n",
       "  /* fitted */\n",
       "  background-color: var(--sklearn-color-fitted-level-2);\n",
       "}\n",
       "\n",
       "#sk-container-id-1 div.sk-label label.sk-toggleable__label,\n",
       "#sk-container-id-1 div.sk-label label {\n",
       "  /* The background is the default theme color */\n",
       "  color: var(--sklearn-color-text-on-default-background);\n",
       "}\n",
       "\n",
       "/* On hover, darken the color of the background */\n",
       "#sk-container-id-1 div.sk-label:hover label.sk-toggleable__label {\n",
       "  color: var(--sklearn-color-text);\n",
       "  background-color: var(--sklearn-color-unfitted-level-2);\n",
       "}\n",
       "\n",
       "/* Label box, darken color on hover, fitted */\n",
       "#sk-container-id-1 div.sk-label.fitted:hover label.sk-toggleable__label.fitted {\n",
       "  color: var(--sklearn-color-text);\n",
       "  background-color: var(--sklearn-color-fitted-level-2);\n",
       "}\n",
       "\n",
       "/* Estimator label */\n",
       "\n",
       "#sk-container-id-1 div.sk-label label {\n",
       "  font-family: monospace;\n",
       "  font-weight: bold;\n",
       "  display: inline-block;\n",
       "  line-height: 1.2em;\n",
       "}\n",
       "\n",
       "#sk-container-id-1 div.sk-label-container {\n",
       "  text-align: center;\n",
       "}\n",
       "\n",
       "/* Estimator-specific */\n",
       "#sk-container-id-1 div.sk-estimator {\n",
       "  font-family: monospace;\n",
       "  border: 1px dotted var(--sklearn-color-border-box);\n",
       "  border-radius: 0.25em;\n",
       "  box-sizing: border-box;\n",
       "  margin-bottom: 0.5em;\n",
       "  /* unfitted */\n",
       "  background-color: var(--sklearn-color-unfitted-level-0);\n",
       "}\n",
       "\n",
       "#sk-container-id-1 div.sk-estimator.fitted {\n",
       "  /* fitted */\n",
       "  background-color: var(--sklearn-color-fitted-level-0);\n",
       "}\n",
       "\n",
       "/* on hover */\n",
       "#sk-container-id-1 div.sk-estimator:hover {\n",
       "  /* unfitted */\n",
       "  background-color: var(--sklearn-color-unfitted-level-2);\n",
       "}\n",
       "\n",
       "#sk-container-id-1 div.sk-estimator.fitted:hover {\n",
       "  /* fitted */\n",
       "  background-color: var(--sklearn-color-fitted-level-2);\n",
       "}\n",
       "\n",
       "/* Specification for estimator info (e.g. \"i\" and \"?\") */\n",
       "\n",
       "/* Common style for \"i\" and \"?\" */\n",
       "\n",
       ".sk-estimator-doc-link,\n",
       "a:link.sk-estimator-doc-link,\n",
       "a:visited.sk-estimator-doc-link {\n",
       "  float: right;\n",
       "  font-size: smaller;\n",
       "  line-height: 1em;\n",
       "  font-family: monospace;\n",
       "  background-color: var(--sklearn-color-background);\n",
       "  border-radius: 1em;\n",
       "  height: 1em;\n",
       "  width: 1em;\n",
       "  text-decoration: none !important;\n",
       "  margin-left: 1ex;\n",
       "  /* unfitted */\n",
       "  border: var(--sklearn-color-unfitted-level-1) 1pt solid;\n",
       "  color: var(--sklearn-color-unfitted-level-1);\n",
       "}\n",
       "\n",
       ".sk-estimator-doc-link.fitted,\n",
       "a:link.sk-estimator-doc-link.fitted,\n",
       "a:visited.sk-estimator-doc-link.fitted {\n",
       "  /* fitted */\n",
       "  border: var(--sklearn-color-fitted-level-1) 1pt solid;\n",
       "  color: var(--sklearn-color-fitted-level-1);\n",
       "}\n",
       "\n",
       "/* On hover */\n",
       "div.sk-estimator:hover .sk-estimator-doc-link:hover,\n",
       ".sk-estimator-doc-link:hover,\n",
       "div.sk-label-container:hover .sk-estimator-doc-link:hover,\n",
       ".sk-estimator-doc-link:hover {\n",
       "  /* unfitted */\n",
       "  background-color: var(--sklearn-color-unfitted-level-3);\n",
       "  color: var(--sklearn-color-background);\n",
       "  text-decoration: none;\n",
       "}\n",
       "\n",
       "div.sk-estimator.fitted:hover .sk-estimator-doc-link.fitted:hover,\n",
       ".sk-estimator-doc-link.fitted:hover,\n",
       "div.sk-label-container:hover .sk-estimator-doc-link.fitted:hover,\n",
       ".sk-estimator-doc-link.fitted:hover {\n",
       "  /* fitted */\n",
       "  background-color: var(--sklearn-color-fitted-level-3);\n",
       "  color: var(--sklearn-color-background);\n",
       "  text-decoration: none;\n",
       "}\n",
       "\n",
       "/* Span, style for the box shown on hovering the info icon */\n",
       ".sk-estimator-doc-link span {\n",
       "  display: none;\n",
       "  z-index: 9999;\n",
       "  position: relative;\n",
       "  font-weight: normal;\n",
       "  right: .2ex;\n",
       "  padding: .5ex;\n",
       "  margin: .5ex;\n",
       "  width: min-content;\n",
       "  min-width: 20ex;\n",
       "  max-width: 50ex;\n",
       "  color: var(--sklearn-color-text);\n",
       "  box-shadow: 2pt 2pt 4pt #999;\n",
       "  /* unfitted */\n",
       "  background: var(--sklearn-color-unfitted-level-0);\n",
       "  border: .5pt solid var(--sklearn-color-unfitted-level-3);\n",
       "}\n",
       "\n",
       ".sk-estimator-doc-link.fitted span {\n",
       "  /* fitted */\n",
       "  background: var(--sklearn-color-fitted-level-0);\n",
       "  border: var(--sklearn-color-fitted-level-3);\n",
       "}\n",
       "\n",
       ".sk-estimator-doc-link:hover span {\n",
       "  display: block;\n",
       "}\n",
       "\n",
       "/* \"?\"-specific style due to the `<a>` HTML tag */\n",
       "\n",
       "#sk-container-id-1 a.estimator_doc_link {\n",
       "  float: right;\n",
       "  font-size: 1rem;\n",
       "  line-height: 1em;\n",
       "  font-family: monospace;\n",
       "  background-color: var(--sklearn-color-background);\n",
       "  border-radius: 1rem;\n",
       "  height: 1rem;\n",
       "  width: 1rem;\n",
       "  text-decoration: none;\n",
       "  /* unfitted */\n",
       "  color: var(--sklearn-color-unfitted-level-1);\n",
       "  border: var(--sklearn-color-unfitted-level-1) 1pt solid;\n",
       "}\n",
       "\n",
       "#sk-container-id-1 a.estimator_doc_link.fitted {\n",
       "  /* fitted */\n",
       "  border: var(--sklearn-color-fitted-level-1) 1pt solid;\n",
       "  color: var(--sklearn-color-fitted-level-1);\n",
       "}\n",
       "\n",
       "/* On hover */\n",
       "#sk-container-id-1 a.estimator_doc_link:hover {\n",
       "  /* unfitted */\n",
       "  background-color: var(--sklearn-color-unfitted-level-3);\n",
       "  color: var(--sklearn-color-background);\n",
       "  text-decoration: none;\n",
       "}\n",
       "\n",
       "#sk-container-id-1 a.estimator_doc_link.fitted:hover {\n",
       "  /* fitted */\n",
       "  background-color: var(--sklearn-color-fitted-level-3);\n",
       "}\n",
       "</style><div id=\"sk-container-id-1\" class=\"sk-top-container\"><div class=\"sk-text-repr-fallback\"><pre>MultinomialNB()</pre><b>In a Jupyter environment, please rerun this cell to show the HTML representation or trust the notebook. <br />On GitHub, the HTML representation is unable to render, please try loading this page with nbviewer.org.</b></div><div class=\"sk-container\" hidden><div class=\"sk-item\"><div class=\"sk-estimator fitted sk-toggleable\"><input class=\"sk-toggleable__control sk-hidden--visually\" id=\"sk-estimator-id-1\" type=\"checkbox\" checked><label for=\"sk-estimator-id-1\" class=\"sk-toggleable__label fitted sk-toggleable__label-arrow fitted\">&nbsp;&nbsp;MultinomialNB<a class=\"sk-estimator-doc-link fitted\" rel=\"noreferrer\" target=\"_blank\" href=\"https://scikit-learn.org/1.5/modules/generated/sklearn.naive_bayes.MultinomialNB.html\">?<span>Documentation for MultinomialNB</span></a><span class=\"sk-estimator-doc-link fitted\">i<span>Fitted</span></span></label><div class=\"sk-toggleable__content fitted\"><pre>MultinomialNB()</pre></div> </div></div></div></div>"
      ],
      "text/plain": [
       "MultinomialNB()"
      ]
     },
     "execution_count": 37,
     "metadata": {},
     "output_type": "execute_result"
    }
   ],
   "source": [
    "model.fit(train_x,train_y)"
   ]
  },
  {
   "cell_type": "code",
   "execution_count": 38,
   "id": "e1dd9d8b-d2e1-4066-8c3e-ce77477562b4",
   "metadata": {},
   "outputs": [],
   "source": [
    "## Evaluation\n",
    "from sklearn.metrics import classification_report\n",
    "\n",
    "y_pred = model.predict(test_x)"
   ]
  },
  {
   "cell_type": "code",
   "execution_count": 39,
   "id": "6cd99988-7035-40ff-9a40-e591426fe9f2",
   "metadata": {},
   "outputs": [
    {
     "data": {
      "text/plain": [
       "array(['rec.sport.hockey', 'rec.sport.hockey', 'comp.os.ms-windows.misc',\n",
       "       'misc.forsale', 'talk.politics.mideast', 'comp.os.ms-windows.misc',\n",
       "       'talk.politics.guns', 'talk.religion.misc', 'talk.politics.misc',\n",
       "       'talk.politics.mideast', 'rec.motorcycles', 'talk.politics.misc',\n",
       "       'talk.politics.mideast', 'talk.politics.mideast',\n",
       "       'rec.motorcycles', 'sci.med', 'comp.sys.mac.hardware',\n",
       "       'rec.sport.hockey', 'comp.windows.x', 'talk.religion.misc',\n",
       "       'talk.politics.guns', 'rec.sport.hockey',\n",
       "       'comp.sys.ibm.pc.hardware', 'rec.sport.hockey', 'alt.atheism',\n",
       "       'rec.sport.hockey', 'soc.religion.christian', 'comp.graphics',\n",
       "       'rec.sport.hockey', 'comp.graphics', 'rec.sport.baseball',\n",
       "       'comp.windows.x', 'comp.sys.ibm.pc.hardware',\n",
       "       'soc.religion.christian', 'sci.electronics', 'sci.crypt',\n",
       "       'sci.med', 'comp.graphics', 'talk.politics.misc',\n",
       "       'comp.os.ms-windows.misc', 'rec.autos', 'rec.autos',\n",
       "       'talk.religion.misc', 'sci.crypt', 'talk.politics.mideast',\n",
       "       'comp.windows.x', 'sci.electronics', 'talk.politics.misc',\n",
       "       'sci.med', 'rec.motorcycles', 'rec.motorcycles', 'sci.med',\n",
       "       'soc.religion.christian', 'talk.politics.guns',\n",
       "       'talk.politics.mideast', 'rec.sport.hockey',\n",
       "       'talk.politics.mideast', 'talk.religion.misc',\n",
       "       'talk.politics.mideast', 'rec.motorcycles',\n",
       "       'comp.sys.mac.hardware', 'soc.religion.christian', 'sci.med',\n",
       "       'rec.autos', 'comp.graphics', 'comp.sys.ibm.pc.hardware',\n",
       "       'comp.sys.ibm.pc.hardware', 'comp.graphics', 'sci.electronics',\n",
       "       'sci.med', 'sci.space', 'comp.windows.x', 'rec.motorcycles',\n",
       "       'comp.os.ms-windows.misc', 'rec.autos', 'sci.space',\n",
       "       'comp.sys.ibm.pc.hardware', 'rec.sport.hockey', 'sci.space',\n",
       "       'talk.politics.guns', 'rec.sport.hockey', 'rec.sport.baseball',\n",
       "       'soc.religion.christian', 'talk.politics.guns', 'rec.autos',\n",
       "       'sci.space', 'comp.sys.mac.hardware', 'comp.sys.ibm.pc.hardware',\n",
       "       'sci.med', 'sci.med', 'talk.politics.guns', 'alt.atheism',\n",
       "       'comp.windows.x', 'misc.forsale', 'sci.electronics', 'rec.autos',\n",
       "       'alt.atheism', 'sci.space', 'sci.electronics', 'comp.graphics',\n",
       "       'comp.sys.mac.hardware', 'comp.sys.ibm.pc.hardware',\n",
       "       'comp.os.ms-windows.misc', 'talk.politics.guns',\n",
       "       'talk.religion.misc', 'rec.sport.baseball', 'sci.space',\n",
       "       'sci.crypt', 'talk.politics.guns', 'talk.politics.guns',\n",
       "       'soc.religion.christian', 'comp.windows.x', 'rec.motorcycles',\n",
       "       'comp.sys.mac.hardware', 'sci.crypt', 'talk.politics.mideast',\n",
       "       'talk.religion.misc', 'rec.sport.baseball', 'alt.atheism',\n",
       "       'rec.autos', 'sci.space', 'alt.atheism', 'rec.sport.baseball',\n",
       "       'sci.space', 'comp.windows.x', 'talk.religion.misc',\n",
       "       'talk.politics.guns', 'sci.space', 'soc.religion.christian',\n",
       "       'alt.atheism', 'comp.sys.mac.hardware', 'comp.sys.ibm.pc.hardware',\n",
       "       'rec.sport.hockey', 'soc.religion.christian', 'rec.motorcycles',\n",
       "       'talk.politics.misc', 'comp.sys.mac.hardware',\n",
       "       'rec.sport.baseball', 'rec.sport.baseball', 'talk.politics.misc',\n",
       "       'sci.electronics', 'rec.autos', 'sci.med', 'comp.sys.mac.hardware',\n",
       "       'soc.religion.christian', 'rec.autos', 'soc.religion.christian',\n",
       "       'soc.religion.christian', 'sci.crypt', 'comp.os.ms-windows.misc',\n",
       "       'comp.os.ms-windows.misc', 'sci.med', 'sci.med',\n",
       "       'rec.sport.hockey', 'misc.forsale', 'talk.politics.mideast',\n",
       "       'alt.atheism', 'talk.religion.misc', 'misc.forsale',\n",
       "       'sci.electronics', 'talk.politics.mideast', 'rec.motorcycles',\n",
       "       'misc.forsale', 'talk.politics.guns', 'sci.crypt', 'rec.autos',\n",
       "       'comp.os.ms-windows.misc', 'sci.med', 'talk.politics.mideast',\n",
       "       'rec.sport.baseball', 'misc.forsale', 'rec.autos',\n",
       "       'rec.sport.baseball', 'talk.politics.mideast', 'comp.graphics',\n",
       "       'comp.os.ms-windows.misc', 'comp.sys.mac.hardware', 'misc.forsale',\n",
       "       'talk.politics.guns', 'talk.religion.misc', 'rec.autos',\n",
       "       'comp.sys.ibm.pc.hardware', 'comp.os.ms-windows.misc',\n",
       "       'rec.motorcycles', 'alt.atheism', 'comp.os.ms-windows.misc',\n",
       "       'talk.politics.guns', 'soc.religion.christian', 'sci.space',\n",
       "       'rec.motorcycles', 'sci.crypt', 'talk.religion.misc',\n",
       "       'misc.forsale', 'talk.politics.misc', 'comp.os.ms-windows.misc',\n",
       "       'talk.religion.misc', 'comp.graphics', 'comp.graphics',\n",
       "       'sci.crypt', 'talk.religion.misc', 'comp.sys.ibm.pc.hardware',\n",
       "       'sci.crypt', 'comp.windows.x', 'comp.sys.ibm.pc.hardware',\n",
       "       'rec.sport.baseball', 'rec.motorcycles', 'talk.politics.misc',\n",
       "       'alt.atheism', 'soc.religion.christian', 'sci.crypt',\n",
       "       'misc.forsale', 'sci.electronics', 'rec.sport.hockey',\n",
       "       'comp.sys.mac.hardware', 'comp.graphics', 'sci.space',\n",
       "       'comp.sys.mac.hardware', 'rec.sport.hockey', 'misc.forsale',\n",
       "       'comp.sys.mac.hardware', 'rec.autos', 'comp.windows.x',\n",
       "       'sci.crypt', 'talk.politics.mideast', 'talk.politics.guns',\n",
       "       'soc.religion.christian', 'soc.religion.christian',\n",
       "       'comp.windows.x', 'rec.motorcycles', 'comp.graphics',\n",
       "       'comp.sys.mac.hardware', 'comp.sys.ibm.pc.hardware',\n",
       "       'talk.religion.misc', 'sci.space', 'comp.os.ms-windows.misc',\n",
       "       'comp.windows.x', 'rec.sport.baseball', 'sci.crypt',\n",
       "       'comp.sys.ibm.pc.hardware', 'sci.electronics', 'sci.med',\n",
       "       'talk.politics.guns', 'rec.motorcycles', 'misc.forsale',\n",
       "       'talk.religion.misc', 'talk.politics.guns', 'comp.graphics',\n",
       "       'sci.electronics', 'comp.os.ms-windows.misc', 'talk.politics.guns',\n",
       "       'comp.windows.x', 'talk.religion.misc', 'sci.crypt', 'alt.atheism',\n",
       "       'sci.crypt', 'comp.windows.x', 'alt.atheism', 'talk.religion.misc',\n",
       "       'sci.electronics', 'talk.religion.misc', 'comp.sys.mac.hardware',\n",
       "       'rec.sport.hockey', 'comp.sys.ibm.pc.hardware',\n",
       "       'soc.religion.christian', 'sci.space', 'comp.windows.x',\n",
       "       'comp.windows.x', 'soc.religion.christian', 'misc.forsale',\n",
       "       'alt.atheism', 'sci.electronics', 'sci.space', 'comp.graphics',\n",
       "       'rec.sport.hockey', 'comp.sys.mac.hardware', 'rec.sport.baseball',\n",
       "       'comp.sys.mac.hardware', 'rec.sport.hockey',\n",
       "       'comp.sys.ibm.pc.hardware', 'talk.politics.mideast',\n",
       "       'misc.forsale', 'comp.graphics', 'sci.med',\n",
       "       'soc.religion.christian', 'talk.politics.mideast', 'sci.med',\n",
       "       'comp.windows.x', 'comp.sys.mac.hardware', 'sci.electronics',\n",
       "       'alt.atheism', 'talk.religion.misc', 'soc.religion.christian',\n",
       "       'alt.atheism', 'misc.forsale', 'talk.politics.misc',\n",
       "       'talk.religion.misc', 'sci.crypt', 'sci.electronics',\n",
       "       'comp.sys.mac.hardware', 'talk.religion.misc',\n",
       "       'rec.sport.baseball', 'soc.religion.christian',\n",
       "       'comp.sys.ibm.pc.hardware', 'rec.sport.hockey', 'misc.forsale',\n",
       "       'rec.sport.hockey', 'misc.forsale', 'comp.graphics',\n",
       "       'soc.religion.christian', 'sci.electronics',\n",
       "       'comp.sys.ibm.pc.hardware', 'comp.os.ms-windows.misc', 'sci.med',\n",
       "       'sci.electronics', 'comp.sys.mac.hardware',\n",
       "       'comp.sys.mac.hardware', 'comp.sys.mac.hardware', 'sci.med',\n",
       "       'talk.politics.guns', 'rec.autos', 'talk.politics.guns',\n",
       "       'alt.atheism', 'sci.space', 'talk.religion.misc',\n",
       "       'soc.religion.christian', 'rec.motorcycles', 'comp.graphics',\n",
       "       'comp.windows.x', 'sci.med', 'alt.atheism',\n",
       "       'comp.sys.ibm.pc.hardware', 'comp.graphics',\n",
       "       'comp.os.ms-windows.misc', 'rec.motorcycles', 'rec.sport.baseball',\n",
       "       'comp.os.ms-windows.misc', 'rec.sport.baseball', 'sci.space',\n",
       "       'comp.sys.ibm.pc.hardware', 'comp.windows.x', 'sci.med',\n",
       "       'rec.sport.hockey', 'talk.politics.mideast', 'misc.forsale',\n",
       "       'talk.religion.misc', 'comp.sys.ibm.pc.hardware', 'sci.crypt',\n",
       "       'talk.politics.guns', 'comp.os.ms-windows.misc',\n",
       "       'comp.os.ms-windows.misc', 'sci.space', 'misc.forsale',\n",
       "       'comp.windows.x', 'sci.electronics', 'sci.electronics',\n",
       "       'rec.sport.hockey', 'sci.med', 'talk.politics.guns',\n",
       "       'comp.sys.ibm.pc.hardware', 'comp.windows.x', 'talk.politics.guns',\n",
       "       'talk.politics.mideast', 'talk.politics.guns', 'comp.windows.x',\n",
       "       'sci.crypt', 'rec.autos', 'talk.politics.mideast',\n",
       "       'comp.os.ms-windows.misc', 'talk.politics.guns', 'sci.crypt',\n",
       "       'rec.motorcycles', 'rec.motorcycles', 'talk.politics.mideast',\n",
       "       'sci.space', 'talk.politics.mideast', 'talk.politics.misc',\n",
       "       'talk.politics.mideast', 'soc.religion.christian',\n",
       "       'rec.motorcycles', 'comp.graphics', 'comp.os.ms-windows.misc',\n",
       "       'alt.atheism', 'comp.sys.mac.hardware', 'rec.sport.hockey',\n",
       "       'rec.sport.baseball', 'sci.electronics', 'sci.space',\n",
       "       'alt.atheism', 'misc.forsale', 'talk.politics.mideast',\n",
       "       'comp.graphics', 'rec.autos', 'talk.religion.misc',\n",
       "       'comp.graphics', 'talk.politics.misc', 'soc.religion.christian',\n",
       "       'rec.sport.hockey', 'alt.atheism', 'sci.med', 'comp.windows.x'],\n",
       "      dtype='<U24')"
      ]
     },
     "execution_count": 39,
     "metadata": {},
     "output_type": "execute_result"
    }
   ],
   "source": [
    "y_pred"
   ]
  },
  {
   "cell_type": "code",
   "execution_count": 41,
   "id": "80e230b8-61ec-4767-984b-740cd57a801e",
   "metadata": {},
   "outputs": [
    {
     "name": "stdout",
     "output_type": "stream",
     "text": [
      "                          precision    recall  f1-score   support\n",
      "\n",
      "             alt.atheism       0.79      0.71      0.75        21\n",
      "           comp.graphics       0.80      0.84      0.82        19\n",
      " comp.os.ms-windows.misc       0.95      0.91      0.93        22\n",
      "comp.sys.ibm.pc.hardware       0.81      0.65      0.72        26\n",
      "   comp.sys.mac.hardware       0.86      0.86      0.86        22\n",
      "          comp.windows.x       0.95      0.95      0.95        22\n",
      "            misc.forsale       0.79      1.00      0.88        15\n",
      "               rec.autos       1.00      0.84      0.91        19\n",
      "         rec.motorcycles       0.95      0.95      0.95        19\n",
      "      rec.sport.baseball       0.81      1.00      0.90        13\n",
      "        rec.sport.hockey       0.96      1.00      0.98        22\n",
      "               sci.crypt       0.94      1.00      0.97        17\n",
      "         sci.electronics       0.84      0.80      0.82        20\n",
      "                 sci.med       0.95      0.87      0.91        23\n",
      "               sci.space       1.00      0.95      0.97        20\n",
      "  soc.religion.christian       0.71      1.00      0.83        17\n",
      "      talk.politics.guns       0.58      0.82      0.68        17\n",
      "   talk.politics.mideast       0.91      0.95      0.93        22\n",
      "      talk.politics.misc       1.00      0.39      0.56        28\n",
      "      talk.religion.misc       0.39      0.56      0.46        16\n",
      "\n",
      "                accuracy                           0.84       400\n",
      "               macro avg       0.85      0.85      0.84       400\n",
      "            weighted avg       0.86      0.84      0.84       400\n",
      "\n"
     ]
    }
   ],
   "source": [
    "print(classification_report(test_y,y_pred))"
   ]
  },
  {
   "cell_type": "markdown",
   "id": "273d52e7-3725-4c95-a1cf-2d3d0a507f1f",
   "metadata": {},
   "source": [
    "## Evaluation"
   ]
  },
  {
   "cell_type": "code",
   "execution_count": null,
   "id": "5719f141-2813-4866-895a-b5147b7e3ccf",
   "metadata": {},
   "outputs": [],
   "source": [
    "import sklearn.metrics as metrics"
   ]
  },
  {
   "cell_type": "code",
   "execution_count": 45,
   "id": "c2575359-5097-4367-b7be-6edcf69ab039",
   "metadata": {},
   "outputs": [
    {
     "name": "stdout",
     "output_type": "stream",
     "text": [
      "84.0\n"
     ]
    }
   ],
   "source": [
    "print(metrics.accuracy_score(test_y,y_pred)*100)"
   ]
  },
  {
   "cell_type": "code",
   "execution_count": 49,
   "id": "11828252-4518-4e32-99d9-35cd98adc60c",
   "metadata": {},
   "outputs": [
    {
     "name": "stdout",
     "output_type": "stream",
     "text": [
      "86.33390325905343\n"
     ]
    }
   ],
   "source": [
    "print(metrics.precision_score(test_y,y_pred, average=\"weighted\")*100)"
   ]
  },
  {
   "cell_type": "code",
   "execution_count": 50,
   "id": "75a1910f-5d5e-47a3-9baf-8d5d07f0a081",
   "metadata": {},
   "outputs": [
    {
     "name": "stdout",
     "output_type": "stream",
     "text": [
      "84.0\n"
     ]
    }
   ],
   "source": [
    "print(metrics.recall_score(test_y,y_pred,average=\"weighted\")*100)"
   ]
  },
  {
   "cell_type": "code",
   "execution_count": 51,
   "id": "a7f30cb1-0b08-4b6f-8e0c-0120ec3f530e",
   "metadata": {},
   "outputs": [
    {
     "name": "stdout",
     "output_type": "stream",
     "text": [
      "83.78183170697372\n"
     ]
    }
   ],
   "source": [
    "print(metrics.f1_score(test_y,y_pred,average=\"weighted\")*100)"
   ]
  },
  {
   "cell_type": "markdown",
   "id": "a050ac35-22f4-4641-98de-0d8caa294de1",
   "metadata": {},
   "source": [
    "## Task 3 : Sentiment Analysis\n"
   ]
  },
  {
   "cell_type": "code",
   "execution_count": 52,
   "id": "d030dadd-8d6c-43e6-aed7-4a613507b798",
   "metadata": {},
   "outputs": [
    {
     "name": "stdout",
     "output_type": "stream",
     "text": [
      "Collecting textblob\n",
      "  Downloading textblob-0.18.0.post0-py3-none-any.whl.metadata (4.5 kB)\n",
      "Requirement already satisfied: nltk>=3.8 in c:\\users\\venky\\anaconda3\\lib\\site-packages (from textblob) (3.8.1)\n",
      "Requirement already satisfied: click in c:\\users\\venky\\anaconda3\\lib\\site-packages (from nltk>=3.8->textblob) (8.1.7)\n",
      "Requirement already satisfied: joblib in c:\\users\\venky\\anaconda3\\lib\\site-packages (from nltk>=3.8->textblob) (1.4.2)\n",
      "Requirement already satisfied: regex>=2021.8.3 in c:\\users\\venky\\anaconda3\\lib\\site-packages (from nltk>=3.8->textblob) (2023.10.3)\n",
      "Requirement already satisfied: tqdm in c:\\users\\venky\\anaconda3\\lib\\site-packages (from nltk>=3.8->textblob) (4.65.0)\n",
      "Requirement already satisfied: colorama in c:\\users\\venky\\anaconda3\\lib\\site-packages (from click->nltk>=3.8->textblob) (0.4.6)\n",
      "Downloading textblob-0.18.0.post0-py3-none-any.whl (626 kB)\n",
      "   ---------------------------------------- 0.0/626.3 kB ? eta -:--:--\n",
      "    --------------------------------------- 10.2/626.3 kB ? eta -:--:--\n",
      "   - ------------------------------------- 30.7/626.3 kB 435.7 kB/s eta 0:00:02\n",
      "   ---- ---------------------------------- 71.7/626.3 kB 660.6 kB/s eta 0:00:01\n",
      "   -------------- ------------------------- 225.3/626.3 kB 1.5 MB/s eta 0:00:01\n",
      "   -------------------------------- ------- 501.8/626.3 kB 2.6 MB/s eta 0:00:01\n",
      "   ---------------------------------------- 626.3/626.3 kB 2.8 MB/s eta 0:00:00\n",
      "Installing collected packages: textblob\n",
      "Successfully installed textblob-0.18.0.post0\n"
     ]
    }
   ],
   "source": [
    "!pip install textblob"
   ]
  },
  {
   "cell_type": "code",
   "execution_count": 53,
   "id": "cceed655-3079-4d30-af69-873afa7a6e19",
   "metadata": {},
   "outputs": [],
   "source": [
    "from textblob import TextBlob"
   ]
  },
  {
   "cell_type": "code",
   "execution_count": 55,
   "id": "acd2736d-f8ad-42d9-829c-9fa5007876db",
   "metadata": {},
   "outputs": [],
   "source": [
    "def Sentiment(text):\n",
    "    analysis = TextBlob(text)\n",
    "    if analysis.sentiment.polarity > 0:\n",
    "        return \"positive\"\n",
    "    elif analysis.sentiment.polarity == 0:\n",
    "        return \"Neutral\"\n",
    "    else:\n",
    "        return \"Negative\"\n",
    "    "
   ]
  },
  {
   "cell_type": "code",
   "execution_count": 56,
   "id": "a859f756-7c1f-4729-8dc4-ead57d3742b3",
   "metadata": {},
   "outputs": [],
   "source": [
    "data[\"Sentiment\"] = data[\"Data\"].apply(Sentiment)"
   ]
  },
  {
   "cell_type": "code",
   "execution_count": 57,
   "id": "e1d18a9f-01e7-471e-952a-070b41374d23",
   "metadata": {},
   "outputs": [
    {
     "data": {
      "text/plain": [
       "0       positive\n",
       "1       Negative\n",
       "2       positive\n",
       "3       positive\n",
       "4       positive\n",
       "          ...   \n",
       "1995    positive\n",
       "1996    positive\n",
       "1997    positive\n",
       "1998    positive\n",
       "1999    positive\n",
       "Name: Sentiment, Length: 2000, dtype: object"
      ]
     },
     "execution_count": 57,
     "metadata": {},
     "output_type": "execute_result"
    }
   ],
   "source": [
    "data[\"Sentiment\"]"
   ]
  },
  {
   "cell_type": "code",
   "execution_count": 58,
   "id": "518e2619-4d50-446b-a97a-b95cc047fa4e",
   "metadata": {},
   "outputs": [
    {
     "data": {
      "text/plain": [
       "array(['positive', 'Negative', 'Neutral'], dtype=object)"
      ]
     },
     "execution_count": 58,
     "metadata": {},
     "output_type": "execute_result"
    }
   ],
   "source": [
    "data.Sentiment.unique()"
   ]
  },
  {
   "cell_type": "code",
   "execution_count": 59,
   "id": "9c6138b1-3560-4b04-9068-66d20fd43dee",
   "metadata": {},
   "outputs": [
    {
     "data": {
      "text/plain": [
       "positive    1453\n",
       "Negative     544\n",
       "Neutral        3\n",
       "Name: Sentiment, dtype: int64"
      ]
     },
     "execution_count": 59,
     "metadata": {},
     "output_type": "execute_result"
    }
   ],
   "source": [
    "data.Sentiment.value_counts()"
   ]
  },
  {
   "cell_type": "code",
   "execution_count": null,
   "id": "eb91570e-638e-43dc-8c96-697a5151d69b",
   "metadata": {},
   "outputs": [],
   "source": []
  }
 ],
 "metadata": {
  "kernelspec": {
   "display_name": "Python 3 (ipykernel)",
   "language": "python",
   "name": "python3"
  },
  "language_info": {
   "codemirror_mode": {
    "name": "ipython",
    "version": 3
   },
   "file_extension": ".py",
   "mimetype": "text/x-python",
   "name": "python",
   "nbconvert_exporter": "python",
   "pygments_lexer": "ipython3",
   "version": "3.11.7"
  }
 },
 "nbformat": 4,
 "nbformat_minor": 5
}
