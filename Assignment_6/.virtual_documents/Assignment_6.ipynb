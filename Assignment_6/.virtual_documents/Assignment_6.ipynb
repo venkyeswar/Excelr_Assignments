





#  Importing the necessary libraries (packages)
import numpy as np
import pandas as pd
import matplotlib.pyplot as plt
import seaborn as sns
from sklearn.model_selection import train_test_split
import statsmodels.formula.api as smf
import warnings
warnings.filterwarnings('ignore')



# load the dataset
df = pd.read_csv('ToyotaCorolla - MLR.csv')


# Getting information about the dataset.
df.info()





# Seeing the fist and last 10 records to look the data in the datset.
df.head(10)


df.tail(10)


df.Doors.value_counts()


df.Cylinders.value_counts()





df.Gears.value_counts()


df.Fuel_Type.value_counts()





df.Fuel_Type= df.Fuel_Type.astype("category")


df.info()


# Performing One-Hot encoding fuel_type feature.
data=pd.get_dummies(df,dtype=int,drop_first=True)


data.info()


# Performing Correlation To the input variables and output variable.
# visualizing the correlation with pairplot.
sns.pairplot(data)


# Creating Correlation table between the features to check the linearity between the output and input variables.
data.corr()





X = data.iloc[:,1:]
Y = data.iloc[:,0]
inputs ="+".join(X)


# building the sample model to know how many features are contributing the model.
model1 =smf.ols(f"Price~{inputs}",data=data).fit()


model1.summary()





# Removing cc,Doors,Cylinders.
X_1=X.drop(["Doors","cc","Cylinders"],axis=1)
X_1.info()


# Building another model.
inputs = "+".join(X_1)
inputs


model2 = smf.ols(f"Y~{inputs}",data=data).fit()


model2.summary()





# finding the outliers.
for column in X_1.columns:
    plt.figure(figsize=(3,5))
    sns.boxplot(X_1[column])
    plt.title(column)
    plt.show()





#  Normalize the data and then build the model
def Normalize(x):
    return ((x-x.min())/(x.max()-x.min()))

norm_df = Normalize(data)


norm_df.describe()


norm_df.info()


X = norm_df.iloc[:,1:]
Y = norm_df.Price


inputs = "+".join(X.columns)


model3 = smf.ols(f"Y~{inputs}",data=norm_df).fit()


model3.summary()






