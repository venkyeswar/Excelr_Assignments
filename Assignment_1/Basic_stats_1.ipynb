{
 "cells": [
  {
   "cell_type": "markdown",
   "id": "31d530c7-a2bf-4807-a681-ce41fba84fab",
   "metadata": {},
   "source": [
    "# BASIC STATISTICS -1\n",
    "## Descriptive Analytics and Data Preprocessing on Sales & Discounts Dataset"
   ]
  },
  {
   "cell_type": "markdown",
   "id": "eefac9f9-7dc4-4c9f-beca-ba744200fcdf",
   "metadata": {},
   "source": [
    "# 1.Descriptive Analytics for Numerical Columns"
   ]
  },
  {
   "cell_type": "code",
   "execution_count": 44,
   "id": "1f915d4c-17a4-4197-8a6c-c9cb3c4e4ae4",
   "metadata": {},
   "outputs": [],
   "source": [
    "# Import the required libraries\n",
    "# pandas - to perform stastical , operations (read,write,modify the data) in the dataset\n",
    "# matplotLib - to perform visualization between the features in the dataset\n",
    "# seaborn - to perform advanced visualization techniques on the dataset\n",
    "# scipy - to calculate the probability of random variables\n",
    "# numpy - to perform mathematical operations on the arrays\\\n",
    "import pandas as pd\n",
    "import numpy as np\n",
    "import matplotlib.pyplot as plt\n",
    "import seaborn as sns\n",
    "from scipy import stats\n",
    "import warnings\n",
    "warnings.filterwarnings('ignore')"
   ]
  },
  {
   "cell_type": "code",
   "execution_count": 45,
   "id": "40568888-7e5d-4322-8a76-6dbff32b6b8f",
   "metadata": {},
   "outputs": [
    {
     "name": "stdout",
     "output_type": "stream",
     "text": [
      "<class 'pandas.core.frame.DataFrame'>\n",
      "RangeIndex: 450 entries, 0 to 449\n",
      "Data columns (total 13 columns):\n",
      " #   Column             Non-Null Count  Dtype  \n",
      "---  ------             --------------  -----  \n",
      " 0   Date               450 non-null    object \n",
      " 1   Day                450 non-null    object \n",
      " 2   SKU                450 non-null    object \n",
      " 3   City               450 non-null    object \n",
      " 4   Volume             450 non-null    int64  \n",
      " 5   BU                 450 non-null    object \n",
      " 6   Brand              450 non-null    object \n",
      " 7   Model              450 non-null    object \n",
      " 8   Avg Price          450 non-null    int64  \n",
      " 9   Total Sales Value  450 non-null    int64  \n",
      " 10  Discount Rate (%)  450 non-null    float64\n",
      " 11  Discount Amount    450 non-null    float64\n",
      " 12  Net Sales Value    450 non-null    float64\n",
      "dtypes: float64(3), int64(3), object(7)\n",
      "memory usage: 45.8+ KB\n"
     ]
    }
   ],
   "source": [
    "# Load the dataset (sales_data_with_discounts.csv) file into the environment\n",
    "df=pd.read_csv('sales_data_with_discounts.csv') # data file is called with relative path (dataset and python file located in the same loation) and it is stored in the variable \"df\"\n",
    "df.info() # to give the detailed information about the dataset"
   ]
  },
  {
   "cell_type": "code",
   "execution_count": 46,
   "id": "c4c4bf40-73a1-464f-a964-4eb67233bfea",
   "metadata": {},
   "outputs": [
    {
     "data": {
      "text/html": [
       "<div>\n",
       "<style scoped>\n",
       "    .dataframe tbody tr th:only-of-type {\n",
       "        vertical-align: middle;\n",
       "    }\n",
       "\n",
       "    .dataframe tbody tr th {\n",
       "        vertical-align: top;\n",
       "    }\n",
       "\n",
       "    .dataframe thead th {\n",
       "        text-align: right;\n",
       "    }\n",
       "</style>\n",
       "<table border=\"1\" class=\"dataframe\">\n",
       "  <thead>\n",
       "    <tr style=\"text-align: right;\">\n",
       "      <th></th>\n",
       "      <th>Date</th>\n",
       "      <th>Day</th>\n",
       "      <th>SKU</th>\n",
       "      <th>City</th>\n",
       "      <th>Volume</th>\n",
       "      <th>BU</th>\n",
       "      <th>Brand</th>\n",
       "      <th>Model</th>\n",
       "      <th>Avg Price</th>\n",
       "      <th>Total Sales Value</th>\n",
       "      <th>Discount Rate (%)</th>\n",
       "      <th>Discount Amount</th>\n",
       "      <th>Net Sales Value</th>\n",
       "    </tr>\n",
       "  </thead>\n",
       "  <tbody>\n",
       "    <tr>\n",
       "      <th>0</th>\n",
       "      <td>01-04-2021</td>\n",
       "      <td>Thursday</td>\n",
       "      <td>M01</td>\n",
       "      <td>C</td>\n",
       "      <td>15</td>\n",
       "      <td>Mobiles</td>\n",
       "      <td>RealU</td>\n",
       "      <td>RU-10</td>\n",
       "      <td>12100</td>\n",
       "      <td>181500</td>\n",
       "      <td>11.654820</td>\n",
       "      <td>21153.498820</td>\n",
       "      <td>160346.501180</td>\n",
       "    </tr>\n",
       "    <tr>\n",
       "      <th>1</th>\n",
       "      <td>01-04-2021</td>\n",
       "      <td>Thursday</td>\n",
       "      <td>M02</td>\n",
       "      <td>C</td>\n",
       "      <td>10</td>\n",
       "      <td>Mobiles</td>\n",
       "      <td>RealU</td>\n",
       "      <td>RU-9 Plus</td>\n",
       "      <td>10100</td>\n",
       "      <td>101000</td>\n",
       "      <td>11.560498</td>\n",
       "      <td>11676.102961</td>\n",
       "      <td>89323.897039</td>\n",
       "    </tr>\n",
       "    <tr>\n",
       "      <th>2</th>\n",
       "      <td>01-04-2021</td>\n",
       "      <td>Thursday</td>\n",
       "      <td>M03</td>\n",
       "      <td>C</td>\n",
       "      <td>7</td>\n",
       "      <td>Mobiles</td>\n",
       "      <td>YouM</td>\n",
       "      <td>YM-99</td>\n",
       "      <td>16100</td>\n",
       "      <td>112700</td>\n",
       "      <td>9.456886</td>\n",
       "      <td>10657.910157</td>\n",
       "      <td>102042.089843</td>\n",
       "    </tr>\n",
       "    <tr>\n",
       "      <th>3</th>\n",
       "      <td>01-04-2021</td>\n",
       "      <td>Thursday</td>\n",
       "      <td>M04</td>\n",
       "      <td>C</td>\n",
       "      <td>6</td>\n",
       "      <td>Mobiles</td>\n",
       "      <td>YouM</td>\n",
       "      <td>YM-99 Plus</td>\n",
       "      <td>20100</td>\n",
       "      <td>120600</td>\n",
       "      <td>6.935385</td>\n",
       "      <td>8364.074702</td>\n",
       "      <td>112235.925298</td>\n",
       "    </tr>\n",
       "    <tr>\n",
       "      <th>4</th>\n",
       "      <td>01-04-2021</td>\n",
       "      <td>Thursday</td>\n",
       "      <td>M05</td>\n",
       "      <td>C</td>\n",
       "      <td>3</td>\n",
       "      <td>Mobiles</td>\n",
       "      <td>YouM</td>\n",
       "      <td>YM-98</td>\n",
       "      <td>8100</td>\n",
       "      <td>24300</td>\n",
       "      <td>17.995663</td>\n",
       "      <td>4372.946230</td>\n",
       "      <td>19927.053770</td>\n",
       "    </tr>\n",
       "  </tbody>\n",
       "</table>\n",
       "</div>"
      ],
      "text/plain": [
       "         Date       Day  SKU City  Volume       BU  Brand       Model  \\\n",
       "0  01-04-2021  Thursday  M01    C      15  Mobiles  RealU       RU-10   \n",
       "1  01-04-2021  Thursday  M02    C      10  Mobiles  RealU   RU-9 Plus   \n",
       "2  01-04-2021  Thursday  M03    C       7  Mobiles   YouM       YM-99   \n",
       "3  01-04-2021  Thursday  M04    C       6  Mobiles   YouM  YM-99 Plus   \n",
       "4  01-04-2021  Thursday  M05    C       3  Mobiles   YouM      YM-98    \n",
       "\n",
       "   Avg Price  Total Sales Value  Discount Rate (%)  Discount Amount  \\\n",
       "0      12100             181500          11.654820     21153.498820   \n",
       "1      10100             101000          11.560498     11676.102961   \n",
       "2      16100             112700           9.456886     10657.910157   \n",
       "3      20100             120600           6.935385      8364.074702   \n",
       "4       8100              24300          17.995663      4372.946230   \n",
       "\n",
       "   Net Sales Value  \n",
       "0    160346.501180  \n",
       "1     89323.897039  \n",
       "2    102042.089843  \n",
       "3    112235.925298  \n",
       "4     19927.053770  "
      ]
     },
     "execution_count": 46,
     "metadata": {},
     "output_type": "execute_result"
    }
   ],
   "source": [
    "df.head() # accessing first 5 records"
   ]
  },
  {
   "cell_type": "code",
   "execution_count": 47,
   "id": "db12edac-0eaf-4212-bb1c-d23b16d56cab",
   "metadata": {},
   "outputs": [
    {
     "data": {
      "text/html": [
       "<div>\n",
       "<style scoped>\n",
       "    .dataframe tbody tr th:only-of-type {\n",
       "        vertical-align: middle;\n",
       "    }\n",
       "\n",
       "    .dataframe tbody tr th {\n",
       "        vertical-align: top;\n",
       "    }\n",
       "\n",
       "    .dataframe thead th {\n",
       "        text-align: right;\n",
       "    }\n",
       "</style>\n",
       "<table border=\"1\" class=\"dataframe\">\n",
       "  <thead>\n",
       "    <tr style=\"text-align: right;\">\n",
       "      <th></th>\n",
       "      <th>Date</th>\n",
       "      <th>Day</th>\n",
       "      <th>SKU</th>\n",
       "      <th>City</th>\n",
       "      <th>Volume</th>\n",
       "      <th>BU</th>\n",
       "      <th>Brand</th>\n",
       "      <th>Model</th>\n",
       "      <th>Avg Price</th>\n",
       "      <th>Total Sales Value</th>\n",
       "      <th>Discount Rate (%)</th>\n",
       "      <th>Discount Amount</th>\n",
       "      <th>Net Sales Value</th>\n",
       "    </tr>\n",
       "  </thead>\n",
       "  <tbody>\n",
       "    <tr>\n",
       "      <th>445</th>\n",
       "      <td>15-04-2021</td>\n",
       "      <td>Thursday</td>\n",
       "      <td>L06</td>\n",
       "      <td>C</td>\n",
       "      <td>2</td>\n",
       "      <td>Lifestyle</td>\n",
       "      <td>Jeera</td>\n",
       "      <td>M-Casuals</td>\n",
       "      <td>1300</td>\n",
       "      <td>2600</td>\n",
       "      <td>15.475687</td>\n",
       "      <td>402.367873</td>\n",
       "      <td>2197.632127</td>\n",
       "    </tr>\n",
       "    <tr>\n",
       "      <th>446</th>\n",
       "      <td>15-04-2021</td>\n",
       "      <td>Thursday</td>\n",
       "      <td>L07</td>\n",
       "      <td>C</td>\n",
       "      <td>6</td>\n",
       "      <td>Lifestyle</td>\n",
       "      <td>Viva</td>\n",
       "      <td>W-Western</td>\n",
       "      <td>2600</td>\n",
       "      <td>15600</td>\n",
       "      <td>17.057027</td>\n",
       "      <td>2660.896242</td>\n",
       "      <td>12939.103758</td>\n",
       "    </tr>\n",
       "    <tr>\n",
       "      <th>447</th>\n",
       "      <td>15-04-2021</td>\n",
       "      <td>Thursday</td>\n",
       "      <td>L08</td>\n",
       "      <td>C</td>\n",
       "      <td>2</td>\n",
       "      <td>Lifestyle</td>\n",
       "      <td>Viva</td>\n",
       "      <td>W-Lounge</td>\n",
       "      <td>1600</td>\n",
       "      <td>3200</td>\n",
       "      <td>18.965550</td>\n",
       "      <td>606.897606</td>\n",
       "      <td>2593.102394</td>\n",
       "    </tr>\n",
       "    <tr>\n",
       "      <th>448</th>\n",
       "      <td>15-04-2021</td>\n",
       "      <td>Thursday</td>\n",
       "      <td>L09</td>\n",
       "      <td>C</td>\n",
       "      <td>3</td>\n",
       "      <td>Lifestyle</td>\n",
       "      <td>Jeera</td>\n",
       "      <td>M-Formals</td>\n",
       "      <td>1900</td>\n",
       "      <td>5700</td>\n",
       "      <td>16.793014</td>\n",
       "      <td>957.201826</td>\n",
       "      <td>4742.798174</td>\n",
       "    </tr>\n",
       "    <tr>\n",
       "      <th>449</th>\n",
       "      <td>15-04-2021</td>\n",
       "      <td>Thursday</td>\n",
       "      <td>L10</td>\n",
       "      <td>C</td>\n",
       "      <td>1</td>\n",
       "      <td>Lifestyle</td>\n",
       "      <td>Jeera</td>\n",
       "      <td>M-Shoes</td>\n",
       "      <td>3100</td>\n",
       "      <td>3100</td>\n",
       "      <td>15.333300</td>\n",
       "      <td>475.332295</td>\n",
       "      <td>2624.667705</td>\n",
       "    </tr>\n",
       "  </tbody>\n",
       "</table>\n",
       "</div>"
      ],
      "text/plain": [
       "           Date       Day  SKU City  Volume         BU  Brand      Model  \\\n",
       "445  15-04-2021  Thursday  L06    C       2  Lifestyle  Jeera  M-Casuals   \n",
       "446  15-04-2021  Thursday  L07    C       6  Lifestyle   Viva  W-Western   \n",
       "447  15-04-2021  Thursday  L08    C       2  Lifestyle   Viva   W-Lounge   \n",
       "448  15-04-2021  Thursday  L09    C       3  Lifestyle  Jeera  M-Formals   \n",
       "449  15-04-2021  Thursday  L10    C       1  Lifestyle  Jeera    M-Shoes   \n",
       "\n",
       "     Avg Price  Total Sales Value  Discount Rate (%)  Discount Amount  \\\n",
       "445       1300               2600          15.475687       402.367873   \n",
       "446       2600              15600          17.057027      2660.896242   \n",
       "447       1600               3200          18.965550       606.897606   \n",
       "448       1900               5700          16.793014       957.201826   \n",
       "449       3100               3100          15.333300       475.332295   \n",
       "\n",
       "     Net Sales Value  \n",
       "445      2197.632127  \n",
       "446     12939.103758  \n",
       "447      2593.102394  \n",
       "448      4742.798174  \n",
       "449      2624.667705  "
      ]
     },
     "execution_count": 47,
     "metadata": {},
     "output_type": "execute_result"
    }
   ],
   "source": [
    "df.tail() # accessing last 5 records"
   ]
  },
  {
   "cell_type": "code",
   "execution_count": 48,
   "id": "dcc71597-1a08-405e-aa5e-b57ef1082810",
   "metadata": {},
   "outputs": [
    {
     "data": {
      "text/plain": [
       "(450, 13)"
      ]
     },
     "execution_count": 48,
     "metadata": {},
     "output_type": "execute_result"
    }
   ],
   "source": [
    "df.shape # ( no.of rows,no.of columns)"
   ]
  },
  {
   "cell_type": "code",
   "execution_count": 49,
   "id": "fd17d542-5d98-427c-ab48-53bd0fcf72b8",
   "metadata": {},
   "outputs": [
    {
     "data": {
      "text/plain": [
       "5850"
      ]
     },
     "execution_count": 49,
     "metadata": {},
     "output_type": "execute_result"
    }
   ],
   "source": [
    "df.size # ( total number of elements (values))"
   ]
  },
  {
   "cell_type": "code",
   "execution_count": 50,
   "id": "f23c2ea8-bc49-4976-af0b-c73e99748971",
   "metadata": {},
   "outputs": [
    {
     "data": {
      "text/plain": [
       "[RangeIndex(start=0, stop=450, step=1),\n",
       " Index(['Date', 'Day', 'SKU', 'City', 'Volume', 'BU', 'Brand', 'Model',\n",
       "        'Avg Price', 'Total Sales Value', 'Discount Rate (%)',\n",
       "        'Discount Amount', 'Net Sales Value'],\n",
       "       dtype='object')]"
      ]
     },
     "execution_count": 50,
     "metadata": {},
     "output_type": "execute_result"
    }
   ],
   "source": [
    "df.axes # it gives he no.of rows and column names"
   ]
  },
  {
   "cell_type": "code",
   "execution_count": 51,
   "id": "bde6d6a6-93a2-43dd-bd21-2171bb190ca5",
   "metadata": {},
   "outputs": [
    {
     "data": {
      "text/html": [
       "<div>\n",
       "<style scoped>\n",
       "    .dataframe tbody tr th:only-of-type {\n",
       "        vertical-align: middle;\n",
       "    }\n",
       "\n",
       "    .dataframe tbody tr th {\n",
       "        vertical-align: top;\n",
       "    }\n",
       "\n",
       "    .dataframe thead th {\n",
       "        text-align: right;\n",
       "    }\n",
       "</style>\n",
       "<table border=\"1\" class=\"dataframe\">\n",
       "  <thead>\n",
       "    <tr style=\"text-align: right;\">\n",
       "      <th></th>\n",
       "      <th>Volume</th>\n",
       "      <th>Avg Price</th>\n",
       "      <th>Total Sales Value</th>\n",
       "      <th>Discount Rate (%)</th>\n",
       "      <th>Discount Amount</th>\n",
       "      <th>Net Sales Value</th>\n",
       "    </tr>\n",
       "  </thead>\n",
       "  <tbody>\n",
       "    <tr>\n",
       "      <th>count</th>\n",
       "      <td>450.000000</td>\n",
       "      <td>450.000000</td>\n",
       "      <td>450.000000</td>\n",
       "      <td>450.000000</td>\n",
       "      <td>450.000000</td>\n",
       "      <td>450.000000</td>\n",
       "    </tr>\n",
       "    <tr>\n",
       "      <th>mean</th>\n",
       "      <td>5.066667</td>\n",
       "      <td>10453.433333</td>\n",
       "      <td>33812.835556</td>\n",
       "      <td>15.155242</td>\n",
       "      <td>3346.499424</td>\n",
       "      <td>30466.336131</td>\n",
       "    </tr>\n",
       "    <tr>\n",
       "      <th>std</th>\n",
       "      <td>4.231602</td>\n",
       "      <td>18079.904840</td>\n",
       "      <td>50535.074173</td>\n",
       "      <td>4.220602</td>\n",
       "      <td>4509.902963</td>\n",
       "      <td>46358.656624</td>\n",
       "    </tr>\n",
       "    <tr>\n",
       "      <th>min</th>\n",
       "      <td>1.000000</td>\n",
       "      <td>290.000000</td>\n",
       "      <td>400.000000</td>\n",
       "      <td>5.007822</td>\n",
       "      <td>69.177942</td>\n",
       "      <td>326.974801</td>\n",
       "    </tr>\n",
       "    <tr>\n",
       "      <th>25%</th>\n",
       "      <td>3.000000</td>\n",
       "      <td>465.000000</td>\n",
       "      <td>2700.000000</td>\n",
       "      <td>13.965063</td>\n",
       "      <td>460.459304</td>\n",
       "      <td>2202.208645</td>\n",
       "    </tr>\n",
       "    <tr>\n",
       "      <th>50%</th>\n",
       "      <td>4.000000</td>\n",
       "      <td>1450.000000</td>\n",
       "      <td>5700.000000</td>\n",
       "      <td>16.577766</td>\n",
       "      <td>988.933733</td>\n",
       "      <td>4677.788059</td>\n",
       "    </tr>\n",
       "    <tr>\n",
       "      <th>75%</th>\n",
       "      <td>6.000000</td>\n",
       "      <td>10100.000000</td>\n",
       "      <td>53200.000000</td>\n",
       "      <td>18.114718</td>\n",
       "      <td>5316.495427</td>\n",
       "      <td>47847.912852</td>\n",
       "    </tr>\n",
       "    <tr>\n",
       "      <th>max</th>\n",
       "      <td>31.000000</td>\n",
       "      <td>60100.000000</td>\n",
       "      <td>196400.000000</td>\n",
       "      <td>19.992407</td>\n",
       "      <td>25738.022194</td>\n",
       "      <td>179507.479049</td>\n",
       "    </tr>\n",
       "  </tbody>\n",
       "</table>\n",
       "</div>"
      ],
      "text/plain": [
       "           Volume     Avg Price  Total Sales Value  Discount Rate (%)  \\\n",
       "count  450.000000    450.000000         450.000000         450.000000   \n",
       "mean     5.066667  10453.433333       33812.835556          15.155242   \n",
       "std      4.231602  18079.904840       50535.074173           4.220602   \n",
       "min      1.000000    290.000000         400.000000           5.007822   \n",
       "25%      3.000000    465.000000        2700.000000          13.965063   \n",
       "50%      4.000000   1450.000000        5700.000000          16.577766   \n",
       "75%      6.000000  10100.000000       53200.000000          18.114718   \n",
       "max     31.000000  60100.000000      196400.000000          19.992407   \n",
       "\n",
       "       Discount Amount  Net Sales Value  \n",
       "count       450.000000       450.000000  \n",
       "mean       3346.499424     30466.336131  \n",
       "std        4509.902963     46358.656624  \n",
       "min          69.177942       326.974801  \n",
       "25%         460.459304      2202.208645  \n",
       "50%         988.933733      4677.788059  \n",
       "75%        5316.495427     47847.912852  \n",
       "max       25738.022194    179507.479049  "
      ]
     },
     "execution_count": 51,
     "metadata": {},
     "output_type": "execute_result"
    }
   ],
   "source": [
    "# calculating the mean,median,mode and standard deviation for the numerical columns\n",
    "df.describe()"
   ]
  },
  {
   "cell_type": "code",
   "execution_count": 52,
   "id": "f13d3c40-e833-4d45-8992-268937c797aa",
   "metadata": {},
   "outputs": [
    {
     "data": {
      "text/plain": [
       "Volume                   5.066667\n",
       "Avg Price            10453.433333\n",
       "Total Sales Value    33812.835556\n",
       "Discount Rate (%)       15.155242\n",
       "Discount Amount       3346.499424\n",
       "Net Sales Value      30466.336131\n",
       "dtype: float64"
      ]
     },
     "execution_count": 52,
     "metadata": {},
     "output_type": "execute_result"
    }
   ],
   "source": [
    "# calculating the mean of numerical columns in the dataset\n",
    "df.mean(numeric_only=True)"
   ]
  },
  {
   "cell_type": "code",
   "execution_count": 53,
   "id": "c0c40238-5693-4ac0-9448-ae88661cdf2c",
   "metadata": {},
   "outputs": [
    {
     "data": {
      "text/plain": [
       "Volume                  4.000000\n",
       "Avg Price            1450.000000\n",
       "Total Sales Value    5700.000000\n",
       "Discount Rate (%)      16.577766\n",
       "Discount Amount       988.933733\n",
       "Net Sales Value      4677.788059\n",
       "dtype: float64"
      ]
     },
     "execution_count": 53,
     "metadata": {},
     "output_type": "execute_result"
    }
   ],
   "source": [
    "# calculating the median of numeical columns in the dataset\n",
    "df.median(numeric_only=True)"
   ]
  },
  {
   "cell_type": "code",
   "execution_count": 54,
   "id": "fc092213-dd52-47b8-9615-5324da72c1af",
   "metadata": {},
   "outputs": [
    {
     "data": {
      "text/plain": [
       "Date                   01-04-2021\n",
       "Day                      Thursday\n",
       "SKU                           F01\n",
       "City                            C\n",
       "Volume                        3.0\n",
       "BU                           FMCG\n",
       "Brand                       Jeera\n",
       "Model                Babaji Cream\n",
       "Avg Price                   400.0\n",
       "Total Sales Value         24300.0\n",
       "Discount Rate (%)        5.007822\n",
       "Discount Amount         69.177942\n",
       "Net Sales Value        326.974801\n",
       "Name: 0, dtype: object"
      ]
     },
     "execution_count": 54,
     "metadata": {},
     "output_type": "execute_result"
    }
   ],
   "source": [
    "# calculating the mode of every column in dataset\n",
    "df.mode().iloc[0]"
   ]
  },
  {
   "cell_type": "markdown",
   "id": "979a1304-4462-4cd6-82b0-23576a9d1744",
   "metadata": {},
   "source": [
    "# "
   ]
  },
  {
   "cell_type": "code",
   "execution_count": 55,
   "id": "30b8aebe-12f4-496d-a50b-be6453d1c36e",
   "metadata": {},
   "outputs": [
    {
     "data": {
      "text/plain": [
       "Volume                   4.231602\n",
       "Avg Price            18079.904840\n",
       "Total Sales Value    50535.074173\n",
       "Discount Rate (%)        4.220602\n",
       "Discount Amount       4509.902963\n",
       "Net Sales Value      46358.656624\n",
       "dtype: float64"
      ]
     },
     "execution_count": 55,
     "metadata": {},
     "output_type": "execute_result"
    }
   ],
   "source": [
    "# calculating the standard deviation (sigma) of the numerical columns in dataset\n",
    "df.std(numeric_only=True)"
   ]
  },
  {
   "cell_type": "code",
   "execution_count": 56,
   "id": "ddc9f7a9-ce21-48bc-851d-91ffb8f046ee",
   "metadata": {},
   "outputs": [
    {
     "data": {
      "text/html": [
       "<div>\n",
       "<style scoped>\n",
       "    .dataframe tbody tr th:only-of-type {\n",
       "        vertical-align: middle;\n",
       "    }\n",
       "\n",
       "    .dataframe tbody tr th {\n",
       "        vertical-align: top;\n",
       "    }\n",
       "\n",
       "    .dataframe thead th {\n",
       "        text-align: right;\n",
       "    }\n",
       "</style>\n",
       "<table border=\"1\" class=\"dataframe\">\n",
       "  <thead>\n",
       "    <tr style=\"text-align: right;\">\n",
       "      <th></th>\n",
       "      <th>Volume</th>\n",
       "      <th>Avg Price</th>\n",
       "      <th>Total Sales Value</th>\n",
       "      <th>Discount Rate (%)</th>\n",
       "      <th>Discount Amount</th>\n",
       "      <th>Net Sales Value</th>\n",
       "    </tr>\n",
       "  </thead>\n",
       "  <tbody>\n",
       "    <tr>\n",
       "      <th>count</th>\n",
       "      <td>450.000000</td>\n",
       "      <td>450.000000</td>\n",
       "      <td>450.000000</td>\n",
       "      <td>450.000000</td>\n",
       "      <td>450.000000</td>\n",
       "      <td>450.000000</td>\n",
       "    </tr>\n",
       "    <tr>\n",
       "      <th>mean</th>\n",
       "      <td>5.066667</td>\n",
       "      <td>10453.433333</td>\n",
       "      <td>33812.835556</td>\n",
       "      <td>15.155242</td>\n",
       "      <td>3346.499424</td>\n",
       "      <td>30466.336131</td>\n",
       "    </tr>\n",
       "    <tr>\n",
       "      <th>std</th>\n",
       "      <td>4.231602</td>\n",
       "      <td>18079.904840</td>\n",
       "      <td>50535.074173</td>\n",
       "      <td>4.220602</td>\n",
       "      <td>4509.902963</td>\n",
       "      <td>46358.656624</td>\n",
       "    </tr>\n",
       "    <tr>\n",
       "      <th>min</th>\n",
       "      <td>1.000000</td>\n",
       "      <td>290.000000</td>\n",
       "      <td>400.000000</td>\n",
       "      <td>5.007822</td>\n",
       "      <td>69.177942</td>\n",
       "      <td>326.974801</td>\n",
       "    </tr>\n",
       "    <tr>\n",
       "      <th>25%</th>\n",
       "      <td>3.000000</td>\n",
       "      <td>465.000000</td>\n",
       "      <td>2700.000000</td>\n",
       "      <td>13.965063</td>\n",
       "      <td>460.459304</td>\n",
       "      <td>2202.208645</td>\n",
       "    </tr>\n",
       "    <tr>\n",
       "      <th>50%</th>\n",
       "      <td>4.000000</td>\n",
       "      <td>1450.000000</td>\n",
       "      <td>5700.000000</td>\n",
       "      <td>16.577766</td>\n",
       "      <td>988.933733</td>\n",
       "      <td>4677.788059</td>\n",
       "    </tr>\n",
       "    <tr>\n",
       "      <th>75%</th>\n",
       "      <td>6.000000</td>\n",
       "      <td>10100.000000</td>\n",
       "      <td>53200.000000</td>\n",
       "      <td>18.114718</td>\n",
       "      <td>5316.495427</td>\n",
       "      <td>47847.912852</td>\n",
       "    </tr>\n",
       "    <tr>\n",
       "      <th>max</th>\n",
       "      <td>31.000000</td>\n",
       "      <td>60100.000000</td>\n",
       "      <td>196400.000000</td>\n",
       "      <td>19.992407</td>\n",
       "      <td>25738.022194</td>\n",
       "      <td>179507.479049</td>\n",
       "    </tr>\n",
       "  </tbody>\n",
       "</table>\n",
       "</div>"
      ],
      "text/plain": [
       "           Volume     Avg Price  Total Sales Value  Discount Rate (%)  \\\n",
       "count  450.000000    450.000000         450.000000         450.000000   \n",
       "mean     5.066667  10453.433333       33812.835556          15.155242   \n",
       "std      4.231602  18079.904840       50535.074173           4.220602   \n",
       "min      1.000000    290.000000         400.000000           5.007822   \n",
       "25%      3.000000    465.000000        2700.000000          13.965063   \n",
       "50%      4.000000   1450.000000        5700.000000          16.577766   \n",
       "75%      6.000000  10100.000000       53200.000000          18.114718   \n",
       "max     31.000000  60100.000000      196400.000000          19.992407   \n",
       "\n",
       "       Discount Amount  Net Sales Value  \n",
       "count       450.000000       450.000000  \n",
       "mean       3346.499424     30466.336131  \n",
       "std        4509.902963     46358.656624  \n",
       "min          69.177942       326.974801  \n",
       "25%         460.459304      2202.208645  \n",
       "50%         988.933733      4677.788059  \n",
       "75%        5316.495427     47847.912852  \n",
       "max       25738.022194    179507.479049  "
      ]
     },
     "execution_count": 56,
     "metadata": {},
     "output_type": "execute_result"
    }
   ],
   "source": [
    "df.describe()"
   ]
  },
  {
   "cell_type": "markdown",
   "id": "d43cee4b-ed31-4156-99e0-c8ae1089d228",
   "metadata": {},
   "source": [
    "## DATA VISUALIZATION"
   ]
  },
  {
   "cell_type": "markdown",
   "id": "287a0661-3592-4f73-b6df-afa07f738dbe",
   "metadata": {},
   "source": [
    "## histograms for the numerical values"
   ]
  },
  {
   "cell_type": "code",
   "execution_count": 57,
   "id": "a32d9246-8a8c-4cc9-a6f9-972098d4b984",
   "metadata": {},
   "outputs": [
    {
     "data": {
      "image/png": "[encoded data removed]",
      "text/plain": [
       "<Figure size 1000x1500 with 6 Axes>"
      ]
     },
     "metadata": {},
     "output_type": "display_data"
    }
   ],
   "source": [
    "# plotting the Histogram for the numeric data in the dataset\n",
    "# for Volume\n",
    "fig=plt.figure(figsize=(10,15))\n",
    "plt.subplot(3,3,1)\n",
    "plt.hist(df.Volume)\n",
    "plt.xlabel('Volume')\n",
    "plt.ylabel( 'index')\n",
    "plt.subplot(3,3,2)\n",
    "plt.hist(df['Avg Price'])\n",
    "plt.xlabel('Avg Price')\n",
    "plt.ylabel('index')\n",
    "plt.subplot(3,3,3)\n",
    "plt.hist(df['Total Sales Value'])\n",
    "plt.xlabel('Total Sales Value')\n",
    "plt.ylabel('Index')\n",
    "plt.subplot(3,3,4)\n",
    "plt.hist(df['Discount Rate (%)'])\n",
    "plt.xlabel('Discount Rate(%)')\n",
    "plt.ylabel('Index')\n",
    "plt.subplot(3,3,5)\n",
    "plt.hist(df['Discount Amount'])\n",
    "plt.xlabel('Discount Amount')\n",
    "plt.ylabel('Index')\n",
    "plt.subplot(3,3,6)\n",
    "plt.hist(df['Net Sales Value'])\n",
    "plt.xlabel('Net Sales Value')\n",
    "plt.ylabel('Index')\n",
    "plt.subplots_adjust(wspace=0.5)\n",
    "plt.show()"
   ]
  },
  {
   "cell_type": "markdown",
   "id": "6a5b9d69-404e-4f4a-ba44-6fa04d8d8be5",
   "metadata": {},
   "source": [
    "## Boxplots for the numerical values\n"
   ]
  },
  {
   "cell_type": "code",
   "execution_count": 58,
   "id": "c593132e-8b4c-434f-91e8-510641bb54d7",
   "metadata": {},
   "outputs": [
    {
     "data": {
      "image/png": "[encoded data removed]",
      "text/plain": [
       "<Figure size 1000x1500 with 6 Axes>"
      ]
     },
     "metadata": {},
     "output_type": "display_data"
    }
   ],
   "source": [
    "fig=plt.figure(figsize=(10,15))\n",
    "plt.subplot(3,3,1)\n",
    "sns.boxplot(df.Volume)\n",
    "plt.xlabel('Volume')\n",
    "plt.subplot(3,3,2)\n",
    "sns.boxplot(df['Avg Price'])\n",
    "plt.xlabel('Avg Price')\n",
    "plt.subplot(3,3,3)\n",
    "sns.boxplot(df['Total Sales Value'])\n",
    "plt.xlabel('Total Sales Value')\n",
    "plt.subplot(3,3,4)\n",
    "sns.boxplot(df['Discount Rate (%)'])\n",
    "plt.xlabel('Discount Rate(%)')\n",
    "plt.subplot(3,3,5)\n",
    "sns.boxplot(df['Discount Amount'])\n",
    "plt.xlabel('Discount Amount')\n",
    "plt.subplot(3,3,6)\n",
    "sns.boxplot(df['Net Sales Value'])\n",
    "plt.xlabel('Net Sales Value')\n",
    "\n",
    "plt.subplots_adjust(wspace=1,hspace=0.5)\n",
    "plt.show()"
   ]
  },
  {
   "cell_type": "markdown",
   "id": "f07d906d-4855-4994-a615-6cd14fd6e307",
   "metadata": {},
   "source": [
    "# Barchart For Categorical Data"
   ]
  },
  {
   "cell_type": "code",
   "execution_count": 59,
   "id": "db7026ca-1fa2-462b-9e65-427fbc8364ab",
   "metadata": {},
   "outputs": [
    {
     "name": "stdout",
     "output_type": "stream",
     "text": [
      "<class 'pandas.core.frame.DataFrame'>\n",
      "RangeIndex: 450 entries, 0 to 449\n",
      "Data columns (total 13 columns):\n",
      " #   Column             Non-Null Count  Dtype  \n",
      "---  ------             --------------  -----  \n",
      " 0   Date               450 non-null    object \n",
      " 1   Day                450 non-null    object \n",
      " 2   SKU                450 non-null    object \n",
      " 3   City               450 non-null    object \n",
      " 4   Volume             450 non-null    int64  \n",
      " 5   BU                 450 non-null    object \n",
      " 6   Brand              450 non-null    object \n",
      " 7   Model              450 non-null    object \n",
      " 8   Avg Price          450 non-null    int64  \n",
      " 9   Total Sales Value  450 non-null    int64  \n",
      " 10  Discount Rate (%)  450 non-null    float64\n",
      " 11  Discount Amount    450 non-null    float64\n",
      " 12  Net Sales Value    450 non-null    float64\n",
      "dtypes: float64(3), int64(3), object(7)\n",
      "memory usage: 45.8+ KB\n"
     ]
    }
   ],
   "source": [
    "# First convert the Data type of the categorical data from object to categorical data\n",
    "df.info()"
   ]
  },
  {
   "cell_type": "code",
   "execution_count": 60,
   "id": "bbaab6bc-50d9-4ba8-be86-9686c4850898",
   "metadata": {},
   "outputs": [
    {
     "data": {
      "text/plain": [
       "dtype('O')"
      ]
     },
     "execution_count": 60,
     "metadata": {},
     "output_type": "execute_result"
    }
   ],
   "source": [
    "df.Date.dtype"
   ]
  },
  {
   "cell_type": "code",
   "execution_count": 61,
   "id": "202af1f7-167e-4c01-8b02-fce2ba97a430",
   "metadata": {},
   "outputs": [],
   "source": [
    "df.Date=pd.to_datetime(df.Date,errors='coerce')"
   ]
  },
  {
   "cell_type": "code",
   "execution_count": 62,
   "id": "e8d09eba-2889-429b-95f2-2a7832e6f177",
   "metadata": {},
   "outputs": [
    {
     "data": {
      "text/plain": [
       "90"
      ]
     },
     "execution_count": 62,
     "metadata": {},
     "output_type": "execute_result"
    }
   ],
   "source": [
    "df.Date.isnull().sum()"
   ]
  },
  {
   "cell_type": "code",
   "execution_count": 63,
   "id": "d5dcaf9a-3e54-4fc6-89a9-5d7160711da2",
   "metadata": {},
   "outputs": [
    {
     "data": {
      "text/plain": [
       "dtype('<M8[ns]')"
      ]
     },
     "execution_count": 63,
     "metadata": {},
     "output_type": "execute_result"
    }
   ],
   "source": [
    "df.Date.dtype"
   ]
  },
  {
   "cell_type": "code",
   "execution_count": 64,
   "id": "afad41aa-5514-48fa-9c51-59636bdeb834",
   "metadata": {},
   "outputs": [
    {
     "name": "stdout",
     "output_type": "stream",
     "text": [
      "<class 'pandas.core.frame.DataFrame'>\n",
      "RangeIndex: 450 entries, 0 to 449\n",
      "Data columns (total 13 columns):\n",
      " #   Column             Non-Null Count  Dtype         \n",
      "---  ------             --------------  -----         \n",
      " 0   Date               360 non-null    datetime64[ns]\n",
      " 1   Day                450 non-null    object        \n",
      " 2   SKU                450 non-null    object        \n",
      " 3   City               450 non-null    object        \n",
      " 4   Volume             450 non-null    int64         \n",
      " 5   BU                 450 non-null    object        \n",
      " 6   Brand              450 non-null    object        \n",
      " 7   Model              450 non-null    object        \n",
      " 8   Avg Price          450 non-null    int64         \n",
      " 9   Total Sales Value  450 non-null    int64         \n",
      " 10  Discount Rate (%)  450 non-null    float64       \n",
      " 11  Discount Amount    450 non-null    float64       \n",
      " 12  Net Sales Value    450 non-null    float64       \n",
      "dtypes: datetime64[ns](1), float64(3), int64(3), object(6)\n",
      "memory usage: 45.8+ KB\n"
     ]
    }
   ],
   "source": [
    "df.info()"
   ]
  },
  {
   "cell_type": "code",
   "execution_count": 65,
   "id": "0266f2f9-1b5a-47ad-98dd-2a5be1498359",
   "metadata": {},
   "outputs": [],
   "source": [
    "df.Day=df.Day.astype('category')"
   ]
  },
  {
   "cell_type": "code",
   "execution_count": 66,
   "id": "ae09c83d-8a18-4c94-b573-558ede0cef6b",
   "metadata": {},
   "outputs": [],
   "source": [
    "df.SKU=df.SKU.astype('category')\n",
    "df.City=df.City.astype('category')\n",
    "df.BU=df.BU.astype('category')\n",
    "df.Brand=df.Brand.astype('category')\n",
    "df.Model=df.Model.astype('category')\n"
   ]
  },
  {
   "cell_type": "code",
   "execution_count": 67,
   "id": "7c18b177-dc95-431c-90f7-b756d54fd87c",
   "metadata": {},
   "outputs": [
    {
     "name": "stdout",
     "output_type": "stream",
     "text": [
      "<class 'pandas.core.frame.DataFrame'>\n",
      "RangeIndex: 450 entries, 0 to 449\n",
      "Data columns (total 13 columns):\n",
      " #   Column             Non-Null Count  Dtype         \n",
      "---  ------             --------------  -----         \n",
      " 0   Date               360 non-null    datetime64[ns]\n",
      " 1   Day                450 non-null    category      \n",
      " 2   SKU                450 non-null    category      \n",
      " 3   City               450 non-null    category      \n",
      " 4   Volume             450 non-null    int64         \n",
      " 5   BU                 450 non-null    category      \n",
      " 6   Brand              450 non-null    category      \n",
      " 7   Model              450 non-null    category      \n",
      " 8   Avg Price          450 non-null    int64         \n",
      " 9   Total Sales Value  450 non-null    int64         \n",
      " 10  Discount Rate (%)  450 non-null    float64       \n",
      " 11  Discount Amount    450 non-null    float64       \n",
      " 12  Net Sales Value    450 non-null    float64       \n",
      "dtypes: category(6), datetime64[ns](1), float64(3), int64(3)\n",
      "memory usage: 30.9 KB\n"
     ]
    }
   ],
   "source": [
    "df.info()"
   ]
  },
  {
   "cell_type": "code",
   "execution_count": 68,
   "id": "58bdf885-a87f-4332-a4ad-e78cfbf50b6b",
   "metadata": {},
   "outputs": [
    {
     "data": {
      "image/png": "[encoded data removed]",
      "text/plain": [
       "<Figure size 2000x800 with 6 Axes>"
      ]
     },
     "metadata": {},
     "output_type": "display_data"
    }
   ],
   "source": [
    "fig=plt.figure(figsize=(20,8))\n",
    "plt.subplot(2,3,1)\n",
    "df.Day.value_counts().plot(kind='bar')\n",
    "\n",
    "plt.subplot(2,3,2)\n",
    "df.SKU.value_counts().plot(kind='bar')\n",
    "\n",
    "plt.subplot(2,3,3)\n",
    "df.City.value_counts().plot(kind='bar')\n",
    "\n",
    "plt.subplot(2,3,4)\n",
    "df.BU.value_counts().plot(kind='bar')\n",
    "\n",
    "plt.subplot(2,3,5)\n",
    "df.Brand.value_counts().plot(kind='bar')\n",
    "\n",
    "plt.subplot(2,3,6)\n",
    "df.Model.value_counts().plot(kind='bar')\n",
    "\n",
    "plt.subplots_adjust(hspace=0.5,wspace=0.1)\n"
   ]
  },
  {
   "cell_type": "code",
   "execution_count": 69,
   "id": "40f17f83-ee01-474b-ae7b-6e170a9ea35b",
   "metadata": {},
   "outputs": [
    {
     "data": {
      "text/plain": [
       "<Axes: xlabel='Date'>"
      ]
     },
     "execution_count": 69,
     "metadata": {},
     "output_type": "execute_result"
    },
    {
     "data": {
      "image/png": "[encoded data removed]",
      "text/plain": [
       "<Figure size 640x480 with 1 Axes>"
      ]
     },
     "metadata": {},
     "output_type": "display_data"
    }
   ],
   "source": [
    "df.Date.value_counts().plot(kind='bar')"
   ]
  },
  {
   "cell_type": "code",
   "execution_count": 70,
   "id": "d7b81b89-ab1b-43c7-8812-2265fbf0f2bf",
   "metadata": {},
   "outputs": [
    {
     "name": "stdout",
     "output_type": "stream",
     "text": [
      "<class 'pandas.core.frame.DataFrame'>\n",
      "RangeIndex: 450 entries, 0 to 449\n",
      "Data columns (total 13 columns):\n",
      " #   Column             Non-Null Count  Dtype         \n",
      "---  ------             --------------  -----         \n",
      " 0   Date               360 non-null    datetime64[ns]\n",
      " 1   Day                450 non-null    category      \n",
      " 2   SKU                450 non-null    category      \n",
      " 3   City               450 non-null    category      \n",
      " 4   Volume             450 non-null    int64         \n",
      " 5   BU                 450 non-null    category      \n",
      " 6   Brand              450 non-null    category      \n",
      " 7   Model              450 non-null    category      \n",
      " 8   Avg Price          450 non-null    int64         \n",
      " 9   Total Sales Value  450 non-null    int64         \n",
      " 10  Discount Rate (%)  450 non-null    float64       \n",
      " 11  Discount Amount    450 non-null    float64       \n",
      " 12  Net Sales Value    450 non-null    float64       \n",
      "dtypes: category(6), datetime64[ns](1), float64(3), int64(3)\n",
      "memory usage: 30.9 KB\n"
     ]
    }
   ],
   "source": [
    "# standardization:\n",
    "df.info()"
   ]
  },
  {
   "cell_type": "code",
   "execution_count": 71,
   "id": "d6a3c6c3-207a-4035-8051-7b5145c14bc0",
   "metadata": {},
   "outputs": [],
   "source": [
    "# fill the date column with the mode\n",
    "df.Date=df.Date.fillna(df.Date.mode().iloc[0])"
   ]
  },
  {
   "cell_type": "code",
   "execution_count": 72,
   "id": "ab1979ba-9099-4b7e-90ae-21960da69ce4",
   "metadata": {},
   "outputs": [
    {
     "data": {
      "text/plain": [
       "0"
      ]
     },
     "execution_count": 72,
     "metadata": {},
     "output_type": "execute_result"
    }
   ],
   "source": [
    "df.Date.isnull().sum()"
   ]
  },
  {
   "cell_type": "code",
   "execution_count": 73,
   "id": "67fa182b-b423-439d-ac22-c747f7cd94a9",
   "metadata": {},
   "outputs": [
    {
     "name": "stdout",
     "output_type": "stream",
     "text": [
      "<class 'pandas.core.frame.DataFrame'>\n",
      "RangeIndex: 450 entries, 0 to 449\n",
      "Data columns (total 13 columns):\n",
      " #   Column             Non-Null Count  Dtype         \n",
      "---  ------             --------------  -----         \n",
      " 0   Date               450 non-null    datetime64[ns]\n",
      " 1   Day                450 non-null    category      \n",
      " 2   SKU                450 non-null    category      \n",
      " 3   City               450 non-null    category      \n",
      " 4   Volume             450 non-null    int64         \n",
      " 5   BU                 450 non-null    category      \n",
      " 6   Brand              450 non-null    category      \n",
      " 7   Model              450 non-null    category      \n",
      " 8   Avg Price          450 non-null    int64         \n",
      " 9   Total Sales Value  450 non-null    int64         \n",
      " 10  Discount Rate (%)  450 non-null    float64       \n",
      " 11  Discount Amount    450 non-null    float64       \n",
      " 12  Net Sales Value    450 non-null    float64       \n",
      "dtypes: category(6), datetime64[ns](1), float64(3), int64(3)\n",
      "memory usage: 30.9 KB\n"
     ]
    }
   ],
   "source": [
    "df.info()"
   ]
  },
  {
   "cell_type": "code",
   "execution_count": 74,
   "id": "a884ec9a-a76b-489b-afb8-aa7a8cd9c683",
   "metadata": {},
   "outputs": [],
   "source": [
    "# defining the standardization function\n",
    "def get_standardization(x):\n",
    "    return ((x-x.mean())/x.std())\n",
    "df[df.select_dtypes(include=[np.number]).columns] = df.select_dtypes(include=[np.number]).apply(get_standardization)"
   ]
  },
  {
   "cell_type": "code",
   "execution_count": 75,
   "id": "ef253a29-e97b-4cbe-a345-b5116578083d",
   "metadata": {},
   "outputs": [
    {
     "name": "stdout",
     "output_type": "stream",
     "text": [
      "<class 'pandas.core.frame.DataFrame'>\n",
      "RangeIndex: 450 entries, 0 to 449\n",
      "Data columns (total 13 columns):\n",
      " #   Column             Non-Null Count  Dtype         \n",
      "---  ------             --------------  -----         \n",
      " 0   Date               450 non-null    datetime64[ns]\n",
      " 1   Day                450 non-null    category      \n",
      " 2   SKU                450 non-null    category      \n",
      " 3   City               450 non-null    category      \n",
      " 4   Volume             450 non-null    float64       \n",
      " 5   BU                 450 non-null    category      \n",
      " 6   Brand              450 non-null    category      \n",
      " 7   Model              450 non-null    category      \n",
      " 8   Avg Price          450 non-null    float64       \n",
      " 9   Total Sales Value  450 non-null    float64       \n",
      " 10  Discount Rate (%)  450 non-null    float64       \n",
      " 11  Discount Amount    450 non-null    float64       \n",
      " 12  Net Sales Value    450 non-null    float64       \n",
      "dtypes: category(6), datetime64[ns](1), float64(6)\n",
      "memory usage: 30.9 KB\n"
     ]
    }
   ],
   "source": [
    "df.info()"
   ]
  },
  {
   "cell_type": "code",
   "execution_count": 76,
   "id": "5793764e-153f-48e2-9143-070b418486da",
   "metadata": {},
   "outputs": [
    {
     "data": {
      "text/html": [
       "<div>\n",
       "<style scoped>\n",
       "    .dataframe tbody tr th:only-of-type {\n",
       "        vertical-align: middle;\n",
       "    }\n",
       "\n",
       "    .dataframe tbody tr th {\n",
       "        vertical-align: top;\n",
       "    }\n",
       "\n",
       "    .dataframe thead th {\n",
       "        text-align: right;\n",
       "    }\n",
       "</style>\n",
       "<table border=\"1\" class=\"dataframe\">\n",
       "  <thead>\n",
       "    <tr style=\"text-align: right;\">\n",
       "      <th></th>\n",
       "      <th>Date</th>\n",
       "      <th>Volume</th>\n",
       "      <th>Avg Price</th>\n",
       "      <th>Total Sales Value</th>\n",
       "      <th>Discount Rate (%)</th>\n",
       "      <th>Discount Amount</th>\n",
       "      <th>Net Sales Value</th>\n",
       "    </tr>\n",
       "  </thead>\n",
       "  <tbody>\n",
       "    <tr>\n",
       "      <th>count</th>\n",
       "      <td>450</td>\n",
       "      <td>4.500000e+02</td>\n",
       "      <td>4.500000e+02</td>\n",
       "      <td>4.500000e+02</td>\n",
       "      <td>4.500000e+02</td>\n",
       "      <td>4.500000e+02</td>\n",
       "      <td>4.500000e+02</td>\n",
       "    </tr>\n",
       "    <tr>\n",
       "      <th>mean</th>\n",
       "      <td>2021-05-17 04:48:00</td>\n",
       "      <td>4.934325e-17</td>\n",
       "      <td>3.947460e-17</td>\n",
       "      <td>1.184238e-17</td>\n",
       "      <td>-3.552714e-17</td>\n",
       "      <td>-5.921189e-17</td>\n",
       "      <td>3.947460e-18</td>\n",
       "    </tr>\n",
       "    <tr>\n",
       "      <th>min</th>\n",
       "      <td>2021-01-04 00:00:00</td>\n",
       "      <td>-9.610229e-01</td>\n",
       "      <td>-5.621398e-01</td>\n",
       "      <td>-6.611811e-01</td>\n",
       "      <td>-2.404259e+00</td>\n",
       "      <td>-7.266945e-01</td>\n",
       "      <td>-6.501345e-01</td>\n",
       "    </tr>\n",
       "    <tr>\n",
       "      <th>25%</th>\n",
       "      <td>2021-01-04 00:00:00</td>\n",
       "      <td>-4.883887e-01</td>\n",
       "      <td>-5.524605e-01</td>\n",
       "      <td>-6.156681e-01</td>\n",
       "      <td>-2.819928e-01</td>\n",
       "      <td>-6.399340e-01</td>\n",
       "      <td>-6.096839e-01</td>\n",
       "    </tr>\n",
       "    <tr>\n",
       "      <th>50%</th>\n",
       "      <td>2021-05-04 00:00:00</td>\n",
       "      <td>-2.520716e-01</td>\n",
       "      <td>-4.979801e-01</td>\n",
       "      <td>-5.563034e-01</td>\n",
       "      <td>3.370428e-01</td>\n",
       "      <td>-5.227531e-01</td>\n",
       "      <td>-5.562833e-01</td>\n",
       "    </tr>\n",
       "    <tr>\n",
       "      <th>75%</th>\n",
       "      <td>2021-09-04 00:00:00</td>\n",
       "      <td>2.205626e-01</td>\n",
       "      <td>-1.954841e-02</td>\n",
       "      <td>3.836378e-01</td>\n",
       "      <td>7.011977e-01</td>\n",
       "      <td>4.368156e-01</td>\n",
       "      <td>3.749370e-01</td>\n",
       "    </tr>\n",
       "    <tr>\n",
       "      <th>max</th>\n",
       "      <td>2021-12-04 00:00:00</td>\n",
       "      <td>6.128490e+00</td>\n",
       "      <td>2.745953e+00</td>\n",
       "      <td>3.217313e+00</td>\n",
       "      <td>1.146084e+00</td>\n",
       "      <td>4.964968e+00</td>\n",
       "      <td>3.214958e+00</td>\n",
       "    </tr>\n",
       "    <tr>\n",
       "      <th>std</th>\n",
       "      <td>NaN</td>\n",
       "      <td>1.000000e+00</td>\n",
       "      <td>1.000000e+00</td>\n",
       "      <td>1.000000e+00</td>\n",
       "      <td>1.000000e+00</td>\n",
       "      <td>1.000000e+00</td>\n",
       "      <td>1.000000e+00</td>\n",
       "    </tr>\n",
       "  </tbody>\n",
       "</table>\n",
       "</div>"
      ],
      "text/plain": [
       "                      Date        Volume     Avg Price  Total Sales Value  \\\n",
       "count                  450  4.500000e+02  4.500000e+02       4.500000e+02   \n",
       "mean   2021-05-17 04:48:00  4.934325e-17  3.947460e-17       1.184238e-17   \n",
       "min    2021-01-04 00:00:00 -9.610229e-01 -5.621398e-01      -6.611811e-01   \n",
       "25%    2021-01-04 00:00:00 -4.883887e-01 -5.524605e-01      -6.156681e-01   \n",
       "50%    2021-05-04 00:00:00 -2.520716e-01 -4.979801e-01      -5.563034e-01   \n",
       "75%    2021-09-04 00:00:00  2.205626e-01 -1.954841e-02       3.836378e-01   \n",
       "max    2021-12-04 00:00:00  6.128490e+00  2.745953e+00       3.217313e+00   \n",
       "std                    NaN  1.000000e+00  1.000000e+00       1.000000e+00   \n",
       "\n",
       "       Discount Rate (%)  Discount Amount  Net Sales Value  \n",
       "count       4.500000e+02     4.500000e+02     4.500000e+02  \n",
       "mean       -3.552714e-17    -5.921189e-17     3.947460e-18  \n",
       "min        -2.404259e+00    -7.266945e-01    -6.501345e-01  \n",
       "25%        -2.819928e-01    -6.399340e-01    -6.096839e-01  \n",
       "50%         3.370428e-01    -5.227531e-01    -5.562833e-01  \n",
       "75%         7.011977e-01     4.368156e-01     3.749370e-01  \n",
       "max         1.146084e+00     4.964968e+00     3.214958e+00  \n",
       "std         1.000000e+00     1.000000e+00     1.000000e+00  "
      ]
     },
     "execution_count": 76,
     "metadata": {},
     "output_type": "execute_result"
    }
   ],
   "source": [
    "df.describe()"
   ]
  },
  {
   "cell_type": "code",
   "execution_count": 77,
   "id": "fc067201-f4a8-4f12-91c7-08fef955ed64",
   "metadata": {},
   "outputs": [
    {
     "data": {
      "text/html": [
       "<div>\n",
       "<style scoped>\n",
       "    .dataframe tbody tr th:only-of-type {\n",
       "        vertical-align: middle;\n",
       "    }\n",
       "\n",
       "    .dataframe tbody tr th {\n",
       "        vertical-align: top;\n",
       "    }\n",
       "\n",
       "    .dataframe thead th {\n",
       "        text-align: right;\n",
       "    }\n",
       "</style>\n",
       "<table border=\"1\" class=\"dataframe\">\n",
       "  <thead>\n",
       "    <tr style=\"text-align: right;\">\n",
       "      <th></th>\n",
       "      <th>Date</th>\n",
       "      <th>Day</th>\n",
       "      <th>SKU</th>\n",
       "      <th>City</th>\n",
       "      <th>Volume</th>\n",
       "      <th>BU</th>\n",
       "      <th>Brand</th>\n",
       "      <th>Model</th>\n",
       "      <th>Avg Price</th>\n",
       "      <th>Total Sales Value</th>\n",
       "      <th>Discount Rate (%)</th>\n",
       "      <th>Discount Amount</th>\n",
       "      <th>Net Sales Value</th>\n",
       "    </tr>\n",
       "  </thead>\n",
       "  <tbody>\n",
       "    <tr>\n",
       "      <th>0</th>\n",
       "      <td>2021-01-04</td>\n",
       "      <td>Thursday</td>\n",
       "      <td>M01</td>\n",
       "      <td>C</td>\n",
       "      <td>2.347417</td>\n",
       "      <td>Mobiles</td>\n",
       "      <td>RealU</td>\n",
       "      <td>RU-10</td>\n",
       "      <td>0.091072</td>\n",
       "      <td>2.922469</td>\n",
       "      <td>-0.829365</td>\n",
       "      <td>3.948422</td>\n",
       "      <td>2.801638</td>\n",
       "    </tr>\n",
       "    <tr>\n",
       "      <th>1</th>\n",
       "      <td>2021-01-04</td>\n",
       "      <td>Thursday</td>\n",
       "      <td>M02</td>\n",
       "      <td>C</td>\n",
       "      <td>1.165831</td>\n",
       "      <td>Mobiles</td>\n",
       "      <td>RealU</td>\n",
       "      <td>RU-9 Plus</td>\n",
       "      <td>-0.019548</td>\n",
       "      <td>1.329516</td>\n",
       "      <td>-0.851714</td>\n",
       "      <td>1.846958</td>\n",
       "      <td>1.269613</td>\n",
       "    </tr>\n",
       "    <tr>\n",
       "      <th>2</th>\n",
       "      <td>2021-01-04</td>\n",
       "      <td>Thursday</td>\n",
       "      <td>M03</td>\n",
       "      <td>C</td>\n",
       "      <td>0.456880</td>\n",
       "      <td>Mobiles</td>\n",
       "      <td>YouM</td>\n",
       "      <td>YM-99</td>\n",
       "      <td>0.312312</td>\n",
       "      <td>1.561038</td>\n",
       "      <td>-1.350129</td>\n",
       "      <td>1.621190</td>\n",
       "      <td>1.543957</td>\n",
       "    </tr>\n",
       "    <tr>\n",
       "      <th>3</th>\n",
       "      <td>2021-01-04</td>\n",
       "      <td>Thursday</td>\n",
       "      <td>M04</td>\n",
       "      <td>C</td>\n",
       "      <td>0.220563</td>\n",
       "      <td>Mobiles</td>\n",
       "      <td>YouM</td>\n",
       "      <td>YM-99 Plus</td>\n",
       "      <td>0.533552</td>\n",
       "      <td>1.717365</td>\n",
       "      <td>-1.947555</td>\n",
       "      <td>1.112568</td>\n",
       "      <td>1.763847</td>\n",
       "    </tr>\n",
       "    <tr>\n",
       "      <th>4</th>\n",
       "      <td>2021-01-04</td>\n",
       "      <td>Thursday</td>\n",
       "      <td>M05</td>\n",
       "      <td>C</td>\n",
       "      <td>-0.488389</td>\n",
       "      <td>Mobiles</td>\n",
       "      <td>YouM</td>\n",
       "      <td>YM-98</td>\n",
       "      <td>-0.130168</td>\n",
       "      <td>-0.188242</td>\n",
       "      <td>0.672990</td>\n",
       "      <td>0.227598</td>\n",
       "      <td>-0.227342</td>\n",
       "    </tr>\n",
       "  </tbody>\n",
       "</table>\n",
       "</div>"
      ],
      "text/plain": [
       "        Date       Day  SKU City    Volume       BU  Brand       Model  \\\n",
       "0 2021-01-04  Thursday  M01    C  2.347417  Mobiles  RealU       RU-10   \n",
       "1 2021-01-04  Thursday  M02    C  1.165831  Mobiles  RealU   RU-9 Plus   \n",
       "2 2021-01-04  Thursday  M03    C  0.456880  Mobiles   YouM       YM-99   \n",
       "3 2021-01-04  Thursday  M04    C  0.220563  Mobiles   YouM  YM-99 Plus   \n",
       "4 2021-01-04  Thursday  M05    C -0.488389  Mobiles   YouM      YM-98    \n",
       "\n",
       "   Avg Price  Total Sales Value  Discount Rate (%)  Discount Amount  \\\n",
       "0   0.091072           2.922469          -0.829365         3.948422   \n",
       "1  -0.019548           1.329516          -0.851714         1.846958   \n",
       "2   0.312312           1.561038          -1.350129         1.621190   \n",
       "3   0.533552           1.717365          -1.947555         1.112568   \n",
       "4  -0.130168          -0.188242           0.672990         0.227598   \n",
       "\n",
       "   Net Sales Value  \n",
       "0         2.801638  \n",
       "1         1.269613  \n",
       "2         1.543957  \n",
       "3         1.763847  \n",
       "4        -0.227342  "
      ]
     },
     "execution_count": 77,
     "metadata": {},
     "output_type": "execute_result"
    }
   ],
   "source": [
    "df.head()"
   ]
  },
  {
   "cell_type": "code",
   "execution_count": 79,
   "id": "350e4d21-e617-447e-8d0a-1f11d748ca04",
   "metadata": {},
   "outputs": [],
   "source": [
    "df=pd.get_dummies(df,dtype=int,drop_first=True)"
   ]
  },
  {
   "cell_type": "code",
   "execution_count": 82,
   "id": "babf0541-ae67-46d7-afdd-b1951a123894",
   "metadata": {},
   "outputs": [
    {
     "name": "stdout",
     "output_type": "stream",
     "text": [
      "<class 'pandas.core.frame.DataFrame'>\n",
      "RangeIndex: 450 entries, 0 to 449\n",
      "Data columns (total 81 columns):\n",
      " #   Column                Non-Null Count  Dtype         \n",
      "---  ------                --------------  -----         \n",
      " 0   Date                  450 non-null    datetime64[ns]\n",
      " 1   Volume                450 non-null    float64       \n",
      " 2   Avg Price             450 non-null    float64       \n",
      " 3   Total Sales Value     450 non-null    float64       \n",
      " 4   Discount Rate (%)     450 non-null    float64       \n",
      " 5   Discount Amount       450 non-null    float64       \n",
      " 6   Net Sales Value       450 non-null    float64       \n",
      " 7   Day_Monday            450 non-null    int32         \n",
      " 8   Day_Saturday          450 non-null    int32         \n",
      " 9   Day_Sunday            450 non-null    int32         \n",
      " 10  Day_Thursday          450 non-null    int32         \n",
      " 11  Day_Tuesday           450 non-null    int32         \n",
      " 12  Day_Wednesday         450 non-null    int32         \n",
      " 13  SKU_F02               450 non-null    int32         \n",
      " 14  SKU_F03               450 non-null    int32         \n",
      " 15  SKU_F04               450 non-null    int32         \n",
      " 16  SKU_F05               450 non-null    int32         \n",
      " 17  SKU_F06               450 non-null    int32         \n",
      " 18  SKU_F07               450 non-null    int32         \n",
      " 19  SKU_F08               450 non-null    int32         \n",
      " 20  SKU_F09               450 non-null    int32         \n",
      " 21  SKU_F10               450 non-null    int32         \n",
      " 22  SKU_L01               450 non-null    int32         \n",
      " 23  SKU_L02               450 non-null    int32         \n",
      " 24  SKU_L03               450 non-null    int32         \n",
      " 25  SKU_L04               450 non-null    int32         \n",
      " 26  SKU_L05               450 non-null    int32         \n",
      " 27  SKU_L06               450 non-null    int32         \n",
      " 28  SKU_L07               450 non-null    int32         \n",
      " 29  SKU_L08               450 non-null    int32         \n",
      " 30  SKU_L09               450 non-null    int32         \n",
      " 31  SKU_L10               450 non-null    int32         \n",
      " 32  SKU_M01               450 non-null    int32         \n",
      " 33  SKU_M02               450 non-null    int32         \n",
      " 34  SKU_M03               450 non-null    int32         \n",
      " 35  SKU_M04               450 non-null    int32         \n",
      " 36  SKU_M05               450 non-null    int32         \n",
      " 37  SKU_M06               450 non-null    int32         \n",
      " 38  SKU_M07               450 non-null    int32         \n",
      " 39  SKU_M08               450 non-null    int32         \n",
      " 40  SKU_M09               450 non-null    int32         \n",
      " 41  SKU_M10               450 non-null    int32         \n",
      " 42  BU_Lifestyle          450 non-null    int32         \n",
      " 43  BU_Mobiles            450 non-null    int32         \n",
      " 44  Brand_Gear            450 non-null    int32         \n",
      " 45  Brand_Jeera           450 non-null    int32         \n",
      " 46  Brand_Orange          450 non-null    int32         \n",
      " 47  Brand_RealU           450 non-null    int32         \n",
      " 48  Brand_Sumsang         450 non-null    int32         \n",
      " 49  Brand_Vedic           450 non-null    int32         \n",
      " 50  Brand_Viva            450 non-null    int32         \n",
      " 51  Brand_YouM            450 non-null    int32         \n",
      " 52  Model_Babaji Oil      450 non-null    int32         \n",
      " 53  Model_Babaji Shampoo  450 non-null    int32         \n",
      " 54  Model_Gear BB Cream   450 non-null    int32         \n",
      " 55  Model_Gear Cream      450 non-null    int32         \n",
      " 56  Model_Gear Oil        450 non-null    int32         \n",
      " 57  Model_Gear Shampoo    450 non-null    int32         \n",
      " 58  Model_M- Inners       450 non-null    int32         \n",
      " 59  Model_M- T Shirts     450 non-null    int32         \n",
      " 60  Model_M-Casuals       450 non-null    int32         \n",
      " 61  Model_M-Formals       450 non-null    int32         \n",
      " 62  Model_M-Jeans         450 non-null    int32         \n",
      " 63  Model_M-Shoes         450 non-null    int32         \n",
      " 64  Model_O-10            450 non-null    int32         \n",
      " 65  Model_O-11            450 non-null    int32         \n",
      " 66  Model_RU-10           450 non-null    int32         \n",
      " 67  Model_RU-9            450 non-null    int32         \n",
      " 68  Model_RU-9 Plus       450 non-null    int32         \n",
      " 69  Model_S-20            450 non-null    int32         \n",
      " 70  Model_S-21            450 non-null    int32         \n",
      " 71  Model_Vedic Cream     450 non-null    int32         \n",
      " 72  Model_Vedic Oil       450 non-null    int32         \n",
      " 73  Model_Vedic Shampoo   450 non-null    int32         \n",
      " 74  Model_W-Casuals       450 non-null    int32         \n",
      " 75  Model_W-Inners        450 non-null    int32         \n",
      " 76  Model_W-Lounge        450 non-null    int32         \n",
      " 77  Model_W-Western       450 non-null    int32         \n",
      " 78  Model_YM-98           450 non-null    int32         \n",
      " 79  Model_YM-99           450 non-null    int32         \n",
      " 80  Model_YM-99 Plus      450 non-null    int32         \n",
      "dtypes: datetime64[ns](1), float64(6), int32(74)\n",
      "memory usage: 154.8 KB\n"
     ]
    }
   ],
   "source": [
    "df.info()"
   ]
  },
  {
   "cell_type": "code",
   "execution_count": null,
   "id": "ad64d003-5863-4e82-90e4-37bbefb25662",
   "metadata": {},
   "outputs": [],
   "source": []
  }
 ],
 "metadata": {
  "kernelspec": {
   "display_name": "Python 3 (ipykernel)",
   "language": "python",
   "name": "python3"
  },
  "language_info": {
   "codemirror_mode": {
    "name": "ipython",
    "version": 3
   },
   "file_extension": ".py",
   "mimetype": "text/x-python",
   "name": "python",
   "nbconvert_exporter": "python",
   "pygments_lexer": "ipython3",
   "version": "3.11.7"
  }
 },
 "nbformat": 4,
 "nbformat_minor": 5
}
