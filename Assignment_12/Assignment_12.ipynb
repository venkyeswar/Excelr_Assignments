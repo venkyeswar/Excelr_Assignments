{
 "cells": [
  {
   "cell_type": "markdown",
   "id": "ab278bbb-296f-40b4-811a-883148087dbc",
   "metadata": {},
   "source": [
    "# Assignment 12 : Data Preprocessing and Feature Engineering in Machine Learning\n",
    "\n",
    "### Objective :\n",
    "\n",
    " To implement the preprocessing and feature engineering to the given dataset, and to prepare the data to further steps( model building).\n",
    "\n",
    "\n",
    "### About Data Set :\n",
    "\n",
    " Given \"Adult\" dataset, which predicts whether income exceeds $50K/yr based on census data.\n"
   ]
  },
  {
   "cell_type": "markdown",
   "id": "1d3eec3c-73b3-49dd-8df2-7d9b1abfe6d3",
   "metadata": {},
   "source": [
    "## Task 1: Data Exploration and Preprocessing\n"
   ]
  },
  {
   "cell_type": "code",
   "execution_count": 195,
   "id": "e602259b-3aac-4d01-a57b-d254143d6934",
   "metadata": {},
   "outputs": [],
   "source": [
    "# Import necessary libraries\n",
    "import numpy as np\n",
    "import pandas as pd\n",
    "import matplotlib.pyplot as plt\n",
    "import seaborn as sns\n",
    "import warnings\n",
    "warnings.filterwarnings(\"ignore\")"
   ]
  },
  {
   "cell_type": "code",
   "execution_count": 196,
   "id": "f7fe0679-c1b9-41c6-9752-7300a14c3152",
   "metadata": {},
   "outputs": [],
   "source": [
    "# load the dataset\n",
    "data = pd.read_csv(\"adult_with_headers.csv\")"
   ]
  },
  {
   "cell_type": "code",
   "execution_count": 197,
   "id": "79d052d7-c529-414d-a881-f3a6045d39ae",
   "metadata": {},
   "outputs": [
    {
     "data": {
      "text/html": [
       "<div>\n",
       "<style scoped>\n",
       "    .dataframe tbody tr th:only-of-type {\n",
       "        vertical-align: middle;\n",
       "    }\n",
       "\n",
       "    .dataframe tbody tr th {\n",
       "        vertical-align: top;\n",
       "    }\n",
       "\n",
       "    .dataframe thead th {\n",
       "        text-align: right;\n",
       "    }\n",
       "</style>\n",
       "<table border=\"1\" class=\"dataframe\">\n",
       "  <thead>\n",
       "    <tr style=\"text-align: right;\">\n",
       "      <th></th>\n",
       "      <th>age</th>\n",
       "      <th>workclass</th>\n",
       "      <th>fnlwgt</th>\n",
       "      <th>education</th>\n",
       "      <th>education_num</th>\n",
       "      <th>marital_status</th>\n",
       "      <th>occupation</th>\n",
       "      <th>relationship</th>\n",
       "      <th>race</th>\n",
       "      <th>sex</th>\n",
       "      <th>capital_gain</th>\n",
       "      <th>capital_loss</th>\n",
       "      <th>hours_per_week</th>\n",
       "      <th>native_country</th>\n",
       "      <th>income</th>\n",
       "    </tr>\n",
       "  </thead>\n",
       "  <tbody>\n",
       "    <tr>\n",
       "      <th>0</th>\n",
       "      <td>39</td>\n",
       "      <td>State-gov</td>\n",
       "      <td>77516</td>\n",
       "      <td>Bachelors</td>\n",
       "      <td>13</td>\n",
       "      <td>Never-married</td>\n",
       "      <td>Adm-clerical</td>\n",
       "      <td>Not-in-family</td>\n",
       "      <td>White</td>\n",
       "      <td>Male</td>\n",
       "      <td>2174</td>\n",
       "      <td>0</td>\n",
       "      <td>40</td>\n",
       "      <td>United-States</td>\n",
       "      <td>&lt;=50K</td>\n",
       "    </tr>\n",
       "    <tr>\n",
       "      <th>1</th>\n",
       "      <td>50</td>\n",
       "      <td>Self-emp-not-inc</td>\n",
       "      <td>83311</td>\n",
       "      <td>Bachelors</td>\n",
       "      <td>13</td>\n",
       "      <td>Married-civ-spouse</td>\n",
       "      <td>Exec-managerial</td>\n",
       "      <td>Husband</td>\n",
       "      <td>White</td>\n",
       "      <td>Male</td>\n",
       "      <td>0</td>\n",
       "      <td>0</td>\n",
       "      <td>13</td>\n",
       "      <td>United-States</td>\n",
       "      <td>&lt;=50K</td>\n",
       "    </tr>\n",
       "    <tr>\n",
       "      <th>2</th>\n",
       "      <td>38</td>\n",
       "      <td>Private</td>\n",
       "      <td>215646</td>\n",
       "      <td>HS-grad</td>\n",
       "      <td>9</td>\n",
       "      <td>Divorced</td>\n",
       "      <td>Handlers-cleaners</td>\n",
       "      <td>Not-in-family</td>\n",
       "      <td>White</td>\n",
       "      <td>Male</td>\n",
       "      <td>0</td>\n",
       "      <td>0</td>\n",
       "      <td>40</td>\n",
       "      <td>United-States</td>\n",
       "      <td>&lt;=50K</td>\n",
       "    </tr>\n",
       "    <tr>\n",
       "      <th>3</th>\n",
       "      <td>53</td>\n",
       "      <td>Private</td>\n",
       "      <td>234721</td>\n",
       "      <td>11th</td>\n",
       "      <td>7</td>\n",
       "      <td>Married-civ-spouse</td>\n",
       "      <td>Handlers-cleaners</td>\n",
       "      <td>Husband</td>\n",
       "      <td>Black</td>\n",
       "      <td>Male</td>\n",
       "      <td>0</td>\n",
       "      <td>0</td>\n",
       "      <td>40</td>\n",
       "      <td>United-States</td>\n",
       "      <td>&lt;=50K</td>\n",
       "    </tr>\n",
       "    <tr>\n",
       "      <th>4</th>\n",
       "      <td>28</td>\n",
       "      <td>Private</td>\n",
       "      <td>338409</td>\n",
       "      <td>Bachelors</td>\n",
       "      <td>13</td>\n",
       "      <td>Married-civ-spouse</td>\n",
       "      <td>Prof-specialty</td>\n",
       "      <td>Wife</td>\n",
       "      <td>Black</td>\n",
       "      <td>Female</td>\n",
       "      <td>0</td>\n",
       "      <td>0</td>\n",
       "      <td>40</td>\n",
       "      <td>Cuba</td>\n",
       "      <td>&lt;=50K</td>\n",
       "    </tr>\n",
       "  </tbody>\n",
       "</table>\n",
       "</div>"
      ],
      "text/plain": [
       "   age          workclass  fnlwgt   education  education_num  \\\n",
       "0   39          State-gov   77516   Bachelors             13   \n",
       "1   50   Self-emp-not-inc   83311   Bachelors             13   \n",
       "2   38            Private  215646     HS-grad              9   \n",
       "3   53            Private  234721        11th              7   \n",
       "4   28            Private  338409   Bachelors             13   \n",
       "\n",
       "        marital_status          occupation    relationship    race      sex  \\\n",
       "0        Never-married        Adm-clerical   Not-in-family   White     Male   \n",
       "1   Married-civ-spouse     Exec-managerial         Husband   White     Male   \n",
       "2             Divorced   Handlers-cleaners   Not-in-family   White     Male   \n",
       "3   Married-civ-spouse   Handlers-cleaners         Husband   Black     Male   \n",
       "4   Married-civ-spouse      Prof-specialty            Wife   Black   Female   \n",
       "\n",
       "   capital_gain  capital_loss  hours_per_week  native_country  income  \n",
       "0          2174             0              40   United-States   <=50K  \n",
       "1             0             0              13   United-States   <=50K  \n",
       "2             0             0              40   United-States   <=50K  \n",
       "3             0             0              40   United-States   <=50K  \n",
       "4             0             0              40            Cuba   <=50K  "
      ]
     },
     "execution_count": 197,
     "metadata": {},
     "output_type": "execute_result"
    }
   ],
   "source": [
    "data.head()"
   ]
  },
  {
   "cell_type": "code",
   "execution_count": 198,
   "id": "1907a3d8-87d6-4baf-a11e-dc4f8e59ee06",
   "metadata": {},
   "outputs": [
    {
     "name": "stdout",
     "output_type": "stream",
     "text": [
      "<class 'pandas.core.frame.DataFrame'>\n",
      "RangeIndex: 32561 entries, 0 to 32560\n",
      "Data columns (total 15 columns):\n",
      " #   Column          Non-Null Count  Dtype \n",
      "---  ------          --------------  ----- \n",
      " 0   age             32561 non-null  int64 \n",
      " 1   workclass       32561 non-null  object\n",
      " 2   fnlwgt          32561 non-null  int64 \n",
      " 3   education       32561 non-null  object\n",
      " 4   education_num   32561 non-null  int64 \n",
      " 5   marital_status  32561 non-null  object\n",
      " 6   occupation      32561 non-null  object\n",
      " 7   relationship    32561 non-null  object\n",
      " 8   race            32561 non-null  object\n",
      " 9   sex             32561 non-null  object\n",
      " 10  capital_gain    32561 non-null  int64 \n",
      " 11  capital_loss    32561 non-null  int64 \n",
      " 12  hours_per_week  32561 non-null  int64 \n",
      " 13  native_country  32561 non-null  object\n",
      " 14  income          32561 non-null  object\n",
      "dtypes: int64(6), object(9)\n",
      "memory usage: 3.7+ MB\n"
     ]
    }
   ],
   "source": [
    "data.info()"
   ]
  },
  {
   "cell_type": "code",
   "execution_count": 199,
   "id": "7059af60-0a3a-4531-bad1-8cecc57a8382",
   "metadata": {},
   "outputs": [
    {
     "data": {
      "text/plain": [
       "0"
      ]
     },
     "execution_count": 199,
     "metadata": {},
     "output_type": "execute_result"
    }
   ],
   "source": [
    "data.isna().sum().sum()"
   ]
  },
  {
   "cell_type": "markdown",
   "id": "3ea60cf6-e47c-4f64-9a68-e70bb5f01c60",
   "metadata": {},
   "source": [
    "### Data Interpretation :\n",
    "- Data having 0 null values so no need to handle missing values.\n",
    "- It has :\n",
    "\n",
    "  6 - interger valued features\n",
    "\n",
    "  9 - object ( categorical) features.\n",
    "\n",
    "- It has total 15 features ( columns ) and 32,561 records ( rows )\n"
   ]
  },
  {
   "cell_type": "markdown",
   "id": "66c35b60-6037-4f00-be9f-9f7987cc4907",
   "metadata": {},
   "source": [
    "### Applying Scaling techniques to numerical features :\n",
    "\n",
    "we have two types of scaling techniques \n",
    "\n",
    "**1.Standard Scaling:**\n",
    "\n",
    "Standard Scaling uses the z-score to each record and replaces it's  value with it's z-score.\n",
    "\n",
    "It has the range from -3.4 to +3.4 \n",
    "\n",
    "this technique is used when there is no categorical data in the dataset.\n",
    "\n",
    "**2.Min-Max Scaling:**\n",
    "\n",
    "Min-Max Scaling uses the formula (x-x.min()/x.max()-x.min())\n",
    "\n",
    "It has the range from 1 to 0\n",
    "\n",
    "this technique is used when there is a  categorical data in the dataset.\n"
   ]
  },
  {
   "cell_type": "code",
   "execution_count": 200,
   "id": "c87070d1-14a9-4044-a218-c79b2be24dcb",
   "metadata": {},
   "outputs": [],
   "source": [
    "# This dataset has categorical data so lets apply min_max normalization technique.\n",
    "\n",
    "from sklearn.preprocessing import MinMaxScaler\n",
    "scaler = MinMaxScaler()"
   ]
  },
  {
   "cell_type": "code",
   "execution_count": 201,
   "id": "308fe55a-2c01-414c-bfc7-bb669edfb25f",
   "metadata": {},
   "outputs": [
    {
     "data": {
      "text/html": [
       "<div>\n",
       "<style scoped>\n",
       "    .dataframe tbody tr th:only-of-type {\n",
       "        vertical-align: middle;\n",
       "    }\n",
       "\n",
       "    .dataframe tbody tr th {\n",
       "        vertical-align: top;\n",
       "    }\n",
       "\n",
       "    .dataframe thead th {\n",
       "        text-align: right;\n",
       "    }\n",
       "</style>\n",
       "<table border=\"1\" class=\"dataframe\">\n",
       "  <thead>\n",
       "    <tr style=\"text-align: right;\">\n",
       "      <th></th>\n",
       "      <th>age</th>\n",
       "      <th>workclass</th>\n",
       "      <th>fnlwgt</th>\n",
       "      <th>education</th>\n",
       "      <th>education_num</th>\n",
       "      <th>marital_status</th>\n",
       "      <th>occupation</th>\n",
       "      <th>relationship</th>\n",
       "      <th>race</th>\n",
       "      <th>sex</th>\n",
       "      <th>capital_gain</th>\n",
       "      <th>capital_loss</th>\n",
       "      <th>hours_per_week</th>\n",
       "      <th>native_country</th>\n",
       "      <th>income</th>\n",
       "    </tr>\n",
       "  </thead>\n",
       "  <tbody>\n",
       "    <tr>\n",
       "      <th>0</th>\n",
       "      <td>39</td>\n",
       "      <td>State-gov</td>\n",
       "      <td>77516</td>\n",
       "      <td>Bachelors</td>\n",
       "      <td>13</td>\n",
       "      <td>Never-married</td>\n",
       "      <td>Adm-clerical</td>\n",
       "      <td>Not-in-family</td>\n",
       "      <td>White</td>\n",
       "      <td>Male</td>\n",
       "      <td>2174</td>\n",
       "      <td>0</td>\n",
       "      <td>40</td>\n",
       "      <td>United-States</td>\n",
       "      <td>&lt;=50K</td>\n",
       "    </tr>\n",
       "    <tr>\n",
       "      <th>1</th>\n",
       "      <td>50</td>\n",
       "      <td>Self-emp-not-inc</td>\n",
       "      <td>83311</td>\n",
       "      <td>Bachelors</td>\n",
       "      <td>13</td>\n",
       "      <td>Married-civ-spouse</td>\n",
       "      <td>Exec-managerial</td>\n",
       "      <td>Husband</td>\n",
       "      <td>White</td>\n",
       "      <td>Male</td>\n",
       "      <td>0</td>\n",
       "      <td>0</td>\n",
       "      <td>13</td>\n",
       "      <td>United-States</td>\n",
       "      <td>&lt;=50K</td>\n",
       "    </tr>\n",
       "    <tr>\n",
       "      <th>2</th>\n",
       "      <td>38</td>\n",
       "      <td>Private</td>\n",
       "      <td>215646</td>\n",
       "      <td>HS-grad</td>\n",
       "      <td>9</td>\n",
       "      <td>Divorced</td>\n",
       "      <td>Handlers-cleaners</td>\n",
       "      <td>Not-in-family</td>\n",
       "      <td>White</td>\n",
       "      <td>Male</td>\n",
       "      <td>0</td>\n",
       "      <td>0</td>\n",
       "      <td>40</td>\n",
       "      <td>United-States</td>\n",
       "      <td>&lt;=50K</td>\n",
       "    </tr>\n",
       "    <tr>\n",
       "      <th>3</th>\n",
       "      <td>53</td>\n",
       "      <td>Private</td>\n",
       "      <td>234721</td>\n",
       "      <td>11th</td>\n",
       "      <td>7</td>\n",
       "      <td>Married-civ-spouse</td>\n",
       "      <td>Handlers-cleaners</td>\n",
       "      <td>Husband</td>\n",
       "      <td>Black</td>\n",
       "      <td>Male</td>\n",
       "      <td>0</td>\n",
       "      <td>0</td>\n",
       "      <td>40</td>\n",
       "      <td>United-States</td>\n",
       "      <td>&lt;=50K</td>\n",
       "    </tr>\n",
       "    <tr>\n",
       "      <th>4</th>\n",
       "      <td>28</td>\n",
       "      <td>Private</td>\n",
       "      <td>338409</td>\n",
       "      <td>Bachelors</td>\n",
       "      <td>13</td>\n",
       "      <td>Married-civ-spouse</td>\n",
       "      <td>Prof-specialty</td>\n",
       "      <td>Wife</td>\n",
       "      <td>Black</td>\n",
       "      <td>Female</td>\n",
       "      <td>0</td>\n",
       "      <td>0</td>\n",
       "      <td>40</td>\n",
       "      <td>Cuba</td>\n",
       "      <td>&lt;=50K</td>\n",
       "    </tr>\n",
       "  </tbody>\n",
       "</table>\n",
       "</div>"
      ],
      "text/plain": [
       "   age          workclass  fnlwgt   education  education_num  \\\n",
       "0   39          State-gov   77516   Bachelors             13   \n",
       "1   50   Self-emp-not-inc   83311   Bachelors             13   \n",
       "2   38            Private  215646     HS-grad              9   \n",
       "3   53            Private  234721        11th              7   \n",
       "4   28            Private  338409   Bachelors             13   \n",
       "\n",
       "        marital_status          occupation    relationship    race      sex  \\\n",
       "0        Never-married        Adm-clerical   Not-in-family   White     Male   \n",
       "1   Married-civ-spouse     Exec-managerial         Husband   White     Male   \n",
       "2             Divorced   Handlers-cleaners   Not-in-family   White     Male   \n",
       "3   Married-civ-spouse   Handlers-cleaners         Husband   Black     Male   \n",
       "4   Married-civ-spouse      Prof-specialty            Wife   Black   Female   \n",
       "\n",
       "   capital_gain  capital_loss  hours_per_week  native_country  income  \n",
       "0          2174             0              40   United-States   <=50K  \n",
       "1             0             0              13   United-States   <=50K  \n",
       "2             0             0              40   United-States   <=50K  \n",
       "3             0             0              40   United-States   <=50K  \n",
       "4             0             0              40            Cuba   <=50K  "
      ]
     },
     "execution_count": 201,
     "metadata": {},
     "output_type": "execute_result"
    }
   ],
   "source": [
    "data.head()"
   ]
  },
  {
   "cell_type": "code",
   "execution_count": 202,
   "id": "ca19141d-bf3a-45f5-9bb5-e1bfd1e09491",
   "metadata": {},
   "outputs": [
    {
     "data": {
      "text/plain": [
       "9     10501\n",
       "10     7291\n",
       "13     5355\n",
       "14     1723\n",
       "11     1382\n",
       "7      1175\n",
       "12     1067\n",
       "6       933\n",
       "4       646\n",
       "15      576\n",
       "5       514\n",
       "8       433\n",
       "16      413\n",
       "3       333\n",
       "2       168\n",
       "1        51\n",
       "Name: education_num, dtype: int64"
      ]
     },
     "execution_count": 202,
     "metadata": {},
     "output_type": "execute_result"
    }
   ],
   "source": [
    "data.education_num.value_counts()"
   ]
  },
  {
   "cell_type": "code",
   "execution_count": 203,
   "id": "9e5e5b7a-686e-406e-8166-b3c901f26b47",
   "metadata": {},
   "outputs": [],
   "source": [
    "# hence the education_num feature is a numerical column so convert it into numerical data type.\n",
    "\n",
    "data[\"education_num\"] = pd.to_numeric(data.education_num,errors=\"coerce\")"
   ]
  },
  {
   "cell_type": "code",
   "execution_count": 204,
   "id": "023b66b4-ba48-4d26-b90d-bb0691b09480",
   "metadata": {},
   "outputs": [
    {
     "name": "stdout",
     "output_type": "stream",
     "text": [
      "<class 'pandas.core.series.Series'>\n",
      "RangeIndex: 32561 entries, 0 to 32560\n",
      "Series name: education_num\n",
      "Non-Null Count  Dtype\n",
      "--------------  -----\n",
      "32561 non-null  int64\n",
      "dtypes: int64(1)\n",
      "memory usage: 254.5 KB\n"
     ]
    }
   ],
   "source": [
    "data.education_num.info()"
   ]
  },
  {
   "cell_type": "code",
   "execution_count": 205,
   "id": "797a3b17-0825-4fae-9614-0a14c00951a7",
   "metadata": {},
   "outputs": [],
   "source": [
    "# Normalizing the numerical features.\n",
    "\n",
    "scaled_df = scaler.fit_transform(data[[\"age\",\"fnlwgt\",\"education_num\",\"capital_gain\",\"capital_loss\",\"hours_per_week\"]])"
   ]
  },
  {
   "cell_type": "code",
   "execution_count": 206,
   "id": "906e0b69-cbc1-4051-972c-6b28f230294a",
   "metadata": {},
   "outputs": [
    {
     "data": {
      "text/plain": [
       "array([[0.30136986, 0.0443019 , 0.8       , 0.02174022, 0.        ,\n",
       "        0.39795918],\n",
       "       [0.45205479, 0.0482376 , 0.8       , 0.        , 0.        ,\n",
       "        0.12244898],\n",
       "       [0.28767123, 0.13811345, 0.53333333, 0.        , 0.        ,\n",
       "        0.39795918],\n",
       "       ...,\n",
       "       [0.56164384, 0.09482688, 0.53333333, 0.        , 0.        ,\n",
       "        0.39795918],\n",
       "       [0.06849315, 0.12849934, 0.53333333, 0.        , 0.        ,\n",
       "        0.19387755],\n",
       "       [0.47945205, 0.18720338, 0.53333333, 0.1502415 , 0.        ,\n",
       "        0.39795918]])"
      ]
     },
     "execution_count": 206,
     "metadata": {},
     "output_type": "execute_result"
    }
   ],
   "source": [
    "scaled_df"
   ]
  },
  {
   "cell_type": "code",
   "execution_count": 207,
   "id": "60d10ee3-6f1a-4f0c-a08d-365d4e2a9679",
   "metadata": {},
   "outputs": [],
   "source": [
    "scaled_df = pd.DataFrame(scaled_df,columns=[\"age\",\"fnlwgt\",\"education_num\",\"capital_gain\",\"capital_loss\",\"hours_per_week\"])"
   ]
  },
  {
   "cell_type": "code",
   "execution_count": 208,
   "id": "42903282-0213-4568-a8ec-70babb9a2641",
   "metadata": {},
   "outputs": [],
   "source": [
    "# replace the data with normalized data\n",
    "data[[\"age\",\"fnlwgt\",\"education_num\",\"capital_gain\",\"capital_loss\",\"hours_per_week\"]]= scaled_df"
   ]
  },
  {
   "cell_type": "code",
   "execution_count": 209,
   "id": "0eeebc32-d81a-4727-b84b-e167311ca2a2",
   "metadata": {},
   "outputs": [
    {
     "data": {
      "text/html": [
       "<div>\n",
       "<style scoped>\n",
       "    .dataframe tbody tr th:only-of-type {\n",
       "        vertical-align: middle;\n",
       "    }\n",
       "\n",
       "    .dataframe tbody tr th {\n",
       "        vertical-align: top;\n",
       "    }\n",
       "\n",
       "    .dataframe thead th {\n",
       "        text-align: right;\n",
       "    }\n",
       "</style>\n",
       "<table border=\"1\" class=\"dataframe\">\n",
       "  <thead>\n",
       "    <tr style=\"text-align: right;\">\n",
       "      <th></th>\n",
       "      <th>age</th>\n",
       "      <th>fnlwgt</th>\n",
       "      <th>education_num</th>\n",
       "      <th>capital_gain</th>\n",
       "      <th>capital_loss</th>\n",
       "      <th>hours_per_week</th>\n",
       "    </tr>\n",
       "  </thead>\n",
       "  <tbody>\n",
       "    <tr>\n",
       "      <th>count</th>\n",
       "      <td>32561.000000</td>\n",
       "      <td>32561.000000</td>\n",
       "      <td>32561.000000</td>\n",
       "      <td>32561.000000</td>\n",
       "      <td>32561.000000</td>\n",
       "      <td>32561.000000</td>\n",
       "    </tr>\n",
       "    <tr>\n",
       "      <th>mean</th>\n",
       "      <td>0.295639</td>\n",
       "      <td>0.120545</td>\n",
       "      <td>0.605379</td>\n",
       "      <td>0.010777</td>\n",
       "      <td>0.020042</td>\n",
       "      <td>0.402423</td>\n",
       "    </tr>\n",
       "    <tr>\n",
       "      <th>std</th>\n",
       "      <td>0.186855</td>\n",
       "      <td>0.071685</td>\n",
       "      <td>0.171515</td>\n",
       "      <td>0.073854</td>\n",
       "      <td>0.092507</td>\n",
       "      <td>0.125994</td>\n",
       "    </tr>\n",
       "    <tr>\n",
       "      <th>min</th>\n",
       "      <td>0.000000</td>\n",
       "      <td>0.000000</td>\n",
       "      <td>0.000000</td>\n",
       "      <td>0.000000</td>\n",
       "      <td>0.000000</td>\n",
       "      <td>0.000000</td>\n",
       "    </tr>\n",
       "    <tr>\n",
       "      <th>25%</th>\n",
       "      <td>0.150685</td>\n",
       "      <td>0.071679</td>\n",
       "      <td>0.533333</td>\n",
       "      <td>0.000000</td>\n",
       "      <td>0.000000</td>\n",
       "      <td>0.397959</td>\n",
       "    </tr>\n",
       "    <tr>\n",
       "      <th>50%</th>\n",
       "      <td>0.273973</td>\n",
       "      <td>0.112788</td>\n",
       "      <td>0.600000</td>\n",
       "      <td>0.000000</td>\n",
       "      <td>0.000000</td>\n",
       "      <td>0.397959</td>\n",
       "    </tr>\n",
       "    <tr>\n",
       "      <th>75%</th>\n",
       "      <td>0.424658</td>\n",
       "      <td>0.152651</td>\n",
       "      <td>0.733333</td>\n",
       "      <td>0.000000</td>\n",
       "      <td>0.000000</td>\n",
       "      <td>0.448980</td>\n",
       "    </tr>\n",
       "    <tr>\n",
       "      <th>max</th>\n",
       "      <td>1.000000</td>\n",
       "      <td>1.000000</td>\n",
       "      <td>1.000000</td>\n",
       "      <td>1.000000</td>\n",
       "      <td>1.000000</td>\n",
       "      <td>1.000000</td>\n",
       "    </tr>\n",
       "  </tbody>\n",
       "</table>\n",
       "</div>"
      ],
      "text/plain": [
       "                age        fnlwgt  education_num  capital_gain  capital_loss  \\\n",
       "count  32561.000000  32561.000000   32561.000000  32561.000000  32561.000000   \n",
       "mean       0.295639      0.120545       0.605379      0.010777      0.020042   \n",
       "std        0.186855      0.071685       0.171515      0.073854      0.092507   \n",
       "min        0.000000      0.000000       0.000000      0.000000      0.000000   \n",
       "25%        0.150685      0.071679       0.533333      0.000000      0.000000   \n",
       "50%        0.273973      0.112788       0.600000      0.000000      0.000000   \n",
       "75%        0.424658      0.152651       0.733333      0.000000      0.000000   \n",
       "max        1.000000      1.000000       1.000000      1.000000      1.000000   \n",
       "\n",
       "       hours_per_week  \n",
       "count    32561.000000  \n",
       "mean         0.402423  \n",
       "std          0.125994  \n",
       "min          0.000000  \n",
       "25%          0.397959  \n",
       "50%          0.397959  \n",
       "75%          0.448980  \n",
       "max          1.000000  "
      ]
     },
     "execution_count": 209,
     "metadata": {},
     "output_type": "execute_result"
    }
   ],
   "source": [
    "data[[\"age\",\"fnlwgt\",\"education_num\",\"capital_gain\",\"capital_loss\",\"hours_per_week\"]].describe()"
   ]
  },
  {
   "cell_type": "code",
   "execution_count": 210,
   "id": "7266fa57-93df-4d05-9f33-bdcc011bca6f",
   "metadata": {},
   "outputs": [
    {
     "name": "stdout",
     "output_type": "stream",
     "text": [
      "<class 'pandas.core.frame.DataFrame'>\n",
      "RangeIndex: 32561 entries, 0 to 32560\n",
      "Data columns (total 15 columns):\n",
      " #   Column          Non-Null Count  Dtype  \n",
      "---  ------          --------------  -----  \n",
      " 0   age             32561 non-null  float64\n",
      " 1   workclass       32561 non-null  object \n",
      " 2   fnlwgt          32561 non-null  float64\n",
      " 3   education       32561 non-null  object \n",
      " 4   education_num   32561 non-null  float64\n",
      " 5   marital_status  32561 non-null  object \n",
      " 6   occupation      32561 non-null  object \n",
      " 7   relationship    32561 non-null  object \n",
      " 8   race            32561 non-null  object \n",
      " 9   sex             32561 non-null  object \n",
      " 10  capital_gain    32561 non-null  float64\n",
      " 11  capital_loss    32561 non-null  float64\n",
      " 12  hours_per_week  32561 non-null  float64\n",
      " 13  native_country  32561 non-null  object \n",
      " 14  income          32561 non-null  object \n",
      "dtypes: float64(6), object(9)\n",
      "memory usage: 3.7+ MB\n"
     ]
    }
   ],
   "source": [
    "data.info()"
   ]
  },
  {
   "cell_type": "markdown",
   "id": "fb32eb32-da89-4a25-8406-7257caeb7a9d",
   "metadata": {},
   "source": [
    "## Task 2 : Encoding Techniques"
   ]
  },
  {
   "cell_type": "code",
   "execution_count": 211,
   "id": "d2636b38-9a67-48fb-8982-148de053af94",
   "metadata": {},
   "outputs": [
    {
     "data": {
      "text/plain": [
       "[' State-gov', ' Self-emp-not-inc', ' Private', ' Federal-gov', ' Local-gov', ' ?', ' Self-emp-inc', ' Without-pay', ' Never-worked']\n",
       "Categories (9, object): [' ?', ' Federal-gov', ' Local-gov', ' Never-worked', ..., ' Self-emp-inc', ' Self-emp-not-inc', ' State-gov', ' Without-pay']"
      ]
     },
     "execution_count": 211,
     "metadata": {},
     "output_type": "execute_result"
    }
   ],
   "source": [
    "# encoding the workclass feature.\n",
    "data.workclass = data.workclass.astype(\"category\")\n",
    "data.workclass.unique()"
   ]
  },
  {
   "cell_type": "code",
   "execution_count": 212,
   "id": "276eaa5c-8344-4ec8-bbaa-fd3770c739a2",
   "metadata": {},
   "outputs": [
    {
     "data": {
      "text/plain": [
       "9"
      ]
     },
     "execution_count": 212,
     "metadata": {},
     "output_type": "execute_result"
    }
   ],
   "source": [
    "len(data.workclass.unique())"
   ]
  },
  {
   "cell_type": "code",
   "execution_count": 213,
   "id": "ab2132b3-9474-45f0-b713-333ea316cd57",
   "metadata": {},
   "outputs": [],
   "source": [
    "# the workclass fature has 9 classes to go with label encoding.\n",
    "\n",
    "from sklearn.preprocessing import LabelEncoder\n",
    "label_encoder = LabelEncoder()\n",
    "data[\"workclass\"]=label_encoder.fit_transform(data[\"workclass\"])"
   ]
  },
  {
   "cell_type": "code",
   "execution_count": 214,
   "id": "012b37b8-6e12-4dfb-8794-145f24159beb",
   "metadata": {},
   "outputs": [
    {
     "data": {
      "text/plain": [
       "array([7, 6, 4, 1, 2, 0, 5, 8, 3])"
      ]
     },
     "execution_count": 214,
     "metadata": {},
     "output_type": "execute_result"
    }
   ],
   "source": [
    "data.workclass.unique()"
   ]
  },
  {
   "cell_type": "code",
   "execution_count": 215,
   "id": "bfb8c962-fcd8-4f2b-aefa-0354e2ec90a7",
   "metadata": {},
   "outputs": [
    {
     "name": "stdout",
     "output_type": "stream",
     "text": [
      "[' Bachelors' ' HS-grad' ' 11th' ' Masters' ' 9th' ' Some-college'\n",
      " ' Assoc-acdm' ' Assoc-voc' ' 7th-8th' ' Doctorate' ' Prof-school'\n",
      " ' 5th-6th' ' 10th' ' 1st-4th' ' Preschool' ' 12th']\n",
      "16\n"
     ]
    }
   ],
   "source": [
    "# Encoding education feature\n",
    "print(data.education.unique())\n",
    "print(len(data.education.unique()))\n",
    "data.education = data.education.astype(\"category\")"
   ]
  },
  {
   "cell_type": "code",
   "execution_count": 216,
   "id": "425f3e06-1c51-4a6c-9878-d704844779c3",
   "metadata": {},
   "outputs": [],
   "source": [
    "# Hence this education feature has 16 class so go with label encoding.\n",
    "\n",
    "data['education'] = label_encoder.fit_transform(data.education)"
   ]
  },
  {
   "cell_type": "code",
   "execution_count": 217,
   "id": "585fcd20-5cc7-4574-a5bc-ee17ab9e638b",
   "metadata": {},
   "outputs": [
    {
     "data": {
      "text/plain": [
       "array([ 9, 11,  1, 12,  6, 15,  7,  8,  5, 10, 14,  4,  0,  3, 13,  2])"
      ]
     },
     "execution_count": 217,
     "metadata": {},
     "output_type": "execute_result"
    }
   ],
   "source": [
    "data.education.unique()"
   ]
  },
  {
   "cell_type": "code",
   "execution_count": 218,
   "id": "07bf96f8-852f-4378-8adf-9256f8fee8ba",
   "metadata": {},
   "outputs": [
    {
     "name": "stdout",
     "output_type": "stream",
     "text": [
      "[' Never-married' ' Married-civ-spouse' ' Divorced'\n",
      " ' Married-spouse-absent' ' Separated' ' Married-AF-spouse' ' Widowed']\n",
      "7\n"
     ]
    }
   ],
   "source": [
    "#  Encoding maritial_status feature .\n",
    "\n",
    "print(data.marital_status.unique())\n",
    "print(len(data.marital_status.unique()))\n",
    "data.marital_status = data.marital_status.astype(\"category\")"
   ]
  },
  {
   "cell_type": "code",
   "execution_count": 219,
   "id": "bab9d9fe-db17-41b3-9ef8-92291f492d45",
   "metadata": {},
   "outputs": [],
   "source": [
    "# Hence marital_status feature has more than five features so use label-encoding for this feature.\n",
    "\n",
    "data.marital_status = label_encoder.fit_transform(data.marital_status)"
   ]
  },
  {
   "cell_type": "code",
   "execution_count": 220,
   "id": "a8bbf0c7-9a07-48e5-a636-4aa49e9314d8",
   "metadata": {},
   "outputs": [
    {
     "data": {
      "text/plain": [
       "array([4, 2, 0, 3, 5, 1, 6])"
      ]
     },
     "execution_count": 220,
     "metadata": {},
     "output_type": "execute_result"
    }
   ],
   "source": [
    "data.marital_status.unique()"
   ]
  },
  {
   "cell_type": "code",
   "execution_count": 221,
   "id": "c2cf5a73-1f94-4d52-9803-ea28c854f559",
   "metadata": {},
   "outputs": [
    {
     "name": "stdout",
     "output_type": "stream",
     "text": [
      "[' Adm-clerical' ' Exec-managerial' ' Handlers-cleaners' ' Prof-specialty'\n",
      " ' Other-service' ' Sales' ' Craft-repair' ' Transport-moving'\n",
      " ' Farming-fishing' ' Machine-op-inspct' ' Tech-support' ' ?'\n",
      " ' Protective-serv' ' Armed-Forces' ' Priv-house-serv']\n",
      "15\n"
     ]
    }
   ],
   "source": [
    "# Encoding Occupation feature .\n",
    "unique = data.occupation.unique()\n",
    "print(unique)\n",
    "print(len(unique))\n",
    "data.occupation = data.occupation.astype(\"category\")"
   ]
  },
  {
   "cell_type": "code",
   "execution_count": 222,
   "id": "94ce7625-f153-45e8-bfd6-8af47cf0a66b",
   "metadata": {},
   "outputs": [],
   "source": [
    "# hence it has more than 5 classes so go with label encoding.\n",
    "\n",
    "data.occupation = label_encoder.fit_transform(data.occupation)"
   ]
  },
  {
   "cell_type": "code",
   "execution_count": 223,
   "id": "86419b84-5bea-49a8-90b9-5c8f6a6d96e3",
   "metadata": {},
   "outputs": [
    {
     "data": {
      "text/plain": [
       "array([ 1,  4,  6, 10,  8, 12,  3, 14,  5,  7, 13,  0, 11,  2,  9])"
      ]
     },
     "execution_count": 223,
     "metadata": {},
     "output_type": "execute_result"
    }
   ],
   "source": [
    "data.occupation.unique()"
   ]
  },
  {
   "cell_type": "code",
   "execution_count": 224,
   "id": "37111320-be02-47a6-b8c1-63561485c6fc",
   "metadata": {},
   "outputs": [
    {
     "name": "stdout",
     "output_type": "stream",
     "text": [
      "[' Not-in-family' ' Husband' ' Wife' ' Own-child' ' Unmarried'\n",
      " ' Other-relative']\n",
      "6\n"
     ]
    }
   ],
   "source": [
    "# Encoding Relationship Feature\n",
    "unique = data.relationship.unique()\n",
    "print(unique)\n",
    "print(len(unique))\n",
    "data.relationship = data.relationship.astype(\"category\")"
   ]
  },
  {
   "cell_type": "code",
   "execution_count": 225,
   "id": "fcafe2ae-ac95-4039-b465-9d901fb2b180",
   "metadata": {},
   "outputs": [],
   "source": [
    "# hence it has more than five classes , use label encoding.\n",
    "data.relationship = label_encoder.fit_transform(data.relationship)"
   ]
  },
  {
   "cell_type": "code",
   "execution_count": 226,
   "id": "5cd184b4-016d-4c76-a22b-c3ed73820f8f",
   "metadata": {},
   "outputs": [
    {
     "data": {
      "text/plain": [
       "array([1, 0, 5, 3, 4, 2])"
      ]
     },
     "execution_count": 226,
     "metadata": {},
     "output_type": "execute_result"
    }
   ],
   "source": [
    "data.relationship.unique()"
   ]
  },
  {
   "cell_type": "code",
   "execution_count": 227,
   "id": "1e94edc0-945d-4bcf-8a08-45b313983de1",
   "metadata": {},
   "outputs": [
    {
     "name": "stdout",
     "output_type": "stream",
     "text": [
      "[' White' ' Black' ' Asian-Pac-Islander' ' Amer-Indian-Eskimo' ' Other']\n",
      "5\n"
     ]
    }
   ],
   "source": [
    "# Encoding race feature.\n",
    "unique = data.race.unique()\n",
    "print(unique)\n",
    "print(len(unique))"
   ]
  },
  {
   "cell_type": "code",
   "execution_count": 228,
   "id": "94631ac6-74b9-40e2-9a4a-69f0bdbaa96d",
   "metadata": {},
   "outputs": [],
   "source": [
    "# hence this race feature has exact five features so go with one-hot encoding.\n",
    "\n",
    "features = pd.get_dummies(data.race)"
   ]
  },
  {
   "cell_type": "code",
   "execution_count": 229,
   "id": "d0bfdfb0-9366-4d14-b8dc-6782690994b3",
   "metadata": {},
   "outputs": [],
   "source": [
    "data.drop(\"race\",axis=1,inplace=True)"
   ]
  },
  {
   "cell_type": "code",
   "execution_count": 230,
   "id": "b07e17e3-04f8-4d8a-9d90-656018537f3c",
   "metadata": {},
   "outputs": [],
   "source": [
    "data=pd.concat([data,features], axis=1)"
   ]
  },
  {
   "cell_type": "code",
   "execution_count": 231,
   "id": "f23fd07f-e8ef-435a-ac5c-8ea951a5ad81",
   "metadata": {},
   "outputs": [
    {
     "name": "stdout",
     "output_type": "stream",
     "text": [
      "<class 'pandas.core.frame.DataFrame'>\n",
      "RangeIndex: 32561 entries, 0 to 32560\n",
      "Data columns (total 19 columns):\n",
      " #   Column               Non-Null Count  Dtype  \n",
      "---  ------               --------------  -----  \n",
      " 0   age                  32561 non-null  float64\n",
      " 1   workclass            32561 non-null  int32  \n",
      " 2   fnlwgt               32561 non-null  float64\n",
      " 3   education            32561 non-null  int32  \n",
      " 4   education_num        32561 non-null  float64\n",
      " 5   marital_status       32561 non-null  int32  \n",
      " 6   occupation           32561 non-null  int32  \n",
      " 7   relationship         32561 non-null  int32  \n",
      " 8   sex                  32561 non-null  object \n",
      " 9   capital_gain         32561 non-null  float64\n",
      " 10  capital_loss         32561 non-null  float64\n",
      " 11  hours_per_week       32561 non-null  float64\n",
      " 12  native_country       32561 non-null  object \n",
      " 13  income               32561 non-null  object \n",
      " 14   Amer-Indian-Eskimo  32561 non-null  uint8  \n",
      " 15   Asian-Pac-Islander  32561 non-null  uint8  \n",
      " 16   Black               32561 non-null  uint8  \n",
      " 17   Other               32561 non-null  uint8  \n",
      " 18   White               32561 non-null  uint8  \n",
      "dtypes: float64(6), int32(5), object(3), uint8(5)\n",
      "memory usage: 3.0+ MB\n"
     ]
    }
   ],
   "source": [
    "data.info()"
   ]
  },
  {
   "cell_type": "code",
   "execution_count": 232,
   "id": "0d2ce2d6-b210-4ef9-8d0e-49611b5fb3f6",
   "metadata": {},
   "outputs": [
    {
     "name": "stdout",
     "output_type": "stream",
     "text": [
      "[' Male' ' Female']\n",
      "2\n"
     ]
    }
   ],
   "source": [
    "# Encoding Sex feature.\n",
    "unique = data.sex.unique()\n",
    "print(unique)\n",
    "print(len(unique))"
   ]
  },
  {
   "cell_type": "code",
   "execution_count": 233,
   "id": "47028dce-3ec0-47e4-a79c-41bc8fde1b27",
   "metadata": {},
   "outputs": [],
   "source": [
    "# hence it has only two classes so use the one_hot encoding\n",
    "features = pd.get_dummies(data.sex)"
   ]
  },
  {
   "cell_type": "code",
   "execution_count": 234,
   "id": "1b5cd046-c39b-4f0f-889a-75f529a36253",
   "metadata": {},
   "outputs": [],
   "source": [
    "data.drop(\"sex\",axis =1 ,inplace = True)"
   ]
  },
  {
   "cell_type": "code",
   "execution_count": 235,
   "id": "acf7ec3e-4af0-43c1-902e-c4d7ebd8eff7",
   "metadata": {},
   "outputs": [],
   "source": [
    "data= pd.concat([data,features],axis=1)"
   ]
  },
  {
   "cell_type": "code",
   "execution_count": 236,
   "id": "4a08465e-00e1-4482-a324-a4c9eec6cfb9",
   "metadata": {},
   "outputs": [
    {
     "name": "stdout",
     "output_type": "stream",
     "text": [
      "<class 'pandas.core.frame.DataFrame'>\n",
      "RangeIndex: 32561 entries, 0 to 32560\n",
      "Data columns (total 20 columns):\n",
      " #   Column               Non-Null Count  Dtype  \n",
      "---  ------               --------------  -----  \n",
      " 0   age                  32561 non-null  float64\n",
      " 1   workclass            32561 non-null  int32  \n",
      " 2   fnlwgt               32561 non-null  float64\n",
      " 3   education            32561 non-null  int32  \n",
      " 4   education_num        32561 non-null  float64\n",
      " 5   marital_status       32561 non-null  int32  \n",
      " 6   occupation           32561 non-null  int32  \n",
      " 7   relationship         32561 non-null  int32  \n",
      " 8   capital_gain         32561 non-null  float64\n",
      " 9   capital_loss         32561 non-null  float64\n",
      " 10  hours_per_week       32561 non-null  float64\n",
      " 11  native_country       32561 non-null  object \n",
      " 12  income               32561 non-null  object \n",
      " 13   Amer-Indian-Eskimo  32561 non-null  uint8  \n",
      " 14   Asian-Pac-Islander  32561 non-null  uint8  \n",
      " 15   Black               32561 non-null  uint8  \n",
      " 16   Other               32561 non-null  uint8  \n",
      " 17   White               32561 non-null  uint8  \n",
      " 18   Female              32561 non-null  uint8  \n",
      " 19   Male                32561 non-null  uint8  \n",
      "dtypes: float64(6), int32(5), object(2), uint8(7)\n",
      "memory usage: 2.8+ MB\n"
     ]
    }
   ],
   "source": [
    "data.info()"
   ]
  },
  {
   "cell_type": "code",
   "execution_count": 237,
   "id": "f910c196-8589-4eb6-b1ea-29de65e5da3e",
   "metadata": {},
   "outputs": [
    {
     "name": "stdout",
     "output_type": "stream",
     "text": [
      "[' United-States' ' Cuba' ' Jamaica' ' India' ' ?' ' Mexico' ' South'\n",
      " ' Puerto-Rico' ' Honduras' ' England' ' Canada' ' Germany' ' Iran'\n",
      " ' Philippines' ' Italy' ' Poland' ' Columbia' ' Cambodia' ' Thailand'\n",
      " ' Ecuador' ' Laos' ' Taiwan' ' Haiti' ' Portugal' ' Dominican-Republic'\n",
      " ' El-Salvador' ' France' ' Guatemala' ' China' ' Japan' ' Yugoslavia'\n",
      " ' Peru' ' Outlying-US(Guam-USVI-etc)' ' Scotland' ' Trinadad&Tobago'\n",
      " ' Greece' ' Nicaragua' ' Vietnam' ' Hong' ' Ireland' ' Hungary'\n",
      " ' Holand-Netherlands']\n",
      "42\n"
     ]
    }
   ],
   "source": [
    "# Encoding native_country feature\n",
    "unique = data.native_country.unique()\n",
    "print(unique)\n",
    "print(len(unique))"
   ]
  },
  {
   "cell_type": "code",
   "execution_count": 238,
   "id": "c0fd7b60-0491-4d5a-975a-47f23c1d7a64",
   "metadata": {},
   "outputs": [],
   "source": [
    "# hence it has 42 classes so use the label encoding.\n",
    "\n",
    "data.native_country = label_encoder.fit_transform(data.native_country)"
   ]
  },
  {
   "cell_type": "code",
   "execution_count": 239,
   "id": "7e5c9dc2-a0ce-4c36-a597-f98591144352",
   "metadata": {},
   "outputs": [
    {
     "data": {
      "text/plain": [
       "array([39,  5, 23, 19,  0, 26, 35, 33, 16,  9,  2, 11, 20, 30, 22, 31,  4,\n",
       "        1, 37,  7, 25, 36, 14, 32,  6,  8, 10, 13,  3, 24, 41, 29, 28, 34,\n",
       "       38, 12, 27, 40, 17, 21, 18, 15])"
      ]
     },
     "execution_count": 239,
     "metadata": {},
     "output_type": "execute_result"
    }
   ],
   "source": [
    "data.native_country.unique()"
   ]
  },
  {
   "cell_type": "code",
   "execution_count": 240,
   "id": "57c8524a-0e98-4553-b6a9-851791629343",
   "metadata": {},
   "outputs": [
    {
     "name": "stdout",
     "output_type": "stream",
     "text": [
      "<class 'pandas.core.frame.DataFrame'>\n",
      "RangeIndex: 32561 entries, 0 to 32560\n",
      "Data columns (total 20 columns):\n",
      " #   Column               Non-Null Count  Dtype  \n",
      "---  ------               --------------  -----  \n",
      " 0   age                  32561 non-null  float64\n",
      " 1   workclass            32561 non-null  int32  \n",
      " 2   fnlwgt               32561 non-null  float64\n",
      " 3   education            32561 non-null  int32  \n",
      " 4   education_num        32561 non-null  float64\n",
      " 5   marital_status       32561 non-null  int32  \n",
      " 6   occupation           32561 non-null  int32  \n",
      " 7   relationship         32561 non-null  int32  \n",
      " 8   capital_gain         32561 non-null  float64\n",
      " 9   capital_loss         32561 non-null  float64\n",
      " 10  hours_per_week       32561 non-null  float64\n",
      " 11  native_country       32561 non-null  int32  \n",
      " 12  income               32561 non-null  object \n",
      " 13   Amer-Indian-Eskimo  32561 non-null  uint8  \n",
      " 14   Asian-Pac-Islander  32561 non-null  uint8  \n",
      " 15   Black               32561 non-null  uint8  \n",
      " 16   Other               32561 non-null  uint8  \n",
      " 17   White               32561 non-null  uint8  \n",
      " 18   Female              32561 non-null  uint8  \n",
      " 19   Male                32561 non-null  uint8  \n",
      "dtypes: float64(6), int32(6), object(1), uint8(7)\n",
      "memory usage: 2.7+ MB\n"
     ]
    }
   ],
   "source": [
    "data.info()"
   ]
  },
  {
   "cell_type": "code",
   "execution_count": 241,
   "id": "83ee6ab4-bfe5-4c78-8b23-d5116379b9ac",
   "metadata": {},
   "outputs": [
    {
     "data": {
      "text/plain": [
       "0     <=50K\n",
       "1     <=50K\n",
       "2     <=50K\n",
       "3     <=50K\n",
       "4     <=50K\n",
       "Name: income, dtype: object"
      ]
     },
     "execution_count": 241,
     "metadata": {},
     "output_type": "execute_result"
    }
   ],
   "source": [
    "data.income.head()"
   ]
  },
  {
   "cell_type": "code",
   "execution_count": 242,
   "id": "ddd61e56-01f8-411e-a6a1-314fb864d3bf",
   "metadata": {},
   "outputs": [
    {
     "name": "stdout",
     "output_type": "stream",
     "text": [
      "[' <=50K' ' >50K']\n",
      "2\n"
     ]
    }
   ],
   "source": [
    "# Encoding the income feature.\n",
    "unique = data.income.unique()\n",
    "print(unique)\n",
    "print(len(unique))"
   ]
  },
  {
   "cell_type": "code",
   "execution_count": 243,
   "id": "9f2ec70c-5383-4e08-8c4c-fa3413eec887",
   "metadata": {},
   "outputs": [],
   "source": [
    "# hence it has only two classes so use the one_hot encoding\n",
    "\n",
    "features = pd.get_dummies(data.income)\n"
   ]
  },
  {
   "cell_type": "code",
   "execution_count": 244,
   "id": "9cd3409d-0f66-4e3e-a0b1-79790f4441ba",
   "metadata": {},
   "outputs": [],
   "source": [
    "data.drop(\"income\",axis=1, inplace= True)"
   ]
  },
  {
   "cell_type": "code",
   "execution_count": 245,
   "id": "91949c65-6217-4410-83ad-5e11819e1100",
   "metadata": {},
   "outputs": [],
   "source": [
    "data = pd.concat([data,features],axis=1)"
   ]
  },
  {
   "cell_type": "code",
   "execution_count": 246,
   "id": "3dfde4bd-4f52-4450-bc32-bd651715a7d4",
   "metadata": {},
   "outputs": [
    {
     "name": "stdout",
     "output_type": "stream",
     "text": [
      "<class 'pandas.core.frame.DataFrame'>\n",
      "RangeIndex: 32561 entries, 0 to 32560\n",
      "Data columns (total 21 columns):\n",
      " #   Column               Non-Null Count  Dtype  \n",
      "---  ------               --------------  -----  \n",
      " 0   age                  32561 non-null  float64\n",
      " 1   workclass            32561 non-null  int32  \n",
      " 2   fnlwgt               32561 non-null  float64\n",
      " 3   education            32561 non-null  int32  \n",
      " 4   education_num        32561 non-null  float64\n",
      " 5   marital_status       32561 non-null  int32  \n",
      " 6   occupation           32561 non-null  int32  \n",
      " 7   relationship         32561 non-null  int32  \n",
      " 8   capital_gain         32561 non-null  float64\n",
      " 9   capital_loss         32561 non-null  float64\n",
      " 10  hours_per_week       32561 non-null  float64\n",
      " 11  native_country       32561 non-null  int32  \n",
      " 12   Amer-Indian-Eskimo  32561 non-null  uint8  \n",
      " 13   Asian-Pac-Islander  32561 non-null  uint8  \n",
      " 14   Black               32561 non-null  uint8  \n",
      " 15   Other               32561 non-null  uint8  \n",
      " 16   White               32561 non-null  uint8  \n",
      " 17   Female              32561 non-null  uint8  \n",
      " 18   Male                32561 non-null  uint8  \n",
      " 19   <=50K               32561 non-null  uint8  \n",
      " 20   >50K                32561 non-null  uint8  \n",
      "dtypes: float64(6), int32(6), uint8(9)\n",
      "memory usage: 2.5 MB\n"
     ]
    }
   ],
   "source": [
    "data.info()"
   ]
  },
  {
   "cell_type": "markdown",
   "id": "3156cc5d-f327-4b2c-af5b-5e71ce666395",
   "metadata": {},
   "source": [
    "## Task 3 : Feature Engineering"
   ]
  },
  {
   "cell_type": "code",
   "execution_count": 247,
   "id": "2c92abd4-e534-4ec4-b306-981baf6de046",
   "metadata": {},
   "outputs": [
    {
     "data": {
      "image/png": "[encoded data removed]",
      "text/plain": [
       "<Figure size 640x480 with 1 Axes>"
      ]
     },
     "metadata": {},
     "output_type": "display_data"
    },
    {
     "data": {
      "image/png": "[encoded data removed]",
      "text/plain": [
       "<Figure size 640x480 with 1 Axes>"
      ]
     },
     "metadata": {},
     "output_type": "display_data"
    },
    {
     "data": {
      "image/png": "[encoded data removed]",
      "text/plain": [
       "<Figure size 640x480 with 1 Axes>"
      ]
     },
     "metadata": {},
     "output_type": "display_data"
    },
    {
     "data": {
      "image/png": "[encoded data removed]",
      "text/plain": [
       "<Figure size 640x480 with 1 Axes>"
      ]
     },
     "metadata": {},
     "output_type": "display_data"
    },
    {
     "data": {
      "image/png": "[encoded data removed]",
      "text/plain": [
       "<Figure size 640x480 with 1 Axes>"
      ]
     },
     "metadata": {},
     "output_type": "display_data"
    },
    {
     "data": {
      "image/png": "[encoded data removed]",
      "text/plain": [
       "<Figure size 640x480 with 1 Axes>"
      ]
     },
     "metadata": {},
     "output_type": "display_data"
    }
   ],
   "source": [
    "# Creating new features based o the old features.\n",
    "# let's visualize the numerical features to know the skewness.\n",
    "columns = [\"age\",\"fnlwgt\",\"education_num\",\"capital_gain\",\"capital_loss\",\"hours_per_week\"]\n",
    "for col in columns:\n",
    "    plt.hist(data[col])\n",
    "    plt.title(col)\n",
    "    plt.show()"
   ]
  },
  {
   "cell_type": "code",
   "execution_count": 248,
   "id": "121e6185-7183-4b96-9bec-9322a3a815d6",
   "metadata": {},
   "outputs": [],
   "source": [
    "# From the above graphs we can conclude that age feature has high skewness so transform the data using log function.\n",
    "\n",
    "def log_transform(x):\n",
    "    return np.log(x)"
   ]
  },
  {
   "cell_type": "code",
   "execution_count": 249,
   "id": "6322672a-aee8-4c5a-a5b4-210fb0dd79ac",
   "metadata": {},
   "outputs": [
    {
     "data": {
      "text/plain": [
       "0       -1.199417\n",
       "1       -0.793952\n",
       "2       -1.245937\n",
       "3       -0.706941\n",
       "4       -1.892564\n",
       "           ...   \n",
       "32556   -1.987874\n",
       "32557   -1.154965\n",
       "32558   -0.576887\n",
       "32559   -2.681022\n",
       "32560   -0.735111\n",
       "Name: age, Length: 32561, dtype: float64"
      ]
     },
     "execution_count": 249,
     "metadata": {},
     "output_type": "execute_result"
    }
   ],
   "source": [
    "transformed_age = log_transform(data.age)\n",
    "transformed_age"
   ]
  },
  {
   "cell_type": "code",
   "execution_count": 250,
   "id": "a135a298-5e4b-4bcc-8b98-012b7fdaec22",
   "metadata": {},
   "outputs": [
    {
     "data": {
      "text/plain": [
       "<Axes: xlabel='age', ylabel='Count'>"
      ]
     },
     "execution_count": 250,
     "metadata": {},
     "output_type": "execute_result"
    },
    {
     "data": {
      "image/png": "[encoded data removed]",
      "text/plain": [
       "<Figure size 640x480 with 1 Axes>"
      ]
     },
     "metadata": {},
     "output_type": "display_data"
    }
   ],
   "source": [
    "sns.histplot(transformed_age)\n",
    "# slightly skewness is reduced."
   ]
  },
  {
   "cell_type": "code",
   "execution_count": 251,
   "id": "ba871615-cea2-41fc-a880-3186415f7ff6",
   "metadata": {},
   "outputs": [],
   "source": [
    "data[\"log_age\"] =np.log(data.age)"
   ]
  },
  {
   "cell_type": "code",
   "execution_count": 252,
   "id": "48bc861d-3e72-4448-9d99-6de4d4db1c2a",
   "metadata": {},
   "outputs": [
    {
     "name": "stdout",
     "output_type": "stream",
     "text": [
      "<class 'pandas.core.frame.DataFrame'>\n",
      "RangeIndex: 32561 entries, 0 to 32560\n",
      "Data columns (total 22 columns):\n",
      " #   Column               Non-Null Count  Dtype  \n",
      "---  ------               --------------  -----  \n",
      " 0   age                  32561 non-null  float64\n",
      " 1   workclass            32561 non-null  int32  \n",
      " 2   fnlwgt               32561 non-null  float64\n",
      " 3   education            32561 non-null  int32  \n",
      " 4   education_num        32561 non-null  float64\n",
      " 5   marital_status       32561 non-null  int32  \n",
      " 6   occupation           32561 non-null  int32  \n",
      " 7   relationship         32561 non-null  int32  \n",
      " 8   capital_gain         32561 non-null  float64\n",
      " 9   capital_loss         32561 non-null  float64\n",
      " 10  hours_per_week       32561 non-null  float64\n",
      " 11  native_country       32561 non-null  int32  \n",
      " 12   Amer-Indian-Eskimo  32561 non-null  uint8  \n",
      " 13   Asian-Pac-Islander  32561 non-null  uint8  \n",
      " 14   Black               32561 non-null  uint8  \n",
      " 15   Other               32561 non-null  uint8  \n",
      " 16   White               32561 non-null  uint8  \n",
      " 17   Female              32561 non-null  uint8  \n",
      " 18   Male                32561 non-null  uint8  \n",
      " 19   <=50K               32561 non-null  uint8  \n",
      " 20   >50K                32561 non-null  uint8  \n",
      " 21  log_age              32561 non-null  float64\n",
      "dtypes: float64(7), int32(6), uint8(9)\n",
      "memory usage: 2.8 MB\n"
     ]
    }
   ],
   "source": [
    "data.info()"
   ]
  },
  {
   "cell_type": "code",
   "execution_count": 253,
   "id": "811734a6-3fbd-4729-986c-d76db6826ef2",
   "metadata": {},
   "outputs": [],
   "source": [
    "#  apply log function to the capital_gain and capital_loss\n",
    "data['log_gain']=np.log(data.capital_gain)\n",
    "data['log_loss'] = np.log(data.capital_loss)\n"
   ]
  },
  {
   "cell_type": "code",
   "execution_count": 254,
   "id": "1255c201-37cd-4cd7-ae49-4dfe0785a82b",
   "metadata": {},
   "outputs": [],
   "source": [
    "# hence when applying the log its giving infinite values so drop those columns.\n",
    "data.drop([\"log_gain\",\"log_loss\"],axis=1,inplace=True)"
   ]
  },
  {
   "cell_type": "code",
   "execution_count": 255,
   "id": "de6f3fe3-ccb3-4fb6-a7b8-ef8f601073c9",
   "metadata": {},
   "outputs": [
    {
     "name": "stdout",
     "output_type": "stream",
     "text": [
      "<class 'pandas.core.frame.DataFrame'>\n",
      "RangeIndex: 32561 entries, 0 to 32560\n",
      "Data columns (total 22 columns):\n",
      " #   Column               Non-Null Count  Dtype  \n",
      "---  ------               --------------  -----  \n",
      " 0   age                  32561 non-null  float64\n",
      " 1   workclass            32561 non-null  int32  \n",
      " 2   fnlwgt               32561 non-null  float64\n",
      " 3   education            32561 non-null  int32  \n",
      " 4   education_num        32561 non-null  float64\n",
      " 5   marital_status       32561 non-null  int32  \n",
      " 6   occupation           32561 non-null  int32  \n",
      " 7   relationship         32561 non-null  int32  \n",
      " 8   capital_gain         32561 non-null  float64\n",
      " 9   capital_loss         32561 non-null  float64\n",
      " 10  hours_per_week       32561 non-null  float64\n",
      " 11  native_country       32561 non-null  int32  \n",
      " 12   Amer-Indian-Eskimo  32561 non-null  uint8  \n",
      " 13   Asian-Pac-Islander  32561 non-null  uint8  \n",
      " 14   Black               32561 non-null  uint8  \n",
      " 15   Other               32561 non-null  uint8  \n",
      " 16   White               32561 non-null  uint8  \n",
      " 17   Female              32561 non-null  uint8  \n",
      " 18   Male                32561 non-null  uint8  \n",
      " 19   <=50K               32561 non-null  uint8  \n",
      " 20   >50K                32561 non-null  uint8  \n",
      " 21  log_age              32561 non-null  float64\n",
      "dtypes: float64(7), int32(6), uint8(9)\n",
      "memory usage: 2.8 MB\n"
     ]
    }
   ],
   "source": [
    "data.info()"
   ]
  },
  {
   "cell_type": "markdown",
   "id": "b333b7f4-71cd-4537-9f49-c61e33ce4586",
   "metadata": {},
   "source": [
    "## Task 4 : Feature Selection"
   ]
  },
  {
   "cell_type": "code",
   "execution_count": 256,
   "id": "c3d1482a-b1ff-43e5-94b9-0178839dd39d",
   "metadata": {},
   "outputs": [
    {
     "data": {
      "text/html": [
       "<style>#sk-container-id-3 {\n",
       "  /* Definition of color scheme common for light and dark mode */\n",
       "  --sklearn-color-text: black;\n",
       "  --sklearn-color-line: gray;\n",
       "  /* Definition of color scheme for unfitted estimators */\n",
       "  --sklearn-color-unfitted-level-0: #fff5e6;\n",
       "  --sklearn-color-unfitted-level-1: #f6e4d2;\n",
       "  --sklearn-color-unfitted-level-2: #ffe0b3;\n",
       "  --sklearn-color-unfitted-level-3: chocolate;\n",
       "  /* Definition of color scheme for fitted estimators */\n",
       "  --sklearn-color-fitted-level-0: #f0f8ff;\n",
       "  --sklearn-color-fitted-level-1: #d4ebff;\n",
       "  --sklearn-color-fitted-level-2: #b3dbfd;\n",
       "  --sklearn-color-fitted-level-3: cornflowerblue;\n",
       "\n",
       "  /* Specific color for light theme */\n",
       "  --sklearn-color-text-on-default-background: var(--sg-text-color, var(--theme-code-foreground, var(--jp-content-font-color1, black)));\n",
       "  --sklearn-color-background: var(--sg-background-color, var(--theme-background, var(--jp-layout-color0, white)));\n",
       "  --sklearn-color-border-box: var(--sg-text-color, var(--theme-code-foreground, var(--jp-content-font-color1, black)));\n",
       "  --sklearn-color-icon: #696969;\n",
       "\n",
       "  @media (prefers-color-scheme: dark) {\n",
       "    /* Redefinition of color scheme for dark theme */\n",
       "    --sklearn-color-text-on-default-background: var(--sg-text-color, var(--theme-code-foreground, var(--jp-content-font-color1, white)));\n",
       "    --sklearn-color-background: var(--sg-background-color, var(--theme-background, var(--jp-layout-color0, #111)));\n",
       "    --sklearn-color-border-box: var(--sg-text-color, var(--theme-code-foreground, var(--jp-content-font-color1, white)));\n",
       "    --sklearn-color-icon: #878787;\n",
       "  }\n",
       "}\n",
       "\n",
       "#sk-container-id-3 {\n",
       "  color: var(--sklearn-color-text);\n",
       "}\n",
       "\n",
       "#sk-container-id-3 pre {\n",
       "  padding: 0;\n",
       "}\n",
       "\n",
       "#sk-container-id-3 input.sk-hidden--visually {\n",
       "  border: 0;\n",
       "  clip: rect(1px 1px 1px 1px);\n",
       "  clip: rect(1px, 1px, 1px, 1px);\n",
       "  height: 1px;\n",
       "  margin: -1px;\n",
       "  overflow: hidden;\n",
       "  padding: 0;\n",
       "  position: absolute;\n",
       "  width: 1px;\n",
       "}\n",
       "\n",
       "#sk-container-id-3 div.sk-dashed-wrapped {\n",
       "  border: 1px dashed var(--sklearn-color-line);\n",
       "  margin: 0 0.4em 0.5em 0.4em;\n",
       "  box-sizing: border-box;\n",
       "  padding-bottom: 0.4em;\n",
       "  background-color: var(--sklearn-color-background);\n",
       "}\n",
       "\n",
       "#sk-container-id-3 div.sk-container {\n",
       "  /* jupyter's `normalize.less` sets `[hidden] { display: none; }`\n",
       "     but bootstrap.min.css set `[hidden] { display: none !important; }`\n",
       "     so we also need the `!important` here to be able to override the\n",
       "     default hidden behavior on the sphinx rendered scikit-learn.org.\n",
       "     See: https://github.com/scikit-learn/scikit-learn/issues/21755 */\n",
       "  display: inline-block !important;\n",
       "  position: relative;\n",
       "}\n",
       "\n",
       "#sk-container-id-3 div.sk-text-repr-fallback {\n",
       "  display: none;\n",
       "}\n",
       "\n",
       "div.sk-parallel-item,\n",
       "div.sk-serial,\n",
       "div.sk-item {\n",
       "  /* draw centered vertical line to link estimators */\n",
       "  background-image: linear-gradient(var(--sklearn-color-text-on-default-background), var(--sklearn-color-text-on-default-background));\n",
       "  background-size: 2px 100%;\n",
       "  background-repeat: no-repeat;\n",
       "  background-position: center center;\n",
       "}\n",
       "\n",
       "/* Parallel-specific style estimator block */\n",
       "\n",
       "#sk-container-id-3 div.sk-parallel-item::after {\n",
       "  content: \"\";\n",
       "  width: 100%;\n",
       "  border-bottom: 2px solid var(--sklearn-color-text-on-default-background);\n",
       "  flex-grow: 1;\n",
       "}\n",
       "\n",
       "#sk-container-id-3 div.sk-parallel {\n",
       "  display: flex;\n",
       "  align-items: stretch;\n",
       "  justify-content: center;\n",
       "  background-color: var(--sklearn-color-background);\n",
       "  position: relative;\n",
       "}\n",
       "\n",
       "#sk-container-id-3 div.sk-parallel-item {\n",
       "  display: flex;\n",
       "  flex-direction: column;\n",
       "}\n",
       "\n",
       "#sk-container-id-3 div.sk-parallel-item:first-child::after {\n",
       "  align-self: flex-end;\n",
       "  width: 50%;\n",
       "}\n",
       "\n",
       "#sk-container-id-3 div.sk-parallel-item:last-child::after {\n",
       "  align-self: flex-start;\n",
       "  width: 50%;\n",
       "}\n",
       "\n",
       "#sk-container-id-3 div.sk-parallel-item:only-child::after {\n",
       "  width: 0;\n",
       "}\n",
       "\n",
       "/* Serial-specific style estimator block */\n",
       "\n",
       "#sk-container-id-3 div.sk-serial {\n",
       "  display: flex;\n",
       "  flex-direction: column;\n",
       "  align-items: center;\n",
       "  background-color: var(--sklearn-color-background);\n",
       "  padding-right: 1em;\n",
       "  padding-left: 1em;\n",
       "}\n",
       "\n",
       "\n",
       "/* Toggleable style: style used for estimator/Pipeline/ColumnTransformer box that is\n",
       "clickable and can be expanded/collapsed.\n",
       "- Pipeline and ColumnTransformer use this feature and define the default style\n",
       "- Estimators will overwrite some part of the style using the `sk-estimator` class\n",
       "*/\n",
       "\n",
       "/* Pipeline and ColumnTransformer style (default) */\n",
       "\n",
       "#sk-container-id-3 div.sk-toggleable {\n",
       "  /* Default theme specific background. It is overwritten whether we have a\n",
       "  specific estimator or a Pipeline/ColumnTransformer */\n",
       "  background-color: var(--sklearn-color-background);\n",
       "}\n",
       "\n",
       "/* Toggleable label */\n",
       "#sk-container-id-3 label.sk-toggleable__label {\n",
       "  cursor: pointer;\n",
       "  display: block;\n",
       "  width: 100%;\n",
       "  margin-bottom: 0;\n",
       "  padding: 0.5em;\n",
       "  box-sizing: border-box;\n",
       "  text-align: center;\n",
       "}\n",
       "\n",
       "#sk-container-id-3 label.sk-toggleable__label-arrow:before {\n",
       "  /* Arrow on the left of the label */\n",
       "  content: \"▸\";\n",
       "  float: left;\n",
       "  margin-right: 0.25em;\n",
       "  color: var(--sklearn-color-icon);\n",
       "}\n",
       "\n",
       "#sk-container-id-3 label.sk-toggleable__label-arrow:hover:before {\n",
       "  color: var(--sklearn-color-text);\n",
       "}\n",
       "\n",
       "/* Toggleable content - dropdown */\n",
       "\n",
       "#sk-container-id-3 div.sk-toggleable__content {\n",
       "  max-height: 0;\n",
       "  max-width: 0;\n",
       "  overflow: hidden;\n",
       "  text-align: left;\n",
       "  /* unfitted */\n",
       "  background-color: var(--sklearn-color-unfitted-level-0);\n",
       "}\n",
       "\n",
       "#sk-container-id-3 div.sk-toggleable__content.fitted {\n",
       "  /* fitted */\n",
       "  background-color: var(--sklearn-color-fitted-level-0);\n",
       "}\n",
       "\n",
       "#sk-container-id-3 div.sk-toggleable__content pre {\n",
       "  margin: 0.2em;\n",
       "  border-radius: 0.25em;\n",
       "  color: var(--sklearn-color-text);\n",
       "  /* unfitted */\n",
       "  background-color: var(--sklearn-color-unfitted-level-0);\n",
       "}\n",
       "\n",
       "#sk-container-id-3 div.sk-toggleable__content.fitted pre {\n",
       "  /* unfitted */\n",
       "  background-color: var(--sklearn-color-fitted-level-0);\n",
       "}\n",
       "\n",
       "#sk-container-id-3 input.sk-toggleable__control:checked~div.sk-toggleable__content {\n",
       "  /* Expand drop-down */\n",
       "  max-height: 200px;\n",
       "  max-width: 100%;\n",
       "  overflow: auto;\n",
       "}\n",
       "\n",
       "#sk-container-id-3 input.sk-toggleable__control:checked~label.sk-toggleable__label-arrow:before {\n",
       "  content: \"▾\";\n",
       "}\n",
       "\n",
       "/* Pipeline/ColumnTransformer-specific style */\n",
       "\n",
       "#sk-container-id-3 div.sk-label input.sk-toggleable__control:checked~label.sk-toggleable__label {\n",
       "  color: var(--sklearn-color-text);\n",
       "  background-color: var(--sklearn-color-unfitted-level-2);\n",
       "}\n",
       "\n",
       "#sk-container-id-3 div.sk-label.fitted input.sk-toggleable__control:checked~label.sk-toggleable__label {\n",
       "  background-color: var(--sklearn-color-fitted-level-2);\n",
       "}\n",
       "\n",
       "/* Estimator-specific style */\n",
       "\n",
       "/* Colorize estimator box */\n",
       "#sk-container-id-3 div.sk-estimator input.sk-toggleable__control:checked~label.sk-toggleable__label {\n",
       "  /* unfitted */\n",
       "  background-color: var(--sklearn-color-unfitted-level-2);\n",
       "}\n",
       "\n",
       "#sk-container-id-3 div.sk-estimator.fitted input.sk-toggleable__control:checked~label.sk-toggleable__label {\n",
       "  /* fitted */\n",
       "  background-color: var(--sklearn-color-fitted-level-2);\n",
       "}\n",
       "\n",
       "#sk-container-id-3 div.sk-label label.sk-toggleable__label,\n",
       "#sk-container-id-3 div.sk-label label {\n",
       "  /* The background is the default theme color */\n",
       "  color: var(--sklearn-color-text-on-default-background);\n",
       "}\n",
       "\n",
       "/* On hover, darken the color of the background */\n",
       "#sk-container-id-3 div.sk-label:hover label.sk-toggleable__label {\n",
       "  color: var(--sklearn-color-text);\n",
       "  background-color: var(--sklearn-color-unfitted-level-2);\n",
       "}\n",
       "\n",
       "/* Label box, darken color on hover, fitted */\n",
       "#sk-container-id-3 div.sk-label.fitted:hover label.sk-toggleable__label.fitted {\n",
       "  color: var(--sklearn-color-text);\n",
       "  background-color: var(--sklearn-color-fitted-level-2);\n",
       "}\n",
       "\n",
       "/* Estimator label */\n",
       "\n",
       "#sk-container-id-3 div.sk-label label {\n",
       "  font-family: monospace;\n",
       "  font-weight: bold;\n",
       "  display: inline-block;\n",
       "  line-height: 1.2em;\n",
       "}\n",
       "\n",
       "#sk-container-id-3 div.sk-label-container {\n",
       "  text-align: center;\n",
       "}\n",
       "\n",
       "/* Estimator-specific */\n",
       "#sk-container-id-3 div.sk-estimator {\n",
       "  font-family: monospace;\n",
       "  border: 1px dotted var(--sklearn-color-border-box);\n",
       "  border-radius: 0.25em;\n",
       "  box-sizing: border-box;\n",
       "  margin-bottom: 0.5em;\n",
       "  /* unfitted */\n",
       "  background-color: var(--sklearn-color-unfitted-level-0);\n",
       "}\n",
       "\n",
       "#sk-container-id-3 div.sk-estimator.fitted {\n",
       "  /* fitted */\n",
       "  background-color: var(--sklearn-color-fitted-level-0);\n",
       "}\n",
       "\n",
       "/* on hover */\n",
       "#sk-container-id-3 div.sk-estimator:hover {\n",
       "  /* unfitted */\n",
       "  background-color: var(--sklearn-color-unfitted-level-2);\n",
       "}\n",
       "\n",
       "#sk-container-id-3 div.sk-estimator.fitted:hover {\n",
       "  /* fitted */\n",
       "  background-color: var(--sklearn-color-fitted-level-2);\n",
       "}\n",
       "\n",
       "/* Specification for estimator info (e.g. \"i\" and \"?\") */\n",
       "\n",
       "/* Common style for \"i\" and \"?\" */\n",
       "\n",
       ".sk-estimator-doc-link,\n",
       "a:link.sk-estimator-doc-link,\n",
       "a:visited.sk-estimator-doc-link {\n",
       "  float: right;\n",
       "  font-size: smaller;\n",
       "  line-height: 1em;\n",
       "  font-family: monospace;\n",
       "  background-color: var(--sklearn-color-background);\n",
       "  border-radius: 1em;\n",
       "  height: 1em;\n",
       "  width: 1em;\n",
       "  text-decoration: none !important;\n",
       "  margin-left: 1ex;\n",
       "  /* unfitted */\n",
       "  border: var(--sklearn-color-unfitted-level-1) 1pt solid;\n",
       "  color: var(--sklearn-color-unfitted-level-1);\n",
       "}\n",
       "\n",
       ".sk-estimator-doc-link.fitted,\n",
       "a:link.sk-estimator-doc-link.fitted,\n",
       "a:visited.sk-estimator-doc-link.fitted {\n",
       "  /* fitted */\n",
       "  border: var(--sklearn-color-fitted-level-1) 1pt solid;\n",
       "  color: var(--sklearn-color-fitted-level-1);\n",
       "}\n",
       "\n",
       "/* On hover */\n",
       "div.sk-estimator:hover .sk-estimator-doc-link:hover,\n",
       ".sk-estimator-doc-link:hover,\n",
       "div.sk-label-container:hover .sk-estimator-doc-link:hover,\n",
       ".sk-estimator-doc-link:hover {\n",
       "  /* unfitted */\n",
       "  background-color: var(--sklearn-color-unfitted-level-3);\n",
       "  color: var(--sklearn-color-background);\n",
       "  text-decoration: none;\n",
       "}\n",
       "\n",
       "div.sk-estimator.fitted:hover .sk-estimator-doc-link.fitted:hover,\n",
       ".sk-estimator-doc-link.fitted:hover,\n",
       "div.sk-label-container:hover .sk-estimator-doc-link.fitted:hover,\n",
       ".sk-estimator-doc-link.fitted:hover {\n",
       "  /* fitted */\n",
       "  background-color: var(--sklearn-color-fitted-level-3);\n",
       "  color: var(--sklearn-color-background);\n",
       "  text-decoration: none;\n",
       "}\n",
       "\n",
       "/* Span, style for the box shown on hovering the info icon */\n",
       ".sk-estimator-doc-link span {\n",
       "  display: none;\n",
       "  z-index: 9999;\n",
       "  position: relative;\n",
       "  font-weight: normal;\n",
       "  right: .2ex;\n",
       "  padding: .5ex;\n",
       "  margin: .5ex;\n",
       "  width: min-content;\n",
       "  min-width: 20ex;\n",
       "  max-width: 50ex;\n",
       "  color: var(--sklearn-color-text);\n",
       "  box-shadow: 2pt 2pt 4pt #999;\n",
       "  /* unfitted */\n",
       "  background: var(--sklearn-color-unfitted-level-0);\n",
       "  border: .5pt solid var(--sklearn-color-unfitted-level-3);\n",
       "}\n",
       "\n",
       ".sk-estimator-doc-link.fitted span {\n",
       "  /* fitted */\n",
       "  background: var(--sklearn-color-fitted-level-0);\n",
       "  border: var(--sklearn-color-fitted-level-3);\n",
       "}\n",
       "\n",
       ".sk-estimator-doc-link:hover span {\n",
       "  display: block;\n",
       "}\n",
       "\n",
       "/* \"?\"-specific style due to the `<a>` HTML tag */\n",
       "\n",
       "#sk-container-id-3 a.estimator_doc_link {\n",
       "  float: right;\n",
       "  font-size: 1rem;\n",
       "  line-height: 1em;\n",
       "  font-family: monospace;\n",
       "  background-color: var(--sklearn-color-background);\n",
       "  border-radius: 1rem;\n",
       "  height: 1rem;\n",
       "  width: 1rem;\n",
       "  text-decoration: none;\n",
       "  /* unfitted */\n",
       "  color: var(--sklearn-color-unfitted-level-1);\n",
       "  border: var(--sklearn-color-unfitted-level-1) 1pt solid;\n",
       "}\n",
       "\n",
       "#sk-container-id-3 a.estimator_doc_link.fitted {\n",
       "  /* fitted */\n",
       "  border: var(--sklearn-color-fitted-level-1) 1pt solid;\n",
       "  color: var(--sklearn-color-fitted-level-1);\n",
       "}\n",
       "\n",
       "/* On hover */\n",
       "#sk-container-id-3 a.estimator_doc_link:hover {\n",
       "  /* unfitted */\n",
       "  background-color: var(--sklearn-color-unfitted-level-3);\n",
       "  color: var(--sklearn-color-background);\n",
       "  text-decoration: none;\n",
       "}\n",
       "\n",
       "#sk-container-id-3 a.estimator_doc_link.fitted:hover {\n",
       "  /* fitted */\n",
       "  background-color: var(--sklearn-color-fitted-level-3);\n",
       "}\n",
       "</style><div id=\"sk-container-id-3\" class=\"sk-top-container\"><div class=\"sk-text-repr-fallback\"><pre>IsolationForest(contamination=0.01, random_state=10)</pre><b>In a Jupyter environment, please rerun this cell to show the HTML representation or trust the notebook. <br />On GitHub, the HTML representation is unable to render, please try loading this page with nbviewer.org.</b></div><div class=\"sk-container\" hidden><div class=\"sk-item\"><div class=\"sk-estimator fitted sk-toggleable\"><input class=\"sk-toggleable__control sk-hidden--visually\" id=\"sk-estimator-id-3\" type=\"checkbox\" checked><label for=\"sk-estimator-id-3\" class=\"sk-toggleable__label fitted sk-toggleable__label-arrow fitted\">&nbsp;&nbsp;IsolationForest<a class=\"sk-estimator-doc-link fitted\" rel=\"noreferrer\" target=\"_blank\" href=\"https://scikit-learn.org/1.5/modules/generated/sklearn.ensemble.IsolationForest.html\">?<span>Documentation for IsolationForest</span></a><span class=\"sk-estimator-doc-link fitted\">i<span>Fitted</span></span></label><div class=\"sk-toggleable__content fitted\"><pre>IsolationForest(contamination=0.01, random_state=10)</pre></div> </div></div></div></div>"
      ],
      "text/plain": [
       "IsolationForest(contamination=0.01, random_state=10)"
      ]
     },
     "execution_count": 256,
     "metadata": {},
     "output_type": "execute_result"
    }
   ],
   "source": [
    "# Using Isolation Forest algorithm to identify the outliers.\n",
    "\n",
    "# import the isolation forest library\n",
    "from sklearn.ensemble import IsolationForest\n",
    "clf = IsolationForest(random_state = 10 , contamination = 0.01)\n",
    "clf.fit(data[[\"age\",\"education\",\"education_num\",\"capital_gain\",\"capital_loss\"]])"
   ]
  },
  {
   "cell_type": "code",
   "execution_count": 257,
   "id": "711621e3-cef9-48c8-8ff8-a844dc258642",
   "metadata": {},
   "outputs": [],
   "source": [
    "y_pred_outliers = clf.predict(data[[\"age\",\"education\",\"education_num\",\"capital_gain\",\"capital_loss\"]])"
   ]
  },
  {
   "cell_type": "code",
   "execution_count": 258,
   "id": "34dfc8a2-4e05-46bf-bdb8-eece1ca3f9e6",
   "metadata": {},
   "outputs": [],
   "source": [
    "df= data[[\"age\",\"education\",\"education_num\",\"capital_gain\",\"capital_loss\"]]"
   ]
  },
  {
   "cell_type": "code",
   "execution_count": 259,
   "id": "4ff5c2f1-acb9-4863-981c-22f94345b157",
   "metadata": {},
   "outputs": [
    {
     "data": {
      "text/html": [
       "<div>\n",
       "<style scoped>\n",
       "    .dataframe tbody tr th:only-of-type {\n",
       "        vertical-align: middle;\n",
       "    }\n",
       "\n",
       "    .dataframe tbody tr th {\n",
       "        vertical-align: top;\n",
       "    }\n",
       "\n",
       "    .dataframe thead th {\n",
       "        text-align: right;\n",
       "    }\n",
       "</style>\n",
       "<table border=\"1\" class=\"dataframe\">\n",
       "  <thead>\n",
       "    <tr style=\"text-align: right;\">\n",
       "      <th></th>\n",
       "      <th>age</th>\n",
       "      <th>education</th>\n",
       "      <th>education_num</th>\n",
       "      <th>capital_gain</th>\n",
       "      <th>capital_loss</th>\n",
       "    </tr>\n",
       "  </thead>\n",
       "  <tbody>\n",
       "    <tr>\n",
       "      <th>0</th>\n",
       "      <td>0.301370</td>\n",
       "      <td>9</td>\n",
       "      <td>0.800000</td>\n",
       "      <td>0.021740</td>\n",
       "      <td>0.0</td>\n",
       "    </tr>\n",
       "    <tr>\n",
       "      <th>1</th>\n",
       "      <td>0.452055</td>\n",
       "      <td>9</td>\n",
       "      <td>0.800000</td>\n",
       "      <td>0.000000</td>\n",
       "      <td>0.0</td>\n",
       "    </tr>\n",
       "    <tr>\n",
       "      <th>2</th>\n",
       "      <td>0.287671</td>\n",
       "      <td>11</td>\n",
       "      <td>0.533333</td>\n",
       "      <td>0.000000</td>\n",
       "      <td>0.0</td>\n",
       "    </tr>\n",
       "    <tr>\n",
       "      <th>3</th>\n",
       "      <td>0.493151</td>\n",
       "      <td>1</td>\n",
       "      <td>0.400000</td>\n",
       "      <td>0.000000</td>\n",
       "      <td>0.0</td>\n",
       "    </tr>\n",
       "    <tr>\n",
       "      <th>4</th>\n",
       "      <td>0.150685</td>\n",
       "      <td>9</td>\n",
       "      <td>0.800000</td>\n",
       "      <td>0.000000</td>\n",
       "      <td>0.0</td>\n",
       "    </tr>\n",
       "    <tr>\n",
       "      <th>...</th>\n",
       "      <td>...</td>\n",
       "      <td>...</td>\n",
       "      <td>...</td>\n",
       "      <td>...</td>\n",
       "      <td>...</td>\n",
       "    </tr>\n",
       "    <tr>\n",
       "      <th>32556</th>\n",
       "      <td>0.136986</td>\n",
       "      <td>7</td>\n",
       "      <td>0.733333</td>\n",
       "      <td>0.000000</td>\n",
       "      <td>0.0</td>\n",
       "    </tr>\n",
       "    <tr>\n",
       "      <th>32557</th>\n",
       "      <td>0.315068</td>\n",
       "      <td>11</td>\n",
       "      <td>0.533333</td>\n",
       "      <td>0.000000</td>\n",
       "      <td>0.0</td>\n",
       "    </tr>\n",
       "    <tr>\n",
       "      <th>32558</th>\n",
       "      <td>0.561644</td>\n",
       "      <td>11</td>\n",
       "      <td>0.533333</td>\n",
       "      <td>0.000000</td>\n",
       "      <td>0.0</td>\n",
       "    </tr>\n",
       "    <tr>\n",
       "      <th>32559</th>\n",
       "      <td>0.068493</td>\n",
       "      <td>11</td>\n",
       "      <td>0.533333</td>\n",
       "      <td>0.000000</td>\n",
       "      <td>0.0</td>\n",
       "    </tr>\n",
       "    <tr>\n",
       "      <th>32560</th>\n",
       "      <td>0.479452</td>\n",
       "      <td>11</td>\n",
       "      <td>0.533333</td>\n",
       "      <td>0.150242</td>\n",
       "      <td>0.0</td>\n",
       "    </tr>\n",
       "  </tbody>\n",
       "</table>\n",
       "<p>32561 rows × 5 columns</p>\n",
       "</div>"
      ],
      "text/plain": [
       "            age  education  education_num  capital_gain  capital_loss\n",
       "0      0.301370          9       0.800000      0.021740           0.0\n",
       "1      0.452055          9       0.800000      0.000000           0.0\n",
       "2      0.287671         11       0.533333      0.000000           0.0\n",
       "3      0.493151          1       0.400000      0.000000           0.0\n",
       "4      0.150685          9       0.800000      0.000000           0.0\n",
       "...         ...        ...            ...           ...           ...\n",
       "32556  0.136986          7       0.733333      0.000000           0.0\n",
       "32557  0.315068         11       0.533333      0.000000           0.0\n",
       "32558  0.561644         11       0.533333      0.000000           0.0\n",
       "32559  0.068493         11       0.533333      0.000000           0.0\n",
       "32560  0.479452         11       0.533333      0.150242           0.0\n",
       "\n",
       "[32561 rows x 5 columns]"
      ]
     },
     "execution_count": 259,
     "metadata": {},
     "output_type": "execute_result"
    }
   ],
   "source": [
    "df"
   ]
  },
  {
   "cell_type": "code",
   "execution_count": 260,
   "id": "47bbb46e-df3d-49a1-91eb-24a6f42dd9cd",
   "metadata": {},
   "outputs": [
    {
     "data": {
      "text/plain": [
       "Int64Index([  106,   148,   222,   381,   404,   534,   588,   704,   729,\n",
       "              937,\n",
       "            ...\n",
       "            31828, 31972, 32090, 32138, 32198, 32230, 32238, 32367, 32370,\n",
       "            32518],\n",
       "           dtype='int64', length=326)"
      ]
     },
     "execution_count": 260,
     "metadata": {},
     "output_type": "execute_result"
    }
   ],
   "source": [
    "outliers.index"
   ]
  },
  {
   "cell_type": "code",
   "execution_count": 261,
   "id": "c3a3769d-14de-4181-bedc-b8cc6504abeb",
   "metadata": {},
   "outputs": [],
   "source": [
    "df[\"anomely\"] = clf.predict(df)"
   ]
  },
  {
   "cell_type": "code",
   "execution_count": 262,
   "id": "091f0edf-2964-470e-ac9a-d511928ef6d2",
   "metadata": {},
   "outputs": [
    {
     "data": {
      "text/plain": [
       "326"
      ]
     },
     "execution_count": 262,
     "metadata": {},
     "output_type": "execute_result"
    }
   ],
   "source": [
    "len(df[df[\"anomely\"] == -1])"
   ]
  },
  {
   "cell_type": "code",
   "execution_count": 263,
   "id": "93151b6e-35ee-4454-a001-a1132fca0925",
   "metadata": {},
   "outputs": [],
   "source": [
    "# it has almost 326 outliers , we have to treat the outliers, either delete then or replace them with appropriate values.\n",
    "# lets remove those outliers from the data\n",
    "outliers = df[df[\"anomely\"]== -1 ]"
   ]
  },
  {
   "cell_type": "code",
   "execution_count": null,
   "id": "7fff6199-d92d-4832-b7f4-bf315f806b9c",
   "metadata": {},
   "outputs": [],
   "source": [
    "# removing the outliers.\n",
    "for i in outliers.index:\n",
    "    data.drop(i,axis=0,inplace=True)"
   ]
  },
  {
   "cell_type": "code",
   "execution_count": 273,
   "id": "f5849c99-6a68-43c9-b242-2bc61576ab4f",
   "metadata": {},
   "outputs": [
    {
     "name": "stdout",
     "output_type": "stream",
     "text": [
      "<class 'pandas.core.frame.DataFrame'>\n",
      "Int64Index: 32235 entries, 0 to 32560\n",
      "Data columns (total 22 columns):\n",
      " #   Column               Non-Null Count  Dtype  \n",
      "---  ------               --------------  -----  \n",
      " 0   age                  32235 non-null  float64\n",
      " 1   workclass            32235 non-null  int32  \n",
      " 2   fnlwgt               32235 non-null  float64\n",
      " 3   education            32235 non-null  int32  \n",
      " 4   education_num        32235 non-null  float64\n",
      " 5   marital_status       32235 non-null  int32  \n",
      " 6   occupation           32235 non-null  int32  \n",
      " 7   relationship         32235 non-null  int32  \n",
      " 8   capital_gain         32235 non-null  float64\n",
      " 9   capital_loss         32235 non-null  float64\n",
      " 10  hours_per_week       32235 non-null  float64\n",
      " 11  native_country       32235 non-null  int32  \n",
      " 12   Amer-Indian-Eskimo  32235 non-null  uint8  \n",
      " 13   Asian-Pac-Islander  32235 non-null  uint8  \n",
      " 14   Black               32235 non-null  uint8  \n",
      " 15   Other               32235 non-null  uint8  \n",
      " 16   White               32235 non-null  uint8  \n",
      " 17   Female              32235 non-null  uint8  \n",
      " 18   Male                32235 non-null  uint8  \n",
      " 19   <=50K               32235 non-null  uint8  \n",
      " 20   >50K                32235 non-null  uint8  \n",
      " 21  log_age              32235 non-null  float64\n",
      "dtypes: float64(7), int32(6), uint8(9)\n",
      "memory usage: 4.0 MB\n"
     ]
    }
   ],
   "source": [
    "data.info()"
   ]
  },
  {
   "cell_type": "code",
   "execution_count": 274,
   "id": "a8570cdf-c0f7-4237-bcfe-e1b68be8f34b",
   "metadata": {},
   "outputs": [],
   "source": [
    "# PPS ( Predictive Power Score ) to find the relationships between features."
   ]
  },
  {
   "cell_type": "code",
   "execution_count": 279,
   "id": "4980ae55-0e84-4cba-a320-5976d6af28e2",
   "metadata": {},
   "outputs": [
    {
     "name": "stdout",
     "output_type": "stream",
     "text": [
      "Requirement already satisfied: ppscore in c:\\users\\venky\\anaconda3\\lib\\site-packages (1.3.0)\n",
      "Requirement already satisfied: pandas<2.0.0,>=1.0.0 in c:\\users\\venky\\anaconda3\\lib\\site-packages (from ppscore) (1.5.3)\n",
      "Requirement already satisfied: scikit-learn<2.0.0,>=0.20.2 in c:\\users\\venky\\anaconda3\\lib\\site-packages (from ppscore) (1.5.1)\n",
      "Requirement already satisfied: python-dateutil>=2.8.1 in c:\\users\\venky\\anaconda3\\lib\\site-packages (from pandas<2.0.0,>=1.0.0->ppscore) (2.8.2)\n",
      "Requirement already satisfied: pytz>=2020.1 in c:\\users\\venky\\anaconda3\\lib\\site-packages (from pandas<2.0.0,>=1.0.0->ppscore) (2023.3.post1)\n",
      "Requirement already satisfied: numpy>=1.21.0 in c:\\users\\venky\\anaconda3\\lib\\site-packages (from pandas<2.0.0,>=1.0.0->ppscore) (1.26.4)\n",
      "Requirement already satisfied: scipy>=1.6.0 in c:\\users\\venky\\anaconda3\\lib\\site-packages (from scikit-learn<2.0.0,>=0.20.2->ppscore) (1.10.1)\n",
      "Requirement already satisfied: joblib>=1.2.0 in c:\\users\\venky\\anaconda3\\lib\\site-packages (from scikit-learn<2.0.0,>=0.20.2->ppscore) (1.4.2)\n",
      "Requirement already satisfied: threadpoolctl>=3.1.0 in c:\\users\\venky\\anaconda3\\lib\\site-packages (from scikit-learn<2.0.0,>=0.20.2->ppscore) (3.5.0)\n",
      "Requirement already satisfied: six>=1.5 in c:\\users\\venky\\anaconda3\\lib\\site-packages (from python-dateutil>=2.8.1->pandas<2.0.0,>=1.0.0->ppscore) (1.16.0)\n"
     ]
    }
   ],
   "source": [
    "!pip install ppscore"
   ]
  },
  {
   "cell_type": "code",
   "execution_count": 280,
   "id": "b7bcf7c0-cf48-49d7-bb77-91d24137895d",
   "metadata": {},
   "outputs": [],
   "source": [
    "import ppscore as pps"
   ]
  },
  {
   "cell_type": "code",
   "execution_count": 283,
   "id": "b4d0982f-32d0-4812-8df9-9053892fb735",
   "metadata": {},
   "outputs": [],
   "source": [
    "relation_ships = pps.matrix(data)"
   ]
  },
  {
   "cell_type": "code",
   "execution_count": 300,
   "id": "29354f02-2656-4c45-88cc-e0302c130b7d",
   "metadata": {},
   "outputs": [],
   "source": [
    "filtered_data = relation_ships[(relation_ships['ppscore'] > 0.3) & (relation_ships['ppscore'] != 1)]"
   ]
  },
  {
   "cell_type": "code",
   "execution_count": 301,
   "id": "c470c679-97b1-4f6b-b232-40ca129091b6",
   "metadata": {},
   "outputs": [
    {
     "data": {
      "text/html": [
       "<div>\n",
       "<style scoped>\n",
       "    .dataframe tbody tr th:only-of-type {\n",
       "        vertical-align: middle;\n",
       "    }\n",
       "\n",
       "    .dataframe tbody tr th {\n",
       "        vertical-align: top;\n",
       "    }\n",
       "\n",
       "    .dataframe thead th {\n",
       "        text-align: right;\n",
       "    }\n",
       "</style>\n",
       "<table border=\"1\" class=\"dataframe\">\n",
       "  <thead>\n",
       "    <tr style=\"text-align: right;\">\n",
       "      <th></th>\n",
       "      <th>x</th>\n",
       "      <th>y</th>\n",
       "      <th>ppscore</th>\n",
       "      <th>case</th>\n",
       "      <th>is_valid_score</th>\n",
       "      <th>metric</th>\n",
       "      <th>baseline_score</th>\n",
       "      <th>model_score</th>\n",
       "      <th>model</th>\n",
       "    </tr>\n",
       "  </thead>\n",
       "  <tbody>\n",
       "    <tr>\n",
       "      <th>70</th>\n",
       "      <td>education</td>\n",
       "      <td>education_num</td>\n",
       "      <td>1.000000</td>\n",
       "      <td>regression</td>\n",
       "      <td>True</td>\n",
       "      <td>mean absolute error</td>\n",
       "      <td>0.1234</td>\n",
       "      <td>4.780570e-15</td>\n",
       "      <td>DecisionTreeRegressor()</td>\n",
       "    </tr>\n",
       "    <tr>\n",
       "      <th>159</th>\n",
       "      <td>relationship</td>\n",
       "      <td>marital_status</td>\n",
       "      <td>0.315296</td>\n",
       "      <td>regression</td>\n",
       "      <td>True</td>\n",
       "      <td>mean absolute error</td>\n",
       "      <td>1.1814</td>\n",
       "      <td>8.089095e-01</td>\n",
       "      <td>DecisionTreeRegressor()</td>\n",
       "    </tr>\n",
       "    <tr>\n",
       "      <th>324</th>\n",
       "      <td>Black</td>\n",
       "      <td>White</td>\n",
       "      <td>0.381910</td>\n",
       "      <td>regression</td>\n",
       "      <td>True</td>\n",
       "      <td>mean absolute error</td>\n",
       "      <td>0.1488</td>\n",
       "      <td>9.197175e-02</td>\n",
       "      <td>DecisionTreeRegressor()</td>\n",
       "    </tr>\n",
       "    <tr>\n",
       "      <th>366</th>\n",
       "      <td>White</td>\n",
       "      <td>Black</td>\n",
       "      <td>0.345206</td>\n",
       "      <td>regression</td>\n",
       "      <td>True</td>\n",
       "      <td>mean absolute error</td>\n",
       "      <td>0.1002</td>\n",
       "      <td>6.561034e-02</td>\n",
       "      <td>DecisionTreeRegressor()</td>\n",
       "    </tr>\n",
       "  </tbody>\n",
       "</table>\n",
       "</div>"
      ],
      "text/plain": [
       "                x               y   ppscore        case  is_valid_score  \\\n",
       "70      education   education_num  1.000000  regression            True   \n",
       "159  relationship  marital_status  0.315296  regression            True   \n",
       "324         Black           White  0.381910  regression            True   \n",
       "366         White           Black  0.345206  regression            True   \n",
       "\n",
       "                  metric  baseline_score   model_score  \\\n",
       "70   mean absolute error          0.1234  4.780570e-15   \n",
       "159  mean absolute error          1.1814  8.089095e-01   \n",
       "324  mean absolute error          0.1488  9.197175e-02   \n",
       "366  mean absolute error          0.1002  6.561034e-02   \n",
       "\n",
       "                       model  \n",
       "70   DecisionTreeRegressor()  \n",
       "159  DecisionTreeRegressor()  \n",
       "324  DecisionTreeRegressor()  \n",
       "366  DecisionTreeRegressor()  "
      ]
     },
     "execution_count": 301,
     "metadata": {},
     "output_type": "execute_result"
    }
   ],
   "source": [
    "filtered_data"
   ]
  },
  {
   "cell_type": "code",
   "execution_count": 311,
   "id": "65188ace-ce68-419f-9202-227a3403c390",
   "metadata": {},
   "outputs": [],
   "source": [
    "filtered_data = relation_ships[(relation_ships['ppscore'] < -0.1) & (relation_ships['ppscore'] != 1)]\n"
   ]
  },
  {
   "cell_type": "code",
   "execution_count": 312,
   "id": "ecd3b1b8-a177-43f8-be61-372e285f07fb",
   "metadata": {},
   "outputs": [
    {
     "data": {
      "text/html": [
       "<div>\n",
       "<style scoped>\n",
       "    .dataframe tbody tr th:only-of-type {\n",
       "        vertical-align: middle;\n",
       "    }\n",
       "\n",
       "    .dataframe tbody tr th {\n",
       "        vertical-align: top;\n",
       "    }\n",
       "\n",
       "    .dataframe thead th {\n",
       "        text-align: right;\n",
       "    }\n",
       "</style>\n",
       "<table border=\"1\" class=\"dataframe\">\n",
       "  <thead>\n",
       "    <tr style=\"text-align: right;\">\n",
       "      <th></th>\n",
       "      <th>x</th>\n",
       "      <th>y</th>\n",
       "      <th>ppscore</th>\n",
       "      <th>case</th>\n",
       "      <th>is_valid_score</th>\n",
       "      <th>metric</th>\n",
       "      <th>baseline_score</th>\n",
       "      <th>model_score</th>\n",
       "      <th>model</th>\n",
       "    </tr>\n",
       "  </thead>\n",
       "  <tbody>\n",
       "  </tbody>\n",
       "</table>\n",
       "</div>"
      ],
      "text/plain": [
       "Empty DataFrame\n",
       "Columns: [x, y, ppscore, case, is_valid_score, metric, baseline_score, model_score, model]\n",
       "Index: []"
      ]
     },
     "execution_count": 312,
     "metadata": {},
     "output_type": "execute_result"
    }
   ],
   "source": [
    "filtered_data"
   ]
  },
  {
   "cell_type": "markdown",
   "id": "b0cbec9d-38ed-4e6e-b287-ca177dd32afc",
   "metadata": {},
   "source": [
    " Hence there is no much relation ship between the features, almost only three pairs has 0.3 ~= 0.4 score .\n",
    "\n",
    " relationship - maritial_status : 0.32 \n",
    "\n",
    " black - White : 0.38\n",
    "\n",
    " white - black : 0.35"
   ]
  }
 ],
 "metadata": {
  "kernelspec": {
   "display_name": "Python 3 (ipykernel)",
   "language": "python",
   "name": "python3"
  },
  "language_info": {
   "codemirror_mode": {
    "name": "ipython",
    "version": 3
   },
   "file_extension": ".py",
   "mimetype": "text/x-python",
   "name": "python",
   "nbconvert_exporter": "python",
   "pygments_lexer": "ipython3",
   "version": "3.11.7"
  }
 },
 "nbformat": 4,
 "nbformat_minor": 5
}
