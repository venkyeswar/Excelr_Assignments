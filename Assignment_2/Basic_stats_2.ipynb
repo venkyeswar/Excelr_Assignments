{
 "cells": [
  {
   "cell_type": "code",
   "execution_count": 2,
   "id": "6c887dc9-8d71-471b-9fa7-cd44e3f92883",
   "metadata": {},
   "outputs": [],
   "source": [
    "# importing required libraries\n",
    "import pandas as pd\n",
    "import numpy as np\n",
    "from scipy import stats\n",
    "import warnings\n",
    "warnings.filterwarnings('ignore')\n",
    "\n"
   ]
  },
  {
   "cell_type": "code",
   "execution_count": 9,
   "id": "2de752ab-a7f0-4342-9ace-81c7e24799a9",
   "metadata": {},
   "outputs": [],
   "source": [
    "# loading the data\n",
    "data=pd.Series([1.13, 1.55, 1.43, 0.92, 1.25, 1.36, 1.32, 0.85, 1.07, 1.48, 1.20, 1.33, 1.18, 1.22, 1.29])\n",
    "df=pd.DataFrame(data,columns=['Characters'])\n"
   ]
  },
  {
   "cell_type": "code",
   "execution_count": 28,
   "id": "5aea9db0-1dac-41e2-974f-0c4328339c14",
   "metadata": {},
   "outputs": [
    {
     "data": {
      "text/html": [
       "<div>\n",
       "<style scoped>\n",
       "    .dataframe tbody tr th:only-of-type {\n",
       "        vertical-align: middle;\n",
       "    }\n",
       "\n",
       "    .dataframe tbody tr th {\n",
       "        vertical-align: top;\n",
       "    }\n",
       "\n",
       "    .dataframe thead th {\n",
       "        text-align: right;\n",
       "    }\n",
       "</style>\n",
       "<table border=\"1\" class=\"dataframe\">\n",
       "  <thead>\n",
       "    <tr style=\"text-align: right;\">\n",
       "      <th></th>\n",
       "      <th>Characters</th>\n",
       "    </tr>\n",
       "  </thead>\n",
       "  <tbody>\n",
       "    <tr>\n",
       "      <th>0</th>\n",
       "      <td>1.13</td>\n",
       "    </tr>\n",
       "    <tr>\n",
       "      <th>1</th>\n",
       "      <td>1.55</td>\n",
       "    </tr>\n",
       "    <tr>\n",
       "      <th>2</th>\n",
       "      <td>1.43</td>\n",
       "    </tr>\n",
       "    <tr>\n",
       "      <th>3</th>\n",
       "      <td>0.92</td>\n",
       "    </tr>\n",
       "    <tr>\n",
       "      <th>4</th>\n",
       "      <td>1.25</td>\n",
       "    </tr>\n",
       "  </tbody>\n",
       "</table>\n",
       "</div>"
      ],
      "text/plain": [
       "   Characters\n",
       "0        1.13\n",
       "1        1.55\n",
       "2        1.43\n",
       "3        0.92\n",
       "4        1.25"
      ]
     },
     "execution_count": 28,
     "metadata": {},
     "output_type": "execute_result"
    }
   ],
   "source": [
    "df.head()"
   ]
  },
  {
   "cell_type": "code",
   "execution_count": 20,
   "id": "a2ea0afd-ff2a-4e56-aba5-4588d84fbdf6",
   "metadata": {},
   "outputs": [
    {
     "name": "stdout",
     "output_type": "stream",
     "text": [
      "<class 'pandas.core.frame.DataFrame'>\n",
      "Index: 15 entries, 0 to 14\n",
      "Data columns (total 1 columns):\n",
      " #   Column      Non-Null Count  Dtype  \n",
      "---  ------      --------------  -----  \n",
      " 0   Characters  15 non-null     float64\n",
      "dtypes: float64(1)\n",
      "memory usage: 240.0 bytes\n"
     ]
    }
   ],
   "source": [
    "df.info()"
   ]
  },
  {
   "cell_type": "code",
   "execution_count": 53,
   "id": "55873050-53ca-43e2-b1bb-3aa445d015ec",
   "metadata": {},
   "outputs": [],
   "source": [
    "t_value=stats.t.ppf(0.995,df=14)"
   ]
  },
  {
   "cell_type": "code",
   "execution_count": 54,
   "id": "d560d090-e11f-49a2-a6c3-50368ba662c8",
   "metadata": {},
   "outputs": [
    {
     "data": {
      "text/plain": [
       "2.97684273411266"
      ]
     },
     "execution_count": 54,
     "metadata": {},
     "output_type": "execute_result"
    }
   ],
   "source": [
    "t_value"
   ]
  },
  {
   "cell_type": "code",
   "execution_count": 56,
   "id": "2df4aee5-6b81-440b-b8ee-af3d815a1c26",
   "metadata": {},
   "outputs": [
    {
     "data": {
      "text/plain": [
       "0.19316412956959936"
      ]
     },
     "execution_count": 56,
     "metadata": {},
     "output_type": "execute_result"
    }
   ],
   "source": [
    "std_s=df.Characters.std()\n",
    "std_s"
   ]
  },
  {
   "cell_type": "code",
   "execution_count": 57,
   "id": "9a3539e3-ebfb-4501-85eb-3a6714926720",
   "metadata": {},
   "outputs": [
    {
     "data": {
      "text/plain": [
       "3.872983346207417"
      ]
     },
     "execution_count": 57,
     "metadata": {},
     "output_type": "execute_result"
    }
   ],
   "source": [
    "sqrt_n=np.sqrt(15)\n",
    "sqrt_n"
   ]
  },
  {
   "cell_type": "code",
   "execution_count": 58,
   "id": "40702d42-4994-4dfe-9f53-1587396c199c",
   "metadata": {},
   "outputs": [],
   "source": [
    "Margin_error=t_value*(std_s/sqrt_n)"
   ]
  },
  {
   "cell_type": "code",
   "execution_count": 59,
   "id": "a0427be4-c3ee-4e15-bca6-fc508a0493ed",
   "metadata": {},
   "outputs": [
    {
     "data": {
      "text/plain": [
       "0.1484693282152996"
      ]
     },
     "execution_count": 59,
     "metadata": {},
     "output_type": "execute_result"
    }
   ],
   "source": [
    "Margin_error"
   ]
  },
  {
   "cell_type": "code",
   "execution_count": 60,
   "id": "6535e258-f064-43c9-8dad-d998de3b634e",
   "metadata": {},
   "outputs": [
    {
     "data": {
      "text/plain": [
       "1.2386666666666666"
      ]
     },
     "execution_count": 60,
     "metadata": {},
     "output_type": "execute_result"
    }
   ],
   "source": [
    "x=df.Characters.mean()\n",
    "x"
   ]
  },
  {
   "cell_type": "code",
   "execution_count": 61,
   "id": "85745891-f2db-48cc-8a7c-4a77f286d864",
   "metadata": {},
   "outputs": [
    {
     "data": {
      "text/plain": [
       "[1.09, 1.387]"
      ]
     },
     "execution_count": 61,
     "metadata": {},
     "output_type": "execute_result"
    }
   ],
   "source": [
    "[(x-Margin_error).round(3),(x+Margin_error).round(3)]"
   ]
  },
  {
   "cell_type": "code",
   "execution_count": 63,
   "id": "bfec74c4-836c-4889-be38-a8d3fe8a7c10",
   "metadata": {},
   "outputs": [
    {
     "data": {
      "text/plain": [
       "2.5758293035489004"
      ]
     },
     "execution_count": 63,
     "metadata": {},
     "output_type": "execute_result"
    }
   ],
   "source": [
    "z_value=stats.norm.ppf(0.995)\n",
    "z_value"
   ]
  },
  {
   "cell_type": "code",
   "execution_count": 64,
   "id": "d3236842-9b44-48ee-9275-d699b3e8b7ce",
   "metadata": {},
   "outputs": [
    {
     "data": {
      "text/plain": [
       "3.872983346207417"
      ]
     },
     "execution_count": 64,
     "metadata": {},
     "output_type": "execute_result"
    }
   ],
   "source": [
    "sqrt_n"
   ]
  },
  {
   "cell_type": "code",
   "execution_count": 65,
   "id": "e6a5603d-7c04-496c-8061-00fac00f70f5",
   "metadata": {},
   "outputs": [],
   "source": [
    "Margin_of_error = z_value*(0.2/sqrt_n)"
   ]
  },
  {
   "cell_type": "code",
   "execution_count": 66,
   "id": "f75d88a0-66c0-4436-965b-f384dfcf62b7",
   "metadata": {},
   "outputs": [
    {
     "data": {
      "text/plain": [
       "0.13301525327090588"
      ]
     },
     "execution_count": 66,
     "metadata": {},
     "output_type": "execute_result"
    }
   ],
   "source": [
    "Margin_of_error"
   ]
  },
  {
   "cell_type": "code",
   "execution_count": 68,
   "id": "ffee0a83-1e52-49f6-91e5-386096e51530",
   "metadata": {},
   "outputs": [
    {
     "data": {
      "text/plain": [
       "1.2386666666666666"
      ]
     },
     "execution_count": 68,
     "metadata": {},
     "output_type": "execute_result"
    }
   ],
   "source": [
    "x"
   ]
  },
  {
   "cell_type": "code",
   "execution_count": 69,
   "id": "db73d958-3d0d-44cf-a93e-e6bab2173b43",
   "metadata": {},
   "outputs": [
    {
     "data": {
      "text/plain": [
       "[1.106, 1.372]"
      ]
     },
     "execution_count": 69,
     "metadata": {},
     "output_type": "execute_result"
    }
   ],
   "source": [
    "[(x-Margin_of_error).round(3),(x+Margin_of_error).round(3)]"
   ]
  },
  {
   "cell_type": "code",
   "execution_count": null,
   "id": "d0b0f2a1-20db-4136-a8e6-376d2fa18540",
   "metadata": {},
   "outputs": [],
   "source": []
  }
 ],
 "metadata": {
  "kernelspec": {
   "display_name": "Python 3 (ipykernel)",
   "language": "python",
   "name": "python3"
  },
  "language_info": {
   "codemirror_mode": {
    "name": "ipython",
    "version": 3
   },
   "file_extension": ".py",
   "mimetype": "text/x-python",
   "name": "python",
   "nbconvert_exporter": "python",
   "pygments_lexer": "ipython3",
   "version": "3.11.7"
  }
 },
 "nbformat": 4,
 "nbformat_minor": 5
}
