{
 "cells": [
  {
   "cell_type": "markdown",
   "id": "f6048d19-9a1b-493c-b2e9-4918985c68c7",
   "metadata": {},
   "source": [
    "# Task 1: Hypothesis Testing\n",
    "## Problem Statement: \n",
    "Bombay hospitality Ltd. operates a franchise model for producing exotic Norwegian dinners throughout New England. The operating cost for a franchise in a week (W) is given by the equation W = $1,000 + $5X, where X represents the number of units produced in a week. Recent feedback from restaurant owners suggests that this cost model may no longer be accurate, as their observed weekly operating costs are higher.\n",
    "\n",
    "## Objective: \n",
    "To investigate the restaurant owners claim about the increase in weekly operating costs using hypothesis testing.\n",
    "\n",
    "## Given data:\n",
    "Equation given by Model W=$1000 + $5*X\n",
    "\n",
    "Sample mean Weekly Cost = 3,050\n",
    "\n",
    "no of samples (n) = 25\n",
    "\n",
    "No.of Units produced in a week (X) is a normal distribution and mean is 600 units and standard deviation is 25 units\n",
    "\n",
    "\n",
    "# Hypothesis Testing:\n",
    "Hypothesis testing is a statistical method that is used in making statistical decisions using experimental data, hypothesis testing is basically an assumption that we make about the population parameters.\n",
    "\n"
   ]
  },
  {
   "cell_type": "markdown",
   "id": "82720301-565f-48aa-811c-67140bff0f61",
   "metadata": {},
   "source": [
    "## 1. Stating the Hypothesis statement:\n",
    "lets assume;\n",
    "\n",
    "\n",
    "**x**=the model is giving accurate costs (model is correct).\n",
    "\n",
    "\n",
    "**y**= the  model is not giving accurate costs (owner is correct).\n",
    "\n",
    "**µ** : weekly operating cost.\n",
    "\n",
    "\n",
    "**µ₀** : weekly operating cost calculated by model.\n",
    "\n",
    "\n",
    "**Null Hypothesis (H₀):** The weekly operating cost according to the model is accurate. (x is correct)\n",
    "\n",
    "\n",
    "    H₀ : µ = µ₀\n",
    "\n",
    "**Alternative Hypothesis (H1):** The weekly operating cost is higher than what the model suggests. (y is correct)\n",
    "\n",
    "\n",
    "    H₁ : µ > µ₀\n",
    "\n",
    "\n"
   ]
  },
  {
   "cell_type": "markdown",
   "id": "8c5e589e-92d3-4b72-9d3c-bc956b659313",
   "metadata": {},
   "source": [
    "## 2. Calculating The Test Statistic F-value\n",
    "\n",
    "given \n",
    "\n",
    "x̄ = 3050\n",
    "\n",
    "μ₀ = 1000 + 5*X ( x= 600 given) \n",
    "\n",
    "μ₀ = 1000 + 5* 600 = 4000\n",
    "\n",
    "σ = 5 * 25 = 125\n",
    "\n",
    "n = 25\n",
    "\n",
    "here we have population mean σ is given so we can go with z-distribution but here the n is less than 30 so t- test is considered.\n",
    "\n",
    "T = (x̄ - μ₀)/(σ/sqrt(n))\n",
    "\n",
    "\n",
    "\n"
   ]
  },
  {
   "cell_type": "code",
   "execution_count": 3,
   "id": "48f546b9-81c7-4d9e-9433-f0a9d6a40172",
   "metadata": {},
   "outputs": [
    {
     "name": "stdout",
     "output_type": "stream",
     "text": [
      "the t-statistic value is :-38.0\n"
     ]
    }
   ],
   "source": [
    "# importing the stats method from scipy library \n",
    "\n",
    "import numpy as np\n",
    "from scipy import stats\n",
    "\n",
    "x = 3050\n",
    "mu_0 = 4000\n",
    "sigma = 125\n",
    "n = 25\n",
    "\n",
    "t_statistic = (x - mu_0)/(sigma/np.sqrt(n))\n",
    "\n",
    "print(\"the t-statistic value is :{}\".format(t_statistic))"
   ]
  },
  {
   "cell_type": "markdown",
   "id": "882da19b-8809-449f-b715-e69abde6b004",
   "metadata": {},
   "source": [
    "## 3. Determine the Critical Value\n",
    "\n",
    "## Critical Value\n",
    "the critical value is defined as the t-value at the 5% alpha level\n",
    "\n",
    "( we have used the t-test for finding the test_statistics so critical value is to be calculated for t- distribution)\n",
    "\n",
    "alpha : level of significance ( percentage of error may occurs)\n",
    "\n",
    "critical_value =  t at 0.05  with n-1 as degree of freedom"
   ]
  },
  {
   "cell_type": "code",
   "execution_count": 7,
   "id": "dc1ae6da-0fa5-4f14-9afd-66022200aa2b",
   "metadata": {},
   "outputs": [
    {
     "name": "stdout",
     "output_type": "stream",
     "text": [
      "critical value is : 1.7109\n"
     ]
    }
   ],
   "source": [
    "critical_value= stats.t.ppf(1-0.05,df=24)\n",
    "print(\"critical value is : {}\".format(critical_value.round(4)))\n"
   ]
  },
  {
   "cell_type": "markdown",
   "id": "b4cc2e4e-fc46-4c05-8cbf-40585454fe64",
   "metadata": {},
   "source": [
    "## 4. Making the Decision\n",
    "\n",
    "**If the test_statistic value is less than the critical_value then  accept the null hypothesis**\n",
    "\n",
    "**If the test_statistic value is greater than the critical_value then accept the null hypothesis**"
   ]
  },
  {
   "cell_type": "code",
   "execution_count": 8,
   "id": "35600ba2-935f-4cb1-bdb0-c0a70aa2684b",
   "metadata": {},
   "outputs": [
    {
     "name": "stdout",
     "output_type": "stream",
     "text": [
      "The weekly operating cost according to the model is accurate.\n",
      " so accept the null hypothesis and reject alternative hypothesis\n"
     ]
    }
   ],
   "source": [
    "Null_hypothesis = \"The weekly operating cost according to the model is accurate.\\n so accept the null hypothesis and reject alternative hypothesis\"\n",
    "Alternative_hypothesis= \" The weekly operating cost is higher than what the model suggests. so reject the null hypothesis and reject null hypothesis\"\n",
    "\n",
    "if t_statistic < critical_value:\n",
    "    print(Null_hypothesis)\n",
    "else:\n",
    "    print(Alternative_hypothesis)\n",
    "\n",
    "\n",
    "\n"
   ]
  },
  {
   "cell_type": "markdown",
   "id": "0f0dce50-111c-415a-b028-66962bab1e68",
   "metadata": {},
   "source": [
    "## 5. Conclusion\n",
    "Based on the hypothesis testing we accepted the null hypothesis , that is the model is giving the accurate cost so there is no strong evidence to support the restaurant owner's claim that \"the weekly operating costs are higher than the model suggests\" is rejected."
   ]
  },
  {
   "cell_type": "code",
   "execution_count": null,
   "id": "217314c5-7a75-45d0-b6d3-9c627d19cbca",
   "metadata": {},
   "outputs": [],
   "source": []
  }
 ],
 "metadata": {
  "kernelspec": {
   "display_name": "Python 3 (ipykernel)",
   "language": "python",
   "name": "python3"
  },
  "language_info": {
   "codemirror_mode": {
    "name": "ipython",
    "version": 3
   },
   "file_extension": ".py",
   "mimetype": "text/x-python",
   "name": "python",
   "nbconvert_exporter": "python",
   "pygments_lexer": "ipython3",
   "version": "3.11.7"
  }
 },
 "nbformat": 4,
 "nbformat_minor": 5
}
