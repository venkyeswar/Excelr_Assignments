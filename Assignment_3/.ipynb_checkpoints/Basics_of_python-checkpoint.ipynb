{
 "cells": [
  {
   "cell_type": "markdown",
   "id": "cc8cd3d5-d007-453b-a738-776b30bd8948",
   "metadata": {},
   "source": [
    "# Exercise 1 : Prime Numbers\n",
    "writing a python program to check whether a given number is prime number or not.\n",
    "## prime number:\n",
    "the prime number is a natural number greater than 1 that has no positive divisors other than 1 and itself"
   ]
  },
  {
   "cell_type": "code",
   "execution_count": 9,
   "id": "e5183fd5-6087-4224-843e-4cc4624178a5",
   "metadata": {},
   "outputs": [
    {
     "name": "stdin",
     "output_type": "stream",
     "text": [
      "Enter the Number:  @#@\n"
     ]
    },
    {
     "name": "stdout",
     "output_type": "stream",
     "text": [
      "Please enter a Valid Number !\n"
     ]
    },
    {
     "name": "stdin",
     "output_type": "stream",
     "text": [
      "Enter the Number:  123asdf\n"
     ]
    },
    {
     "name": "stdout",
     "output_type": "stream",
     "text": [
      "Please enter a Valid Number !\n"
     ]
    },
    {
     "name": "stdin",
     "output_type": "stream",
     "text": [
      "Enter the Number:  -122\n"
     ]
    },
    {
     "name": "stdout",
     "output_type": "stream",
     "text": [
      "Please Enter Positive Number!\n"
     ]
    },
    {
     "name": "stdin",
     "output_type": "stream",
     "text": [
      "Enter the Number:  0\n"
     ]
    },
    {
     "name": "stdout",
     "output_type": "stream",
     "text": [
      "0 & 1 are not accepted !\n"
     ]
    },
    {
     "name": "stdin",
     "output_type": "stream",
     "text": [
      "Enter the Number:  1\n"
     ]
    },
    {
     "name": "stdout",
     "output_type": "stream",
     "text": [
      "0 & 1 are not accepted !\n"
     ]
    },
    {
     "name": "stdin",
     "output_type": "stream",
     "text": [
      "Enter the Number:  1029\n"
     ]
    },
    {
     "name": "stdout",
     "output_type": "stream",
     "text": [
      "1029 is Not a Prime Number !\n"
     ]
    }
   ],
   "source": [
    "\n",
    "def get_number():\n",
    "    \"\"\"\n",
    "    this function is created to get the valid user input \n",
    "    at first the number is taken as 0 and the number is accepted from the user, and the entered number is verified\n",
    "    with different conditions like number is not equal to 0 or 1 it should not be -ve and decimal number,\n",
    "    if the number not satisfied any of the condition the get_number() functions as again called by giving a proper\n",
    "    error message so that the user can able to give input again, like this the loop is continued till getting the \n",
    "    valid number.\n",
    "    \"\"\"\n",
    "    number=0\n",
    "    try:\n",
    "        number=int(input(\"Enter the Number: \")) \n",
    "        if number == 1 or number == 0:          \n",
    "            print(\"0 & 1 are not accepted !\")   \n",
    "            return get_number()                 \n",
    "        elif number<1:\n",
    "            print(\"Please Enter Positive Number!\")\n",
    "            return get_number()  \n",
    "        else:\n",
    "            number=number\n",
    "    except:\n",
    "        print(\"Please enter a Valid Number !\")\n",
    "        return get_number()\n",
    "    return number               \n",
    "\n",
    "def PrimeNumber(num):      \n",
    "    \"\"\"\n",
    "    This function is created whether the given number is prime number or not \n",
    "    if the number is divisible with any of the number lies betweent the range of 2, sqrt(number), it is\n",
    "    treated as non-prime number thus it returns False, else it returns True.\n",
    "    \n",
    "    \"\"\"\n",
    "    number=num                 \n",
    "    for i  in range(2,int(num**0.5)+1):\n",
    "        if number%i==0:\n",
    "            return False\n",
    "    return True\n",
    "\n",
    "# get_number() function is called and the number is stored in the variable number.\n",
    "number=get_number()     \n",
    "\n",
    "# primenumber() function is called by passing the number to it, and gets the result as boolean.\n",
    "prime=PrimeNumber(number)\n",
    "\n",
    "if(prime):     \n",
    "    \"\"\"\n",
    "    if-else condition is used to check whether the result is true or false,\n",
    "    if it is true, then the entered number is prime ,else it is not a prime number.\n",
    "    \n",
    "    \"\"\"\n",
    "    print('{} is a Prime Number!'.format(number))\n",
    "else:\n",
    "    print(\"{} is Not a Prime Number !\".format(number))\n",
    "\n"
   ]
  },
  {
   "cell_type": "markdown",
   "id": "6185cfb7-33d1-458a-babf-ad032c9f284f",
   "metadata": {},
   "source": [
    "# Exercise 2: Product or Random Numbers\n",
    "Developping the python code  to generate two random variables and ask the user to give the product of them , once the answer is entered then verify the answer and give the appropriate message to the user."
   ]
  },
  {
   "cell_type": "code",
   "execution_count": 10,
   "id": "40cf0a27-dde9-4821-a5ae-523f12d5e526",
   "metadata": {},
   "outputs": [
    {
     "name": "stdin",
     "output_type": "stream",
     "text": [
      "Enter the Product of 15 X 5  75\n"
     ]
    },
    {
     "name": "stdout",
     "output_type": "stream",
     "text": [
      " Correct Answer! product of 15 and 5 is 75\n"
     ]
    }
   ],
   "source": [
    "import random  # import random library to get the random numbers\n",
    "\n",
    "def get_random():  \n",
    "    ''' \n",
    "    this function is created to generate two random numbers and return them.\n",
    "    here i have taken the ranges of two numbers to give the multiplications\n",
    "    upto 1 to 20 for the easy answers, we can modify the difficulty accordingly\n",
    "    '''\n",
    "    x = random.randrange(1,20)\n",
    "    y = random.randrange(1,10) \n",
    "    return [x,y]               \n",
    "\n",
    "def getProduct(x,y):   \n",
    "    \"\"\"\n",
    "    this function takes the x,y as parameters and also accepts the user input and \n",
    "    validate the user input with the product of x and y , and gives the appropriate message to the user.\n",
    "    \"\"\"\n",
    "    x=x;y=y                    \n",
    "    try:\n",
    "        ans=float(input(\"Enter the Product of {} X {} \".format(x,y)))\n",
    "        if ans == x*y:\n",
    "            print(\" Correct Answer! product of {} and {} is {}\".format(x,y,x*y))\n",
    "        else:\n",
    "            print(\"Wrong Answer! product of {} and {} is {}\".format(x,y,x*y))\n",
    "    except:\n",
    "        print(\"Enter the Valid Number!\")\n",
    "        return getProduct(x,y)\n",
    "\n",
    "# here get_random() funcion is called and the x,y values are stored in (x,y)\n",
    "(x,y)=get_random() \n",
    "\n",
    "# here getProduct() function is called by giving the x,y as parameters ,that function will done the further steps.\n",
    "getProduct(x,y)\n"
   ]
  },
  {
   "cell_type": "markdown",
   "id": "8d1923ec-71d7-4289-af74-56d8a37d6eb8",
   "metadata": {},
   "source": [
    "# Exercise 3: Squares of Even/Odd Numbers\r\n",
    "Creainge a Python script that prints the squares of all even or odd numbers within the range of 100 to 200.\r\n"
   ]
  },
  {
   "cell_type": "code",
   "execution_count": 14,
   "id": "15a2f069-10f6-4dbf-b4a5-0161e41c4015",
   "metadata": {},
   "outputs": [
    {
     "name": "stdout",
     "output_type": "stream",
     "text": [
      " Please enter the range to get the squares of odd and even numbers in between that range\n"
     ]
    },
    {
     "name": "stdin",
     "output_type": "stream",
     "text": [
      "Enter the Start Number: !@#\n"
     ]
    },
    {
     "name": "stdout",
     "output_type": "stream",
     "text": [
      " Please Give Valid Inputs\n"
     ]
    },
    {
     "name": "stdin",
     "output_type": "stream",
     "text": [
      "Enter the Start Number: asdf\n"
     ]
    },
    {
     "name": "stdout",
     "output_type": "stream",
     "text": [
      " Please Give Valid Inputs\n"
     ]
    },
    {
     "name": "stdin",
     "output_type": "stream",
     "text": [
      "Enter the Start Number: 12\n",
      "Enter the End Number: -23\n"
     ]
    },
    {
     "name": "stdout",
     "output_type": "stream",
     "text": [
      "please Enter the Positive Numbers:\n"
     ]
    },
    {
     "name": "stdin",
     "output_type": "stream",
     "text": [
      "Enter the Start Number: 200\n",
      "Enter the End Number: 100\n"
     ]
    },
    {
     "name": "stdout",
     "output_type": "stream",
     "text": [
      " The squares of the even numbers lying between 100 and 200 are: \n",
      " \n",
      "[10000, 10404, 10816, 11236, 11664, 12100, 12544, 12996, 13456, 13924, 14400, 14884, 15376, 15876, 16384, 16900, 17424, 17956, 18496, 19044, 19600, 20164, 20736, 21316, 21904, 22500, 23104, 23716, 24336, 24964, 25600, 26244, 26896, 27556, 28224, 28900, 29584, 30276, 30976, 31684, 32400, 33124, 33856, 34596, 35344, 36100, 36864, 37636, 38416, 39204, 40000]\n",
      " \n",
      " The squares of the odd numbers lying between 100 and 200 are: \n",
      "\n",
      "[10201, 10609, 11025, 11449, 11881, 12321, 12769, 13225, 13689, 14161, 14641, 15129, 15625, 16129, 16641, 17161, 17689, 18225, 18769, 19321, 19881, 20449, 21025, 21609, 22201, 22801, 23409, 24025, 24649, 25281, 25921, 26569, 27225, 27889, 28561, 29241, 29929, 30625, 31329, 32041, 32761, 33489, 34225, 34969, 35721, 36481, 37249, 38025, 38809, 39601]\n"
     ]
    }
   ],
   "source": [
    "# creating a function for printing the squares of odd numbers between 100 and 200\n",
    "\n",
    "message=\" Please enter the range to get the squares of odd and even numbers in between that range\"\n",
    "\n",
    "def GetInput(msg=message):\n",
    "    \n",
    "    \"\"\"\n",
    "    GetInput Function is created to get the range from the user,\n",
    "    here all possible errors are handled using the try-except block and\n",
    "    the correct input is returned from the function by sorting then in a correct order.\n",
    "    here I used the default functional arguments technique to give the error messages.\n",
    "    \n",
    "    \"\"\"\n",
    "    print(msg)\n",
    "    try:\n",
    "        x=int(input(\"Enter the Start Number:\" ))\n",
    "        y= int(input(\"Enter the End Number:\" ))\n",
    "        if x >= 0  and y >= 0:\n",
    "            if x<y:\n",
    "                return (x,y)\n",
    "            else:\n",
    "                return (y,x)\n",
    "            \n",
    "        else:\n",
    "            msg=\"please Enter the Positive Numbers:\"\n",
    "            return GetInput(msg)\n",
    "    except:\n",
    "        msg=\" Please Give Valid Inputs\" \n",
    "        return GetInput(msg)\n",
    "        \n",
    "x,y=GetInput()    \n",
    "\n",
    "class GetSquares:\n",
    "    \"\"\"\n",
    "    For this exercise we can simply take the range of 100 to 200 and check for the odd or even \n",
    "    and apply the squares for those numbers and then prints the numbers by using simple if-else conditions\n",
    "    But here i have used the OOPS concept to perform the given task and also it can checks within any given range.\n",
    "    \n",
    "    1. Here i have first created a class named get_squares, and initialized the method to accept the x,y variables (range)\n",
    "    and then created two empty lists.\n",
    "    2. Initialized a for loop to check the type of number and then the number is squared and appended to the appropriate \n",
    "    list.\n",
    "    \"\"\"\n",
    "    def __init__(self,x,y):\n",
    "        self.x = x\n",
    "        self.y = y\n",
    "        self.even_squares=[]\n",
    "        self.odd_squares=[]\n",
    "        for i in range(self.x,self.y+1):\n",
    "            if i%2 ==  0:\n",
    "                self.even_squares.append(i**2)\n",
    "            else:\n",
    "                self.odd_squares.append(i**2)\n",
    "    \"\"\"\n",
    "    here two methods are created one is even_sqrs, and another one is odd_sqrs, these will returns the \n",
    "    list of even_squares or odd_squares based on the request.\n",
    "    \"\"\"\n",
    "    \n",
    "    def even_sqrs(self):\n",
    "        return self.even_squares\n",
    "    def odd_sqrs(self):\n",
    "        return self.odd_squares\n",
    "\n",
    "# the object is created with the name get,and the range (100,200) is passed to the class.\n",
    "get=GetSquares(x,y)\n",
    "\n",
    "# Here the even_sqrs method is called and the returned list is stored in even variable and the printed.\n",
    "even=get.even_sqrs()\n",
    "print(\" The squares of the even numbers lying between {} and {} are: \\n \".format(x,y) )\n",
    "print(list(even))\n",
    "\n",
    "# Here the even_sqrs method is called and the returned list is stored in even variable and the printed.\n",
    "odd=get.odd_sqrs()\n",
    "print(\" \\n The squares of the odd numbers lying between {} and {} are: \\n\".format(x,y) )\n",
    "print(list(odd))\n",
    "            "
   ]
  },
  {
   "cell_type": "markdown",
   "id": "5b5dd0d8-80db-4244-8489-dbbc028e2fd3",
   "metadata": {},
   "source": [
    "# Exercise 4: Word counter\r\n",
    "writing a python program  to count the number of words in a given text\n",
    "\n",
    ".ex: text=\"this text is a sample text\" \n",
    "\n",
    "## \n",
    "result:\n",
    "\n",
    "this:1\n",
    "text:2\n",
    "is  :1\n",
    "a   :1\n",
    "sample:1\n",
    "\n",
    "\n",
    "\n",
    "\n"
   ]
  },
  {
   "cell_type": "code",
   "execution_count": 15,
   "id": "38966496-ec93-4cdd-a0e7-4b01468e9392",
   "metadata": {},
   "outputs": [
    {
     "name": "stdin",
     "output_type": "stream",
     "text": [
      "Enter the Text:  Test,.  test.. test,[] is a test case,, \n"
     ]
    },
    {
     "name": "stdout",
     "output_type": "stream",
     "text": [
      "****************************\n",
      " Entered text after cleaning:\n",
      "test    test   test    is a test case\n",
      "\n",
      "Words counts in the text is as follows: \n",
      "test : 4\n",
      "is : 1\n",
      "a : 1\n",
      "case : 1\n"
     ]
    }
   ],
   "source": [
    "import string # imported the string library to handle the puctuations in the text.\n",
    "class Text:\n",
    "    \"\"\"\n",
    "    Text class is created to handle the different tasks.\n",
    "    two methods are created:\n",
    "    1. GetInput(): This method is created to take the input from the user,\n",
    "       and translate_table is created it replaces the puntuations and special characters to white space.\n",
    "       and that is used to replace the punctuations present in the input, so that the unnecessary stuff is \n",
    "       removed from the Entered text and obtains cleaned text, and then that text is converted into \n",
    "       lower case and then sentence is returned to the variable.\n",
    "\n",
    "    2. GetCounts(): This method is created to know the word count in the sentence.\n",
    "       it accepts the text as a function argument , then it splits the sentence and stored in a list.\n",
    "       then created an empty dictionary and handled the word count by using for loop and if-else conditions.\n",
    "       and then finally the result (dictionary) is returned to the variable.\n",
    "       \n",
    "    \"\"\"\n",
    "    def GetInput(self):\n",
    "        EnteredText=input(\"Enter the Text: \")\n",
    "        translate_table=str.maketrans(string.punctuation,\" \"*len(string.punctuation))\n",
    "        modified_text=EnteredText.translate(translate_table).strip()\n",
    "        return modified_text.lower()\n",
    "        \n",
    "    def GetCount(self,text):\n",
    "        self.text=text.split()\n",
    "        word_counts={}\n",
    "        for word in self.text:\n",
    "            if word in word_counts:\n",
    "                word_counts[word]+=1\n",
    "            else:\n",
    "                word_counts[word]=1\n",
    "        return word_counts\n",
    "\n",
    "# get object is created to the Text class.\n",
    "get=Text()\n",
    "\n",
    "# GetInput method is called with get object and the result is stored in the text variable.\n",
    "text=get.GetInput()\n",
    "\n",
    "# GetCounts method is called by passing the text variable to it as an argument. and result is stored in wordCounts\n",
    "wordCounts=get.GetCount(text)\n",
    "\n",
    "# the result is printed by using the for loop.\n",
    "print(\"****************************\\n Entered text after cleaning:\\n{}\\n\".format(text))\n",
    "print(\"Words counts in the text is as follows: \")\n",
    "for i,j in wordCounts.items():\n",
    "    print(i,':',j)"
   ]
  },
  {
   "cell_type": "markdown",
   "id": "9ccb9fb7-b6ef-4667-a14a-cf67ade1e639",
   "metadata": {},
   "source": [
    "# Exercise 5: Check for Palindrome\n",
    "Write a Python function called is_palindrome that takes a string as input and returns True if the string is a palindrome, and False otherwise.\n",
    "\n",
    "## Palindrome: \n",
    "A palindrome is a word, phrase, number, or other sequence of characters that reads the same forward and backward,\n",
    "\n",
    "ignoring spaces, punctuation, and capitalization.\n"
   ]
  },
  {
   "cell_type": "code",
   "execution_count": 16,
   "id": "652dcfa8-b038-4db4-873b-065c5541dabd",
   "metadata": {},
   "outputs": [
    {
     "name": "stdin",
     "output_type": "stream",
     "text": [
      "Enter the text to check for palindrome: \n",
      " !!@#$%^&*\n"
     ]
    },
    {
     "name": "stdout",
     "output_type": "stream",
     "text": [
      "please Enter the Valid Text\n"
     ]
    },
    {
     "name": "stdin",
     "output_type": "stream",
     "text": [
      "Enter the text to check for palindrome: \n",
      "                            \n"
     ]
    },
    {
     "name": "stdout",
     "output_type": "stream",
     "text": [
      "please Enter the Valid Text\n"
     ]
    },
    {
     "name": "stdin",
     "output_type": "stream",
     "text": [
      "Enter the text to check for palindrome: \n",
      " !!@R..a$cE$C@#$@#$a..r\n"
     ]
    },
    {
     "name": "stdout",
     "output_type": "stream",
     "text": [
      "The Given text After Cleaning punctuations and spaces : \n",
      " racecar\n",
      "Given Text is a Palindrome !\n"
     ]
    }
   ],
   "source": [
    "import string\n",
    "# string library imported to handle the punctuations and white spaces in the string\n",
    "\n",
    "def is_palindrome():\n",
    "    \"\"\"\n",
    "    is_palindrome() function is created to take the user input and check for the palindrome\n",
    "    --> the string is taken from the user and strored in inputText variable.\n",
    "    --> translate_table is created to replace the punctuations with whitespace\n",
    "    --> And the by using the translated_table the punctuations in the string is replaced with white space.\n",
    "    --> then white spaces are removed and stored in the text variable.\n",
    "    --> after cleaning checked for the empty string if it is empty ,function is called again through regression metod.\n",
    "    --> if it is not empty then checked for the palindrome and returned the true or false according to it.\n",
    "    \"\"\"\n",
    "    InputText=input(\"Enter the text to check for palindrome: \\n\")\n",
    "    translate_table=str.maketrans(string.punctuation,\" \"*len(string.punctuation))\n",
    "    filteredText=InputText.translate(translate_table).lower().replace(\" \",\"\")\n",
    "    text=filteredText.replace(\" \",\"\").strip()\n",
    "\n",
    "    if len(text)==0:\n",
    "        print(\"please Enter the Valid Text\")\n",
    "        return is_palindrome()\n",
    "        \n",
    "    # checking for the palindrome\n",
    "    print(\"The Given text After Cleaning punctuations and spaces : \\n {}\".format(text))\n",
    "    \n",
    "    # here we can test for palindrome by writing if-else condition or directly return \n",
    "    # the condition it also returns true or false.\n",
    "    \n",
    "    # if text == text[::-1]:\n",
    "    #     return True\n",
    "    # else:\n",
    "    #     return False\n",
    "    return text == text[::-1]\n",
    "\n",
    "is_palindrome=is_palindrome()  \n",
    "\n",
    "# the True or False is stored in the is_palindrome by calling the is_palindrome function\n",
    "# The appropriate message is given to the user based on the result.\n",
    "if(is_palindrome):\n",
    "    print(\"Given Text is a Palindrome !\")\n",
    "else:\n",
    "    print(\"Given Text is not a Palindrome !\")\n",
    "\n",
    "\n",
    "\n",
    "\n",
    "\n",
    "    "
   ]
  },
  {
   "cell_type": "code",
   "execution_count": null,
   "id": "02012be5-d35f-4a7b-8b82-df77202c8798",
   "metadata": {},
   "outputs": [],
   "source": []
  }
 ],
 "metadata": {
  "kernelspec": {
   "display_name": "Python 3 (ipykernel)",
   "language": "python",
   "name": "python3"
  },
  "language_info": {
   "codemirror_mode": {
    "name": "ipython",
    "version": 3
   },
   "file_extension": ".py",
   "mimetype": "text/x-python",
   "name": "python",
   "nbconvert_exporter": "python",
   "pygments_lexer": "ipython3",
   "version": "3.11.7"
  }
 },
 "nbformat": 4,
 "nbformat_minor": 5
}
